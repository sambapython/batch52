{
 "cells": [
  {
   "cell_type": "code",
   "execution_count": 1,
   "metadata": {},
   "outputs": [
    {
     "name": "stdout",
     "output_type": "stream",
     "text": [
      "this is class\n"
     ]
    }
   ],
   "source": [
    "def fun():\n",
    "    print(\"this is fun\")\n",
    "class Emp:\n",
    "    print(\"this is class\")"
   ]
  },
  {
   "cell_type": "code",
   "execution_count": 2,
   "metadata": {},
   "outputs": [
    {
     "name": "stdout",
     "output_type": "stream",
     "text": [
      "this is class\n"
     ]
    }
   ],
   "source": [
    "def fun():\n",
    "    print(\"this is fun\")\n",
    "class Emp:\n",
    "    print(\"this is class\")\n",
    "    def fun1(a):\n",
    "        print(\"this is fun1 inside class\")"
   ]
  },
  {
   "cell_type": "code",
   "execution_count": 3,
   "metadata": {},
   "outputs": [
    {
     "name": "stdout",
     "output_type": "stream",
     "text": [
      "this is class\n",
      "Vedha 0.9\n"
     ]
    }
   ],
   "source": [
    "def fun():\n",
    "    print(\"this is fun\")\n",
    "class Emp:\n",
    "    print(\"this is class\")\n",
    "    name=\"Vedha\"\n",
    "    age=0.9\n",
    "    def fun1(a):\n",
    "        print(\"this is fun1 inside class\")\n",
    "    print(name, age)"
   ]
  },
  {
   "cell_type": "code",
   "execution_count": 4,
   "metadata": {},
   "outputs": [
    {
     "name": "stdout",
     "output_type": "stream",
     "text": [
      "this is class\n"
     ]
    },
    {
     "ename": "NameError",
     "evalue": "name 'name' is not defined",
     "output_type": "error",
     "traceback": [
      "\u001b[0;31m---------------------------------------------------------------------------\u001b[0m",
      "\u001b[0;31mNameError\u001b[0m                                 Traceback (most recent call last)",
      "\u001b[0;32m<ipython-input-4-493ef5c48ca2>\u001b[0m in \u001b[0;36m<module>\u001b[0;34m()\u001b[0m\n\u001b[1;32m      7\u001b[0m     \u001b[0;32mdef\u001b[0m \u001b[0mfun1\u001b[0m\u001b[0;34m(\u001b[0m\u001b[0ma\u001b[0m\u001b[0;34m)\u001b[0m\u001b[0;34m:\u001b[0m\u001b[0;34m\u001b[0m\u001b[0m\n\u001b[1;32m      8\u001b[0m         \u001b[0mprint\u001b[0m\u001b[0;34m(\u001b[0m\u001b[0;34m\"this is fun1 inside class\"\u001b[0m\u001b[0;34m)\u001b[0m\u001b[0;34m\u001b[0m\u001b[0m\n\u001b[0;32m----> 9\u001b[0;31m \u001b[0mprint\u001b[0m\u001b[0;34m(\u001b[0m\u001b[0mname\u001b[0m\u001b[0;34m,\u001b[0m\u001b[0mage\u001b[0m\u001b[0;34m)\u001b[0m\u001b[0;34m\u001b[0m\u001b[0m\n\u001b[0m",
      "\u001b[0;31mNameError\u001b[0m: name 'name' is not defined"
     ]
    }
   ],
   "source": [
    "def fun():\n",
    "    print(\"this is fun\")\n",
    "class Emp:\n",
    "    print(\"this is class\")\n",
    "    name=\"Vedha\"\n",
    "    age=0.9\n",
    "    def fun1(a):\n",
    "        print(\"this is fun1 inside class\")\n",
    "print(name,age)"
   ]
  },
  {
   "cell_type": "code",
   "execution_count": 5,
   "metadata": {},
   "outputs": [
    {
     "name": "stdout",
     "output_type": "stream",
     "text": [
      "this is class\n",
      "Vedha 0.9\n"
     ]
    }
   ],
   "source": [
    "def fun():\n",
    "    print(\"this is fun\")\n",
    "class Emp:\n",
    "    print(\"this is class\")\n",
    "    name=\"Vedha\"\n",
    "    age=0.9\n",
    "    def fun1(a):\n",
    "        print(\"this is fun1 inside class\")\n",
    "print(Emp.name,Emp.age)"
   ]
  },
  {
   "cell_type": "code",
   "execution_count": 6,
   "metadata": {},
   "outputs": [
    {
     "name": "stdout",
     "output_type": "stream",
     "text": [
      "this is class\n",
      "Vedha 0.9\n",
      "a= 100\n",
      "this is fun1 inside class\n"
     ]
    }
   ],
   "source": [
    "def fun():\n",
    "    print(\"this is fun\")\n",
    "class Emp:\n",
    "    print(\"this is class\")\n",
    "    name=\"Vedha\"\n",
    "    age=0.9\n",
    "    def fun1(a):\n",
    "        print(\"a=\",a)\n",
    "        print(\"this is fun1 inside class\")\n",
    "print(Emp.name,Emp.age)\n",
    "Emp.fun1(100)"
   ]
  },
  {
   "cell_type": "code",
   "execution_count": 8,
   "metadata": {},
   "outputs": [
    {
     "name": "stdout",
     "output_type": "stream",
     "text": [
      "this is class\n",
      "Vedhanvesh 25 2017-01-01 KHYAATHI maithrivanam\n",
      "a= 10\n",
      "this is fun1 inside class\n"
     ]
    }
   ],
   "source": [
    "def fun():\n",
    "    print(\"this is fun\")\n",
    "class Emp: # Emp is a class object\n",
    "    print(\"this is class\")\n",
    "    company_name=\"KHYAATHI\"\n",
    "    company_address=\"maithrivanam\"\n",
    "    def fun1(a):\n",
    "        print(\"a=\",a)\n",
    "        print(\"this is fun1 inside class\")\n",
    "vedha = Emp() # data object\n",
    "vedha.name=\"Vedhanvesh\"\n",
    "vedha.age=25\n",
    "vedha.doj=\"2017-01-01\"\n",
    "jay=Emp()\n",
    "jay.name=\"jayaram\"\n",
    "jay.age=45\n",
    "jay.doj=\"2015-08-01\"\n",
    "print(vedha.name, vedha.age, vedha.doj, vedha.company_name, vedha.company_address)\n",
    "Emp.fun1(10)"
   ]
  },
  {
   "cell_type": "code",
   "execution_count": 9,
   "metadata": {},
   "outputs": [
    {
     "name": "stdout",
     "output_type": "stream",
     "text": [
      "this is class\n",
      "Vedhanvesh 25 2017-01-01 KHYAATHI maithrivanam\n",
      "a= <__main__.Emp object at 0x7f6f700a3320>\n",
      "this is fun1 inside class\n"
     ]
    }
   ],
   "source": [
    "def fun():\n",
    "    print(\"this is fun\")\n",
    "class Emp: # Emp is a class object\n",
    "    print(\"this is class\")\n",
    "    company_name=\"KHYAATHI\"\n",
    "    company_address=\"maithrivanam\"\n",
    "    def fun1(a):\n",
    "        print(\"a=\",a)\n",
    "        print(\"this is fun1 inside class\")\n",
    "vedha = Emp() # data object\n",
    "vedha.name=\"Vedhanvesh\"\n",
    "vedha.age=25\n",
    "vedha.doj=\"2017-01-01\"\n",
    "jay=Emp()\n",
    "jay.name=\"jayaram\"\n",
    "jay.age=45\n",
    "jay.doj=\"2015-08-01\"\n",
    "print(vedha.name, vedha.age, vedha.doj, vedha.company_name, vedha.company_address)\n",
    "vedha.fun1()"
   ]
  },
  {
   "cell_type": "code",
   "execution_count": null,
   "metadata": {},
   "outputs": [],
   "source": [
    "l=[]\n",
    "l={}\n",
    "l=()"
   ]
  },
  {
   "cell_type": "code",
   "execution_count": 10,
   "metadata": {},
   "outputs": [
    {
     "name": "stdout",
     "output_type": "stream",
     "text": [
      "this is class\n",
      "Vedhanvesh 25 2017-01-01 KHYAATHI maithrivanam\n",
      "a= <__main__.Emp object at 0x7f6f700a1048>\n",
      "this is fun1 inside class\n"
     ]
    },
    {
     "ename": "TypeError",
     "evalue": "fun1() missing 1 required positional argument: 'a'",
     "output_type": "error",
     "traceback": [
      "\u001b[0;31m---------------------------------------------------------------------------\u001b[0m",
      "\u001b[0;31mTypeError\u001b[0m                                 Traceback (most recent call last)",
      "\u001b[0;32m<ipython-input-10-010812f96d68>\u001b[0m in \u001b[0;36m<module>\u001b[0;34m()\u001b[0m\n\u001b[1;32m     18\u001b[0m \u001b[0mprint\u001b[0m\u001b[0;34m(\u001b[0m\u001b[0mvedha\u001b[0m\u001b[0;34m.\u001b[0m\u001b[0mname\u001b[0m\u001b[0;34m,\u001b[0m \u001b[0mvedha\u001b[0m\u001b[0;34m.\u001b[0m\u001b[0mage\u001b[0m\u001b[0;34m,\u001b[0m \u001b[0mvedha\u001b[0m\u001b[0;34m.\u001b[0m\u001b[0mdoj\u001b[0m\u001b[0;34m,\u001b[0m \u001b[0mvedha\u001b[0m\u001b[0;34m.\u001b[0m\u001b[0mcompany_name\u001b[0m\u001b[0;34m,\u001b[0m \u001b[0mvedha\u001b[0m\u001b[0;34m.\u001b[0m\u001b[0mcompany_address\u001b[0m\u001b[0;34m)\u001b[0m\u001b[0;34m\u001b[0m\u001b[0m\n\u001b[1;32m     19\u001b[0m \u001b[0mvedha\u001b[0m\u001b[0;34m.\u001b[0m\u001b[0mfun1\u001b[0m\u001b[0;34m(\u001b[0m\u001b[0;34m)\u001b[0m\u001b[0;34m\u001b[0m\u001b[0m\n\u001b[0;32m---> 20\u001b[0;31m \u001b[0mEmp\u001b[0m\u001b[0;34m.\u001b[0m\u001b[0mfun1\u001b[0m\u001b[0;34m(\u001b[0m\u001b[0;34m)\u001b[0m\u001b[0;34m\u001b[0m\u001b[0m\n\u001b[0m",
      "\u001b[0;31mTypeError\u001b[0m: fun1() missing 1 required positional argument: 'a'"
     ]
    }
   ],
   "source": [
    "def fun():\n",
    "    print(\"this is fun\")\n",
    "class Emp: # Emp is a class object\n",
    "    print(\"this is class\")\n",
    "    company_name=\"KHYAATHI\"\n",
    "    company_address=\"maithrivanam\"\n",
    "    def fun1(a):\n",
    "        print(\"a=\",a)\n",
    "        print(\"this is fun1 inside class\")\n",
    "vedha = Emp() # data object\n",
    "vedha.name=\"Vedhanvesh\"\n",
    "vedha.age=25\n",
    "vedha.doj=\"2017-01-01\"\n",
    "jay=Emp()\n",
    "jay.name=\"jayaram\"\n",
    "jay.age=45\n",
    "jay.doj=\"2015-08-01\"\n",
    "print(vedha.name, vedha.age, vedha.doj, vedha.company_name, vedha.company_address)\n",
    "vedha.fun1()\n",
    "Emp.fun1()"
   ]
  },
  {
   "cell_type": "code",
   "execution_count": 11,
   "metadata": {},
   "outputs": [
    {
     "name": "stdout",
     "output_type": "stream",
     "text": [
      "this is class\n",
      "Vedhanvesh 25 2017-01-01 KHYAATHI maithrivanam\n",
      "a= <__main__.Emp object at 0x7f6f700a9cc0>\n",
      "this is fun1 inside class\n",
      "a= <__main__.Emp object at 0x7f6f700a9cc0>\n",
      "this is fun1 inside class\n",
      "a= 10\n",
      "this is fun1 inside class\n"
     ]
    }
   ],
   "source": [
    "def fun():\n",
    "    print(\"this is fun\")\n",
    "class Emp: # Emp is a class object\n",
    "    print(\"this is class\")\n",
    "    company_name=\"KHYAATHI\"\n",
    "    company_address=\"maithrivanam\"\n",
    "    def fun1(a):\n",
    "        print(\"a=\",a)\n",
    "        print(\"this is fun1 inside class\")\n",
    "vedha = Emp() # data object\n",
    "vedha.name=\"Vedhanvesh\"\n",
    "vedha.age=25\n",
    "vedha.doj=\"2017-01-01\"\n",
    "jay=Emp()\n",
    "jay.name=\"jayaram\"\n",
    "jay.age=45\n",
    "jay.doj=\"2015-08-01\"\n",
    "print(vedha.name, vedha.age, vedha.doj, vedha.company_name, vedha.company_address)\n",
    "vedha.fun1()\n",
    "Emp.fun1(vedha)\n",
    "Emp.fun1(10)"
   ]
  },
  {
   "cell_type": "code",
   "execution_count": 12,
   "metadata": {},
   "outputs": [
    {
     "name": "stdout",
     "output_type": "stream",
     "text": [
      "this is class\n"
     ]
    },
    {
     "ename": "TypeError",
     "evalue": "fun1() takes 1 positional argument but 2 were given",
     "output_type": "error",
     "traceback": [
      "\u001b[0;31m---------------------------------------------------------------------------\u001b[0m",
      "\u001b[0;31mTypeError\u001b[0m                                 Traceback (most recent call last)",
      "\u001b[0;32m<ipython-input-12-78a0ebc4ad5f>\u001b[0m in \u001b[0;36m<module>\u001b[0;34m()\u001b[0m\n\u001b[1;32m     10\u001b[0m \u001b[0mvedha\u001b[0m\u001b[0;34m.\u001b[0m\u001b[0mage\u001b[0m\u001b[0;34m=\u001b[0m\u001b[0;36m25\u001b[0m\u001b[0;34m\u001b[0m\u001b[0m\n\u001b[1;32m     11\u001b[0m \u001b[0mvedha\u001b[0m\u001b[0;34m.\u001b[0m\u001b[0mdoj\u001b[0m\u001b[0;34m=\u001b[0m\u001b[0;34m\"2017-01-01\"\u001b[0m\u001b[0;34m\u001b[0m\u001b[0m\n\u001b[0;32m---> 12\u001b[0;31m \u001b[0mvedha\u001b[0m\u001b[0;34m.\u001b[0m\u001b[0mfun1\u001b[0m\u001b[0;34m(\u001b[0m\u001b[0;36m10\u001b[0m\u001b[0;34m)\u001b[0m\u001b[0;34m\u001b[0m\u001b[0m\n\u001b[0m",
      "\u001b[0;31mTypeError\u001b[0m: fun1() takes 1 positional argument but 2 were given"
     ]
    }
   ],
   "source": [
    "class Emp: # Emp is a class object\n",
    "    print(\"this is class\")\n",
    "    company_name=\"KHYAATHI\"\n",
    "    company_address=\"maithrivanam\"\n",
    "    def fun1(a):\n",
    "        print(\"a=\",a)\n",
    "        print(\"this is fun1 inside class\")\n",
    "vedha = Emp() # data object\n",
    "vedha.name=\"Vedhanvesh\"\n",
    "vedha.age=25\n",
    "vedha.doj=\"2017-01-01\"\n",
    "vedha.fun1(10)"
   ]
  },
  {
   "cell_type": "code",
   "execution_count": 13,
   "metadata": {},
   "outputs": [
    {
     "name": "stdout",
     "output_type": "stream",
     "text": [
      "this is class\n",
      "self= <__main__.Emp object at 0x7f6f700a2278>\n",
      "this is fun1 inside class\n"
     ]
    }
   ],
   "source": [
    "class Emp: # Emp is a class object\n",
    "    print(\"this is class\")\n",
    "    company_name=\"KHYAATHI\"\n",
    "    company_address=\"maithrivanam\"\n",
    "    def fun1(self):\n",
    "        print(\"self=\",self)\n",
    "        print(\"this is fun1 inside class\")\n",
    "vedha = Emp() # data object\n",
    "vedha.name=\"Vedhanvesh\"\n",
    "vedha.age=25\n",
    "vedha.doj=\"2017-01-01\"\n",
    "vedha.fun1()"
   ]
  },
  {
   "cell_type": "code",
   "execution_count": 14,
   "metadata": {},
   "outputs": [
    {
     "name": "stdout",
     "output_type": "stream",
     "text": [
      "this is class\n",
      "self= <__main__.Emp object at 0x7f6f700a2198>\n",
      "this is fun1 inside class\n",
      "self= <__main__.Emp object at 0x7f6f700a2198>\n",
      "this is fun1 inside class\n"
     ]
    }
   ],
   "source": [
    "class Emp: # Emp is a class object\n",
    "    print(\"this is class\")\n",
    "    company_name=\"KHYAATHI\"\n",
    "    company_address=\"maithrivanam\"\n",
    "    def fun1(self):\n",
    "        print(\"self=\",self)\n",
    "        print(\"this is fun1 inside class\")\n",
    "vedha = Emp() # data object\n",
    "vedha.fun1()\n",
    "Emp.fun1(vedha)"
   ]
  },
  {
   "cell_type": "code",
   "execution_count": 16,
   "metadata": {},
   "outputs": [
    {
     "name": "stdout",
     "output_type": "stream",
     "text": [
      "this is class\n",
      "vedhanvesh 2017-10-01\n"
     ]
    }
   ],
   "source": [
    "class Emp: # Emp is a class object\n",
    "    print(\"this is class\")\n",
    "    company_name=\"KHYAATHI\"\n",
    "    company_address=\"maithrivanam\"\n",
    "    def get(self):\n",
    "        pass\n",
    "vedha = Emp() # data object\n",
    "vedha.name=\"vedhanvesh\"\n",
    "vedha.doj=\"2017-10-01\"\n",
    "print(vedha.name,vedha.doj)"
   ]
  },
  {
   "cell_type": "code",
   "execution_count": 17,
   "metadata": {},
   "outputs": [
    {
     "name": "stdout",
     "output_type": "stream",
     "text": [
      "this is class\n",
      "('vedhanvesh', '2017-10-01', 'KHYAATHI', 'maithrivanam')\n"
     ]
    }
   ],
   "source": [
    "class Emp: # Emp is a class object\n",
    "    print(\"this is class\")\n",
    "    company_name=\"KHYAATHI\"\n",
    "    company_address=\"maithrivanam\"\n",
    "    def get(self):\n",
    "        return self.name, self.doj, self.company_name, self.company_address\n",
    "vedha = Emp() # data object\n",
    "vedha.name=\"vedhanvesh\"\n",
    "vedha.doj=\"2017-10-01\"\n",
    "print(vedha.get())"
   ]
  },
  {
   "cell_type": "code",
   "execution_count": 18,
   "metadata": {},
   "outputs": [
    {
     "name": "stdout",
     "output_type": "stream",
     "text": [
      "this is class\n",
      "('vedhanvesh', '2017-10-01', 'KHYAATHI', 'maithrivanam')\n"
     ]
    }
   ],
   "source": [
    "class Emp: # Emp is a class object\n",
    "    print(\"this is class\")\n",
    "    company_name=\"KHYAATHI\"\n",
    "    company_address=\"maithrivanam\"\n",
    "    def get(self):\n",
    "        return self.name, self.doj, self.company_name, self.company_address\n",
    "vedha = Emp() # data object\n",
    "vedha.name=\"vedhanvesh\"\n",
    "vedha.doj=\"2017-10-01\"\n",
    "print(vedha.get())"
   ]
  },
  {
   "cell_type": "code",
   "execution_count": 19,
   "metadata": {},
   "outputs": [
    {
     "name": "stdout",
     "output_type": "stream",
     "text": [
      "this is class\n",
      "('vedhanvesh', '2017-10-01', 'KHYAATHI', 'maithrivanam')\n"
     ]
    }
   ],
   "source": [
    "class Emp: # Emp is a class object\n",
    "    print(\"this is class\")\n",
    "    company_name=\"KHYAATHI\"\n",
    "    company_address=\"maithrivanam\"\n",
    "    def set_data(self, e_n, e_doj):\n",
    "        self.name=e_n\n",
    "        self.doj=e_doj\n",
    "    def get(self):\n",
    "        return self.name, self.doj, self.company_name, self.company_address\n",
    "vedha = Emp() # data object\n",
    "'''\n",
    "vedha.name=\"vedhanvesh\"\n",
    "vedha.doj=\"2017-10-01\"\n",
    "'''\n",
    "vedha.set_data(\"vedhanvesh\",\"2017-10-01\")\n",
    "print(vedha.get())"
   ]
  },
  {
   "cell_type": "code",
   "execution_count": 20,
   "metadata": {},
   "outputs": [
    {
     "name": "stdout",
     "output_type": "stream",
     "text": [
      "this is class\n",
      "('vedhanvesh', '2017-10-01', 'KHYAATHI', 'maithrivanam')\n"
     ]
    }
   ],
   "source": [
    "class Emp: # Emp is a class object\n",
    "    print(\"this is class\")\n",
    "    company_name=\"KHYAATHI\"\n",
    "    company_address=\"maithrivanam\"\n",
    "    def set_data(self, e_n, e_doj):\n",
    "        self.name=e_n\n",
    "        self.doj=e_doj\n",
    "    def get(self):\n",
    "        return self.name, self.doj, self.company_name, self.company_address\n",
    "vedha = Emp() # data object\n",
    "vedha.set_data(\"vedhanvesh\",\"2017-10-01\")\n",
    "print(vedha.get())"
   ]
  },
  {
   "cell_type": "code",
   "execution_count": 21,
   "metadata": {},
   "outputs": [
    {
     "name": "stdout",
     "output_type": "stream",
     "text": [
      "this is class\n",
      "('vedhanvesh', '2017-10-01', 'KHYAATHI', 'maithrivanam')\n"
     ]
    },
    {
     "ename": "AttributeError",
     "evalue": "'Emp' object has no attribute 'name'",
     "output_type": "error",
     "traceback": [
      "\u001b[0;31m---------------------------------------------------------------------------\u001b[0m",
      "\u001b[0;31mAttributeError\u001b[0m                            Traceback (most recent call last)",
      "\u001b[0;32m<ipython-input-21-c91585a8fa97>\u001b[0m in \u001b[0;36m<module>\u001b[0;34m()\u001b[0m\n\u001b[1;32m     12\u001b[0m \u001b[0mprint\u001b[0m\u001b[0;34m(\u001b[0m\u001b[0mvedha\u001b[0m\u001b[0;34m.\u001b[0m\u001b[0mget\u001b[0m\u001b[0;34m(\u001b[0m\u001b[0;34m)\u001b[0m\u001b[0;34m)\u001b[0m\u001b[0;34m\u001b[0m\u001b[0m\n\u001b[1;32m     13\u001b[0m \u001b[0mjay\u001b[0m\u001b[0;34m=\u001b[0m\u001b[0mEmp\u001b[0m\u001b[0;34m(\u001b[0m\u001b[0;34m)\u001b[0m\u001b[0;34m\u001b[0m\u001b[0m\n\u001b[0;32m---> 14\u001b[0;31m \u001b[0mprint\u001b[0m\u001b[0;34m(\u001b[0m\u001b[0mjay\u001b[0m\u001b[0;34m.\u001b[0m\u001b[0mget\u001b[0m\u001b[0;34m(\u001b[0m\u001b[0;34m)\u001b[0m\u001b[0;34m)\u001b[0m\u001b[0;34m\u001b[0m\u001b[0m\n\u001b[0m",
      "\u001b[0;32m<ipython-input-21-c91585a8fa97>\u001b[0m in \u001b[0;36mget\u001b[0;34m(self)\u001b[0m\n\u001b[1;32m      7\u001b[0m         \u001b[0mself\u001b[0m\u001b[0;34m.\u001b[0m\u001b[0mdoj\u001b[0m\u001b[0;34m=\u001b[0m\u001b[0me_doj\u001b[0m\u001b[0;34m\u001b[0m\u001b[0m\n\u001b[1;32m      8\u001b[0m     \u001b[0;32mdef\u001b[0m \u001b[0mget\u001b[0m\u001b[0;34m(\u001b[0m\u001b[0mself\u001b[0m\u001b[0;34m)\u001b[0m\u001b[0;34m:\u001b[0m\u001b[0;34m\u001b[0m\u001b[0m\n\u001b[0;32m----> 9\u001b[0;31m         \u001b[0;32mreturn\u001b[0m \u001b[0mself\u001b[0m\u001b[0;34m.\u001b[0m\u001b[0mname\u001b[0m\u001b[0;34m,\u001b[0m \u001b[0mself\u001b[0m\u001b[0;34m.\u001b[0m\u001b[0mdoj\u001b[0m\u001b[0;34m,\u001b[0m \u001b[0mself\u001b[0m\u001b[0;34m.\u001b[0m\u001b[0mcompany_name\u001b[0m\u001b[0;34m,\u001b[0m \u001b[0mself\u001b[0m\u001b[0;34m.\u001b[0m\u001b[0mcompany_address\u001b[0m\u001b[0;34m\u001b[0m\u001b[0m\n\u001b[0m\u001b[1;32m     10\u001b[0m \u001b[0mvedha\u001b[0m \u001b[0;34m=\u001b[0m \u001b[0mEmp\u001b[0m\u001b[0;34m(\u001b[0m\u001b[0;34m)\u001b[0m \u001b[0;31m# data object\u001b[0m\u001b[0;34m\u001b[0m\u001b[0m\n\u001b[1;32m     11\u001b[0m \u001b[0mvedha\u001b[0m\u001b[0;34m.\u001b[0m\u001b[0mset_data\u001b[0m\u001b[0;34m(\u001b[0m\u001b[0;34m\"vedhanvesh\"\u001b[0m\u001b[0;34m,\u001b[0m\u001b[0;34m\"2017-10-01\"\u001b[0m\u001b[0;34m)\u001b[0m\u001b[0;34m\u001b[0m\u001b[0m\n",
      "\u001b[0;31mAttributeError\u001b[0m: 'Emp' object has no attribute 'name'"
     ]
    }
   ],
   "source": [
    "class Emp: # Emp is a class object\n",
    "    print(\"this is class\")\n",
    "    company_name=\"KHYAATHI\"\n",
    "    company_address=\"maithrivanam\"\n",
    "    def set_data(self, e_n, e_doj):\n",
    "        self.name=e_n\n",
    "        self.doj=e_doj\n",
    "    def get(self):\n",
    "        return self.name, self.doj, self.company_name, self.company_address\n",
    "vedha = Emp() # data object\n",
    "vedha.set_data(\"vedhanvesh\",\"2017-10-01\")\n",
    "print(vedha.get())\n",
    "jay=Emp()\n",
    "print(jay.get())"
   ]
  },
  {
   "cell_type": "code",
   "execution_count": 23,
   "metadata": {},
   "outputs": [
    {
     "name": "stdout",
     "output_type": "stream",
     "text": [
      "this is class\n"
     ]
    }
   ],
   "source": [
    "class Emp:\n",
    "    print(\"this is class\")\n",
    "    def get(self):\n",
    "        print(\"this is get\")\n",
    "    def __init__(self):\n",
    "        print(\"this is init\")"
   ]
  },
  {
   "cell_type": "code",
   "execution_count": 24,
   "metadata": {},
   "outputs": [
    {
     "name": "stdout",
     "output_type": "stream",
     "text": [
      "this is class\n"
     ]
    }
   ],
   "source": [
    "class Emp:\n",
    "    print(\"this is class\")\n",
    "    def get(self):\n",
    "        print(\"this is get\")\n",
    "vedha=Emp()"
   ]
  },
  {
   "cell_type": "code",
   "execution_count": 25,
   "metadata": {},
   "outputs": [
    {
     "name": "stdout",
     "output_type": "stream",
     "text": [
      "this is class\n",
      "this is init\n"
     ]
    }
   ],
   "source": [
    "class Emp:\n",
    "    print(\"this is class\")\n",
    "    def get(self):\n",
    "        print(\"this is get\")\n",
    "    def __init__(self):\n",
    "        print(\"this is init\")\n",
    "vedha=Emp()"
   ]
  },
  {
   "cell_type": "code",
   "execution_count": 26,
   "metadata": {},
   "outputs": [
    {
     "name": "stdout",
     "output_type": "stream",
     "text": [
      "this is class\n",
      "this is init\n",
      "this is init\n"
     ]
    }
   ],
   "source": [
    "class Emp:\n",
    "    print(\"this is class\")\n",
    "    def get(self):\n",
    "        print(\"this is get\")\n",
    "    def __init__(self):\n",
    "        print(\"this is init\")\n",
    "vedha=Emp()\n",
    "jay=Emp()"
   ]
  },
  {
   "cell_type": "code",
   "execution_count": 27,
   "metadata": {},
   "outputs": [
    {
     "name": "stdout",
     "output_type": "stream",
     "text": [
      "this is class\n",
      "Vedhanvesh 2018-07-01\n",
      "this is init\n",
      "jayaram 2017-09-01\n",
      "this is init\n"
     ]
    }
   ],
   "source": [
    "class Emp:\n",
    "    print(\"this is class\")\n",
    "    def get(self):\n",
    "        print(\"this is get\")\n",
    "    def __init__(self, e_n,e_doj):\n",
    "        print(e_n,e_doj)\n",
    "        print(\"this is init\")\n",
    "vedha=Emp(\"Vedhanvesh\",\"2018-07-01\")\n",
    "jay=Emp(\"jayaram\",\"2017-09-01\")"
   ]
  },
  {
   "cell_type": "code",
   "execution_count": null,
   "metadata": {},
   "outputs": [],
   "source": [
    "# write a attribute assignment code in init method and get those things using get."
   ]
  }
 ],
 "metadata": {
  "kernelspec": {
   "display_name": "Python 3",
   "language": "python",
   "name": "python3"
  },
  "language_info": {
   "codemirror_mode": {
    "name": "ipython",
    "version": 3
   },
   "file_extension": ".py",
   "mimetype": "text/x-python",
   "name": "python",
   "nbconvert_exporter": "python",
   "pygments_lexer": "ipython3",
   "version": "3.7.0"
  }
 },
 "nbformat": 4,
 "nbformat_minor": 2
}
