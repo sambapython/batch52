{
 "cells": [
  {
   "cell_type": "code",
   "execution_count": 1,
   "metadata": {},
   "outputs": [],
   "source": [
    "d={\"k1\":\"v1\",1:2,1.2:34,(1,2,3):\"tuple\"}"
   ]
  },
  {
   "cell_type": "code",
   "execution_count": 2,
   "metadata": {},
   "outputs": [
    {
     "ename": "TypeError",
     "evalue": "unhashable type: 'list'",
     "output_type": "error",
     "traceback": [
      "\u001b[1;31m---------------------------------------------------------------------------\u001b[0m",
      "\u001b[1;31mTypeError\u001b[0m                                 Traceback (most recent call last)",
      "\u001b[1;32m<ipython-input-2-8cf021a596f0>\u001b[0m in \u001b[0;36m<module>\u001b[1;34m()\u001b[0m\n\u001b[1;32m----> 1\u001b[1;33m \u001b[0md\u001b[0m\u001b[1;33m=\u001b[0m\u001b[1;33m{\u001b[0m\u001b[1;33m[\u001b[0m\u001b[1;36m10\u001b[0m\u001b[1;33m,\u001b[0m\u001b[1;36m20\u001b[0m\u001b[1;33m]\u001b[0m\u001b[1;33m:\u001b[0m\u001b[1;34m\"list\"\u001b[0m\u001b[1;33m}\u001b[0m\u001b[1;33m\u001b[0m\u001b[0m\n\u001b[0m",
      "\u001b[1;31mTypeError\u001b[0m: unhashable type: 'list'"
     ]
    }
   ],
   "source": [
    "d={[10,20]:\"list\"}"
   ]
  },
  {
   "cell_type": "code",
   "execution_count": 3,
   "metadata": {},
   "outputs": [
    {
     "ename": "TypeError",
     "evalue": "unsupported operand type(s) for +: 'dict' and 'dict'",
     "output_type": "error",
     "traceback": [
      "\u001b[1;31m---------------------------------------------------------------------------\u001b[0m",
      "\u001b[1;31mTypeError\u001b[0m                                 Traceback (most recent call last)",
      "\u001b[1;32m<ipython-input-3-6f611a5f6f21>\u001b[0m in \u001b[0;36m<module>\u001b[1;34m()\u001b[0m\n\u001b[0;32m      1\u001b[0m \u001b[0md1\u001b[0m\u001b[1;33m=\u001b[0m\u001b[1;33m{\u001b[0m\u001b[1;34m\"name\"\u001b[0m\u001b[1;33m:\u001b[0m\u001b[1;34m\"jay\"\u001b[0m\u001b[1;33m,\u001b[0m\u001b[1;34m\"age\"\u001b[0m\u001b[1;33m:\u001b[0m\u001b[1;36m1.10\u001b[0m\u001b[1;33m,\u001b[0m\u001b[1;34m\"weight\"\u001b[0m\u001b[1;33m:\u001b[0m\u001b[1;36m12.6\u001b[0m\u001b[1;33m}\u001b[0m\u001b[1;33m\u001b[0m\u001b[0m\n\u001b[0;32m      2\u001b[0m \u001b[0md2\u001b[0m\u001b[1;33m=\u001b[0m\u001b[1;33m{\u001b[0m\u001b[1;34m\"street\"\u001b[0m\u001b[1;33m:\u001b[0m\u001b[1;34m\"anjaneyanagar\"\u001b[0m\u001b[1;33m,\u001b[0m\u001b[1;34m\"city\"\u001b[0m\u001b[1;33m:\u001b[0m\u001b[1;34m\"hyderabad\"\u001b[0m\u001b[1;33m}\u001b[0m\u001b[1;33m\u001b[0m\u001b[0m\n\u001b[1;32m----> 3\u001b[1;33m \u001b[0md1\u001b[0m\u001b[1;33m+\u001b[0m\u001b[0md2\u001b[0m\u001b[1;33m\u001b[0m\u001b[0m\n\u001b[0m",
      "\u001b[1;31mTypeError\u001b[0m: unsupported operand type(s) for +: 'dict' and 'dict'"
     ]
    }
   ],
   "source": [
    "d1={\"name\":\"jay\",\"age\":1.10,\"weight\":12.6}\n",
    "d2={\"street\":\"anjaneyanagar\",\"city\":\"hyderabad\"}\n",
    "d1+d2"
   ]
  },
  {
   "cell_type": "code",
   "execution_count": 4,
   "metadata": {},
   "outputs": [
    {
     "ename": "TypeError",
     "evalue": "'>' not supported between instances of 'dict' and 'dict'",
     "output_type": "error",
     "traceback": [
      "\u001b[1;31m---------------------------------------------------------------------------\u001b[0m",
      "\u001b[1;31mTypeError\u001b[0m                                 Traceback (most recent call last)",
      "\u001b[1;32m<ipython-input-4-276e1fa03231>\u001b[0m in \u001b[0;36m<module>\u001b[1;34m()\u001b[0m\n\u001b[0;32m      1\u001b[0m \u001b[0md1\u001b[0m\u001b[1;33m=\u001b[0m\u001b[1;33m{\u001b[0m\u001b[1;34m\"name\"\u001b[0m\u001b[1;33m:\u001b[0m\u001b[1;34m\"jay\"\u001b[0m\u001b[1;33m,\u001b[0m\u001b[1;34m\"age\"\u001b[0m\u001b[1;33m:\u001b[0m\u001b[1;36m1.10\u001b[0m\u001b[1;33m,\u001b[0m\u001b[1;34m\"weight\"\u001b[0m\u001b[1;33m:\u001b[0m\u001b[1;36m12.6\u001b[0m\u001b[1;33m}\u001b[0m\u001b[1;33m\u001b[0m\u001b[0m\n\u001b[0;32m      2\u001b[0m \u001b[0md2\u001b[0m\u001b[1;33m=\u001b[0m\u001b[1;33m{\u001b[0m\u001b[1;34m\"street\"\u001b[0m\u001b[1;33m:\u001b[0m\u001b[1;34m\"anjaneyanagar\"\u001b[0m\u001b[1;33m,\u001b[0m\u001b[1;34m\"city\"\u001b[0m\u001b[1;33m:\u001b[0m\u001b[1;34m\"hyderabad\"\u001b[0m\u001b[1;33m}\u001b[0m\u001b[1;33m\u001b[0m\u001b[0m\n\u001b[1;32m----> 3\u001b[1;33m \u001b[0md1\u001b[0m\u001b[1;33m>\u001b[0m\u001b[0md2\u001b[0m\u001b[1;33m\u001b[0m\u001b[0m\n\u001b[0m",
      "\u001b[1;31mTypeError\u001b[0m: '>' not supported between instances of 'dict' and 'dict'"
     ]
    }
   ],
   "source": [
    "d1={\"name\":\"jay\",\"age\":1.10,\"weight\":12.6}\n",
    "d2={\"street\":\"anjaneyanagar\",\"city\":\"hyderabad\"}\n",
    "d1>d2"
   ]
  },
  {
   "cell_type": "code",
   "execution_count": 5,
   "metadata": {},
   "outputs": [
    {
     "data": {
      "text/plain": [
       "False"
      ]
     },
     "execution_count": 5,
     "metadata": {},
     "output_type": "execute_result"
    }
   ],
   "source": [
    "l1=[10,20,30]\n",
    "l2=[40,50,60]\n",
    "l1>l2"
   ]
  },
  {
   "cell_type": "code",
   "execution_count": 6,
   "metadata": {},
   "outputs": [
    {
     "data": {
      "text/plain": [
       "'jay'"
      ]
     },
     "execution_count": 6,
     "metadata": {},
     "output_type": "execute_result"
    }
   ],
   "source": [
    "d1={\"name\":\"jay\",\"age\":1.10,\"weight\":12.6}\n",
    "d1[\"name\"]"
   ]
  },
  {
   "cell_type": "code",
   "execution_count": 7,
   "metadata": {},
   "outputs": [
    {
     "ename": "KeyError",
     "evalue": "0",
     "output_type": "error",
     "traceback": [
      "\u001b[1;31m---------------------------------------------------------------------------\u001b[0m",
      "\u001b[1;31mKeyError\u001b[0m                                  Traceback (most recent call last)",
      "\u001b[1;32m<ipython-input-7-081408e984ed>\u001b[0m in \u001b[0;36m<module>\u001b[1;34m()\u001b[0m\n\u001b[0;32m      1\u001b[0m \u001b[0md1\u001b[0m\u001b[1;33m=\u001b[0m\u001b[1;33m{\u001b[0m\u001b[1;34m\"name\"\u001b[0m\u001b[1;33m:\u001b[0m\u001b[1;34m\"jay\"\u001b[0m\u001b[1;33m,\u001b[0m\u001b[1;34m\"age\"\u001b[0m\u001b[1;33m:\u001b[0m\u001b[1;36m1.10\u001b[0m\u001b[1;33m,\u001b[0m\u001b[1;34m\"weight\"\u001b[0m\u001b[1;33m:\u001b[0m\u001b[1;36m12.6\u001b[0m\u001b[1;33m}\u001b[0m\u001b[1;33m\u001b[0m\u001b[0m\n\u001b[0;32m      2\u001b[0m \u001b[0md2\u001b[0m\u001b[1;33m=\u001b[0m\u001b[1;33m{\u001b[0m\u001b[1;34m\"street\"\u001b[0m\u001b[1;33m:\u001b[0m\u001b[1;34m\"anjaneyanagar\"\u001b[0m\u001b[1;33m,\u001b[0m\u001b[1;34m\"city\"\u001b[0m\u001b[1;33m:\u001b[0m\u001b[1;34m\"hyderabad\"\u001b[0m\u001b[1;33m}\u001b[0m\u001b[1;33m\u001b[0m\u001b[0m\n\u001b[1;32m----> 3\u001b[1;33m \u001b[0mprint\u001b[0m\u001b[1;33m(\u001b[0m\u001b[0md1\u001b[0m\u001b[1;33m[\u001b[0m\u001b[1;36m0\u001b[0m\u001b[1;33m]\u001b[0m\u001b[1;33m)\u001b[0m\u001b[1;33m\u001b[0m\u001b[0m\n\u001b[0m",
      "\u001b[1;31mKeyError\u001b[0m: 0"
     ]
    }
   ],
   "source": [
    "d1={\"name\":\"jay\",\"age\":1.10,\"weight\":12.6}\n",
    "d2={\"street\":\"anjaneyanagar\",\"city\":\"hyderabad\"}\n",
    "print(d1[0])"
   ]
  },
  {
   "cell_type": "code",
   "execution_count": 8,
   "metadata": {},
   "outputs": [
    {
     "ename": "KeyError",
     "evalue": "'pan'",
     "output_type": "error",
     "traceback": [
      "\u001b[1;31m---------------------------------------------------------------------------\u001b[0m",
      "\u001b[1;31mKeyError\u001b[0m                                  Traceback (most recent call last)",
      "\u001b[1;32m<ipython-input-8-b5a7d89c0644>\u001b[0m in \u001b[0;36m<module>\u001b[1;34m()\u001b[0m\n\u001b[0;32m      1\u001b[0m \u001b[0md1\u001b[0m\u001b[1;33m=\u001b[0m\u001b[1;33m{\u001b[0m\u001b[1;34m\"name\"\u001b[0m\u001b[1;33m:\u001b[0m\u001b[1;34m\"jay\"\u001b[0m\u001b[1;33m,\u001b[0m\u001b[1;34m\"age\"\u001b[0m\u001b[1;33m:\u001b[0m\u001b[1;36m1.10\u001b[0m\u001b[1;33m,\u001b[0m\u001b[1;34m\"weight\"\u001b[0m\u001b[1;33m:\u001b[0m\u001b[1;36m12.6\u001b[0m\u001b[1;33m}\u001b[0m\u001b[1;33m\u001b[0m\u001b[0m\n\u001b[0;32m      2\u001b[0m \u001b[0md2\u001b[0m\u001b[1;33m=\u001b[0m\u001b[1;33m{\u001b[0m\u001b[1;34m\"street\"\u001b[0m\u001b[1;33m:\u001b[0m\u001b[1;34m\"anjaneyanagar\"\u001b[0m\u001b[1;33m,\u001b[0m\u001b[1;34m\"city\"\u001b[0m\u001b[1;33m:\u001b[0m\u001b[1;34m\"hyderabad\"\u001b[0m\u001b[1;33m}\u001b[0m\u001b[1;33m\u001b[0m\u001b[0m\n\u001b[1;32m----> 3\u001b[1;33m \u001b[0mprint\u001b[0m\u001b[1;33m(\u001b[0m\u001b[0md1\u001b[0m\u001b[1;33m[\u001b[0m\u001b[1;34m\"pan\"\u001b[0m\u001b[1;33m]\u001b[0m\u001b[1;33m)\u001b[0m\u001b[1;33m\u001b[0m\u001b[0m\n\u001b[0m",
      "\u001b[1;31mKeyError\u001b[0m: 'pan'"
     ]
    }
   ],
   "source": [
    "d1={\"name\":\"jay\",\"age\":1.10,\"weight\":12.6}\n",
    "d2={\"street\":\"anjaneyanagar\",\"city\":\"hyderabad\"}\n",
    "print(d1[\"pan\"])"
   ]
  },
  {
   "cell_type": "code",
   "execution_count": 9,
   "metadata": {},
   "outputs": [
    {
     "name": "stdout",
     "output_type": "stream",
     "text": [
      "jay\n",
      "jay\n"
     ]
    }
   ],
   "source": [
    "d1={\"name\":\"jay\",\"age\":1.10,\"weight\":12.6}\n",
    "d2={\"street\":\"anjaneyanagar\",\"city\":\"hyderabad\"}\n",
    "print(d1[\"name\"])\n",
    "print(d1.get(\"name\"))"
   ]
  },
  {
   "cell_type": "code",
   "execution_count": 10,
   "metadata": {},
   "outputs": [
    {
     "name": "stdout",
     "output_type": "stream",
     "text": [
      "None\n"
     ]
    },
    {
     "ename": "KeyError",
     "evalue": "'pan'",
     "output_type": "error",
     "traceback": [
      "\u001b[1;31m---------------------------------------------------------------------------\u001b[0m",
      "\u001b[1;31mKeyError\u001b[0m                                  Traceback (most recent call last)",
      "\u001b[1;32m<ipython-input-10-c60e3facc170>\u001b[0m in \u001b[0;36m<module>\u001b[1;34m()\u001b[0m\n\u001b[0;32m      2\u001b[0m \u001b[0md2\u001b[0m\u001b[1;33m=\u001b[0m\u001b[1;33m{\u001b[0m\u001b[1;34m\"street\"\u001b[0m\u001b[1;33m:\u001b[0m\u001b[1;34m\"anjaneyanagar\"\u001b[0m\u001b[1;33m,\u001b[0m\u001b[1;34m\"city\"\u001b[0m\u001b[1;33m:\u001b[0m\u001b[1;34m\"hyderabad\"\u001b[0m\u001b[1;33m}\u001b[0m\u001b[1;33m\u001b[0m\u001b[0m\n\u001b[0;32m      3\u001b[0m \u001b[0mprint\u001b[0m\u001b[1;33m(\u001b[0m\u001b[0md1\u001b[0m\u001b[1;33m.\u001b[0m\u001b[0mget\u001b[0m\u001b[1;33m(\u001b[0m\u001b[1;34m\"pan\"\u001b[0m\u001b[1;33m)\u001b[0m\u001b[1;33m)\u001b[0m\u001b[1;33m\u001b[0m\u001b[0m\n\u001b[1;32m----> 4\u001b[1;33m \u001b[0mprint\u001b[0m\u001b[1;33m(\u001b[0m\u001b[0md1\u001b[0m\u001b[1;33m[\u001b[0m\u001b[1;34m\"pan\"\u001b[0m\u001b[1;33m]\u001b[0m\u001b[1;33m)\u001b[0m\u001b[1;33m\u001b[0m\u001b[0m\n\u001b[0m",
      "\u001b[1;31mKeyError\u001b[0m: 'pan'"
     ]
    }
   ],
   "source": [
    "d1={\"name\":\"jay\",\"age\":1.10,\"weight\":12.6}\n",
    "d2={\"street\":\"anjaneyanagar\",\"city\":\"hyderabad\"}\n",
    "print(d1.get(\"pan\"))\n",
    "print(d1[\"pan\"])"
   ]
  },
  {
   "cell_type": "code",
   "execution_count": 11,
   "metadata": {},
   "outputs": [
    {
     "name": "stdout",
     "output_type": "stream",
     "text": [
      "default pan\n"
     ]
    },
    {
     "ename": "KeyError",
     "evalue": "'pan'",
     "output_type": "error",
     "traceback": [
      "\u001b[1;31m---------------------------------------------------------------------------\u001b[0m",
      "\u001b[1;31mKeyError\u001b[0m                                  Traceback (most recent call last)",
      "\u001b[1;32m<ipython-input-11-c8f5f0f9ab55>\u001b[0m in \u001b[0;36m<module>\u001b[1;34m()\u001b[0m\n\u001b[0;32m      2\u001b[0m \u001b[0md2\u001b[0m\u001b[1;33m=\u001b[0m\u001b[1;33m{\u001b[0m\u001b[1;34m\"street\"\u001b[0m\u001b[1;33m:\u001b[0m\u001b[1;34m\"anjaneyanagar\"\u001b[0m\u001b[1;33m,\u001b[0m\u001b[1;34m\"city\"\u001b[0m\u001b[1;33m:\u001b[0m\u001b[1;34m\"hyderabad\"\u001b[0m\u001b[1;33m}\u001b[0m\u001b[1;33m\u001b[0m\u001b[0m\n\u001b[0;32m      3\u001b[0m \u001b[0mprint\u001b[0m\u001b[1;33m(\u001b[0m\u001b[0md1\u001b[0m\u001b[1;33m.\u001b[0m\u001b[0mget\u001b[0m\u001b[1;33m(\u001b[0m\u001b[1;34m\"pan\"\u001b[0m\u001b[1;33m,\u001b[0m\u001b[1;34m\"default pan\"\u001b[0m\u001b[1;33m)\u001b[0m\u001b[1;33m)\u001b[0m\u001b[1;33m\u001b[0m\u001b[0m\n\u001b[1;32m----> 4\u001b[1;33m \u001b[0mprint\u001b[0m\u001b[1;33m(\u001b[0m\u001b[0md1\u001b[0m\u001b[1;33m[\u001b[0m\u001b[1;34m\"pan\"\u001b[0m\u001b[1;33m]\u001b[0m\u001b[1;33m)\u001b[0m\u001b[1;33m\u001b[0m\u001b[0m\n\u001b[0m",
      "\u001b[1;31mKeyError\u001b[0m: 'pan'"
     ]
    }
   ],
   "source": [
    "d1={\"name\":\"jay\",\"age\":1.10,\"weight\":12.6}\n",
    "d2={\"street\":\"anjaneyanagar\",\"city\":\"hyderabad\"}\n",
    "print(d1.get(\"pan\",\"default pan\"))\n",
    "print(d1[\"pan\"])"
   ]
  },
  {
   "cell_type": "code",
   "execution_count": 12,
   "metadata": {},
   "outputs": [
    {
     "name": "stdout",
     "output_type": "stream",
     "text": [
      "{'name': 'jayaram', 'age': 1.1, 'weight': 12.6}\n"
     ]
    }
   ],
   "source": [
    "d1={\"name\":\"jay\",\"age\":1.10,\"weight\":12.6}\n",
    "d2={\"street\":\"anjaneyanagar\",\"city\":\"hyderabad\"}\n",
    "d1[\"name\"]=\"jayaram\"\n",
    "print(d1)"
   ]
  },
  {
   "cell_type": "code",
   "execution_count": 13,
   "metadata": {},
   "outputs": [
    {
     "name": "stdout",
     "output_type": "stream",
     "text": [
      "{'name': 'jay', 'age': 1.1, 'weight': 12.6, 'pan': 'BRCP3456'}\n"
     ]
    }
   ],
   "source": [
    "d1={\"name\":\"jay\",\"age\":1.10,\"weight\":12.6}\n",
    "d2={\"street\":\"anjaneyanagar\",\"city\":\"hyderabad\"}\n",
    "d1[\"pan\"]=\"BRCP3456\"\n",
    "print(d1)"
   ]
  },
  {
   "cell_type": "code",
   "execution_count": 14,
   "metadata": {},
   "outputs": [
    {
     "name": "stdout",
     "output_type": "stream",
     "text": [
      "{'name': 'jay', 'age': 1.1, 'weight': 12.6, 'street': 'anjaneyanagar', 'city': 'hyderabad'}\n"
     ]
    }
   ],
   "source": [
    "d1={\"name\":\"jay\",\"age\":1.10,\"weight\":12.6}\n",
    "d2={\"street\":\"anjaneyanagar\",\"city\":\"hyderabad\"}\n",
    "d1.update(d2)\n",
    "print(d1)"
   ]
  },
  {
   "cell_type": "code",
   "execution_count": 15,
   "metadata": {},
   "outputs": [
    {
     "name": "stdout",
     "output_type": "stream",
     "text": [
      "{'name': 'jayaram', 'age': 1.1, 'weight': 12.6}\n"
     ]
    }
   ],
   "source": [
    "d1={\"name\":\"jay\",\"age\":1.10,\"weight\":12.6}\n",
    "d2={\"street\":\"anjaneyanagar\",\"city\":\"hyderabad\"}\n",
    "ds=\"jayaram\"\n",
    "print(d1)"
   ]
  },
  {
   "cell_type": "code",
   "execution_count": 17,
   "metadata": {},
   "outputs": [
    {
     "name": "stdout",
     "output_type": "stream",
     "text": [
      "{'name': 'jay', 'age': 1.1, 'weight': 12.6, 'pan': 'BRCP2345'}\n"
     ]
    }
   ],
   "source": [
    "d1={\"name\":\"jay\",\"age\":1.10,\"weight\":12.6}\n",
    "d2={\"street\":\"anjaneyanagar\",\"city\":\"hyderabad\"}\n",
    "d1.setdefault(\"pan\",\"BRCP2345\")\n",
    "print(d1)"
   ]
  },
  {
   "cell_type": "code",
   "execution_count": 18,
   "metadata": {},
   "outputs": [
    {
     "name": "stdout",
     "output_type": "stream",
     "text": [
      "{'name': 'jay', 'age': 1.1, 'weight': 12.6}\n"
     ]
    }
   ],
   "source": [
    "d1={\"name\":\"jay\",\"age\":1.10,\"weight\":12.6}\n",
    "d2={\"street\":\"anjaneyanagar\",\"city\":\"hyderabad\"}\n",
    "d1.setdefault(\"name\",\"BRCP2345\")\n",
    "print(d1)"
   ]
  },
  {
   "cell_type": "code",
   "execution_count": 2,
   "metadata": {},
   "outputs": [
    {
     "name": "stdout",
     "output_type": "stream",
     "text": [
      "{}\n"
     ]
    }
   ],
   "source": [
    "d1={\"name\":\"jay\",\"age\":1.10,\"weight\":12.6}\n",
    "d1.clear()\n",
    "print(d1)"
   ]
  },
  {
   "cell_type": "code",
   "execution_count": 3,
   "metadata": {},
   "outputs": [
    {
     "name": "stdout",
     "output_type": "stream",
     "text": [
      "{'name': 'jay', 'weight': 12.6}\n"
     ]
    }
   ],
   "source": [
    "d1={\"name\":\"jay\",\"age\":1.10,\"weight\":12.6}\n",
    "d1.pop(\"age\")\n",
    "print(d1)"
   ]
  },
  {
   "cell_type": "code",
   "execution_count": 4,
   "metadata": {},
   "outputs": [
    {
     "ename": "KeyError",
     "evalue": "'pan'",
     "output_type": "error",
     "traceback": [
      "\u001b[1;31m---------------------------------------------------------------------------\u001b[0m",
      "\u001b[1;31mKeyError\u001b[0m                                  Traceback (most recent call last)",
      "\u001b[1;32m<ipython-input-4-70826c7a30b2>\u001b[0m in \u001b[0;36m<module>\u001b[1;34m()\u001b[0m\n\u001b[0;32m      1\u001b[0m \u001b[0md1\u001b[0m\u001b[1;33m=\u001b[0m\u001b[1;33m{\u001b[0m\u001b[1;34m\"name\"\u001b[0m\u001b[1;33m:\u001b[0m\u001b[1;34m\"jay\"\u001b[0m\u001b[1;33m,\u001b[0m\u001b[1;34m\"age\"\u001b[0m\u001b[1;33m:\u001b[0m\u001b[1;36m1.10\u001b[0m\u001b[1;33m,\u001b[0m\u001b[1;34m\"weight\"\u001b[0m\u001b[1;33m:\u001b[0m\u001b[1;36m12.6\u001b[0m\u001b[1;33m}\u001b[0m\u001b[1;33m\u001b[0m\u001b[0m\n\u001b[1;32m----> 2\u001b[1;33m \u001b[0md1\u001b[0m\u001b[1;33m.\u001b[0m\u001b[0mpop\u001b[0m\u001b[1;33m(\u001b[0m\u001b[1;34m\"pan\"\u001b[0m\u001b[1;33m)\u001b[0m\u001b[1;33m\u001b[0m\u001b[0m\n\u001b[0m\u001b[0;32m      3\u001b[0m \u001b[0mprint\u001b[0m\u001b[1;33m(\u001b[0m\u001b[0md1\u001b[0m\u001b[1;33m)\u001b[0m\u001b[1;33m\u001b[0m\u001b[0m\n",
      "\u001b[1;31mKeyError\u001b[0m: 'pan'"
     ]
    }
   ],
   "source": [
    "d1={\"name\":\"jay\",\"age\":1.10,\"weight\":12.6}\n",
    "d1.pop(\"pan\")\n",
    "print(d1)"
   ]
  },
  {
   "cell_type": "code",
   "execution_count": 5,
   "metadata": {},
   "outputs": [
    {
     "ename": "TypeError",
     "evalue": "pop expected at least 1 arguments, got 0",
     "output_type": "error",
     "traceback": [
      "\u001b[1;31m---------------------------------------------------------------------------\u001b[0m",
      "\u001b[1;31mTypeError\u001b[0m                                 Traceback (most recent call last)",
      "\u001b[1;32m<ipython-input-5-872a58c8f330>\u001b[0m in \u001b[0;36m<module>\u001b[1;34m()\u001b[0m\n\u001b[0;32m      1\u001b[0m \u001b[0md1\u001b[0m\u001b[1;33m=\u001b[0m\u001b[1;33m{\u001b[0m\u001b[1;34m\"name\"\u001b[0m\u001b[1;33m:\u001b[0m\u001b[1;34m\"jay\"\u001b[0m\u001b[1;33m,\u001b[0m\u001b[1;34m\"age\"\u001b[0m\u001b[1;33m:\u001b[0m\u001b[1;36m1.10\u001b[0m\u001b[1;33m,\u001b[0m\u001b[1;34m\"weight\"\u001b[0m\u001b[1;33m:\u001b[0m\u001b[1;36m12.6\u001b[0m\u001b[1;33m}\u001b[0m\u001b[1;33m\u001b[0m\u001b[0m\n\u001b[1;32m----> 2\u001b[1;33m \u001b[0md1\u001b[0m\u001b[1;33m.\u001b[0m\u001b[0mpop\u001b[0m\u001b[1;33m(\u001b[0m\u001b[1;33m)\u001b[0m\u001b[1;33m\u001b[0m\u001b[0m\n\u001b[0m\u001b[0;32m      3\u001b[0m \u001b[0mprint\u001b[0m\u001b[1;33m(\u001b[0m\u001b[0md1\u001b[0m\u001b[1;33m)\u001b[0m\u001b[1;33m\u001b[0m\u001b[0m\n",
      "\u001b[1;31mTypeError\u001b[0m: pop expected at least 1 arguments, got 0"
     ]
    }
   ],
   "source": [
    "d1={\"name\":\"jay\",\"age\":1.10,\"weight\":12.6}\n",
    "d1.pop()\n",
    "print(d1)"
   ]
  },
  {
   "cell_type": "code",
   "execution_count": 6,
   "metadata": {},
   "outputs": [
    {
     "name": "stdout",
     "output_type": "stream",
     "text": [
      "{'name': 'jay', 'age': 1.1, 'weight': 12.6}\n"
     ]
    }
   ],
   "source": [
    "d1={\"name\":\"jay\",\"age\":1.10,\"weight\":12.6}\n",
    "print (d1)"
   ]
  },
  {
   "cell_type": "code",
   "execution_count": 7,
   "metadata": {},
   "outputs": [
    {
     "name": "stdout",
     "output_type": "stream",
     "text": [
      "name\n",
      "age\n",
      "weight\n"
     ]
    }
   ],
   "source": [
    "for i in d1:\n",
    "    print(i)"
   ]
  },
  {
   "cell_type": "code",
   "execution_count": 8,
   "metadata": {},
   "outputs": [
    {
     "name": "stdout",
     "output_type": "stream",
     "text": [
      "name jay\n",
      "age 1.1\n",
      "weight 12.6\n"
     ]
    }
   ],
   "source": [
    "d1={\"name\":\"jay\",\"age\":1.10,\"weight\":12.6}\n",
    "for i in d1:\n",
    "    print(i, d1[i])"
   ]
  },
  {
   "cell_type": "code",
   "execution_count": 9,
   "metadata": {},
   "outputs": [
    {
     "name": "stdout",
     "output_type": "stream",
     "text": [
      "('name', 'jay')\n",
      "('age', 1.1)\n",
      "('weight', 12.6)\n"
     ]
    }
   ],
   "source": [
    "d1={\"name\":\"jay\",\"age\":1.10,\"weight\":12.6}\n",
    "for i in d1.items():\n",
    "    print(i)"
   ]
  },
  {
   "cell_type": "code",
   "execution_count": 10,
   "metadata": {},
   "outputs": [
    {
     "data": {
      "text/plain": [
       "dict_items([('name', 'jay'), ('age', 1.1), ('weight', 12.6)])"
      ]
     },
     "execution_count": 10,
     "metadata": {},
     "output_type": "execute_result"
    }
   ],
   "source": [
    "d1.items()"
   ]
  },
  {
   "cell_type": "code",
   "execution_count": 11,
   "metadata": {},
   "outputs": [
    {
     "name": "stdout",
     "output_type": "stream",
     "text": [
      "1000 2000\n"
     ]
    }
   ],
   "source": [
    "a,b=[1000,2000]\n",
    "print(a,b)"
   ]
  },
  {
   "cell_type": "code",
   "execution_count": 12,
   "metadata": {},
   "outputs": [
    {
     "ename": "ValueError",
     "evalue": "too many values to unpack (expected 2)",
     "output_type": "error",
     "traceback": [
      "\u001b[1;31m---------------------------------------------------------------------------\u001b[0m",
      "\u001b[1;31mValueError\u001b[0m                                Traceback (most recent call last)",
      "\u001b[1;32m<ipython-input-12-be251c8f16c3>\u001b[0m in \u001b[0;36m<module>\u001b[1;34m()\u001b[0m\n\u001b[1;32m----> 1\u001b[1;33m \u001b[0ma\u001b[0m\u001b[1;33m,\u001b[0m\u001b[0mb\u001b[0m\u001b[1;33m=\u001b[0m\u001b[1;33m[\u001b[0m\u001b[1;36m1000\u001b[0m\u001b[1;33m,\u001b[0m\u001b[1;36m2000\u001b[0m\u001b[1;33m,\u001b[0m\u001b[1;36m3000\u001b[0m\u001b[1;33m]\u001b[0m\u001b[1;33m\u001b[0m\u001b[0m\n\u001b[0m\u001b[0;32m      2\u001b[0m \u001b[0mprint\u001b[0m\u001b[1;33m(\u001b[0m\u001b[0ma\u001b[0m\u001b[1;33m,\u001b[0m\u001b[0mb\u001b[0m\u001b[1;33m)\u001b[0m\u001b[1;33m\u001b[0m\u001b[0m\n",
      "\u001b[1;31mValueError\u001b[0m: too many values to unpack (expected 2)"
     ]
    }
   ],
   "source": [
    "a,b=[1000,2000,3000]\n",
    "print(a,b)"
   ]
  },
  {
   "cell_type": "code",
   "execution_count": 13,
   "metadata": {},
   "outputs": [
    {
     "name": "stdout",
     "output_type": "stream",
     "text": [
      "[1000, 2000, 3000] 2000\n"
     ]
    }
   ],
   "source": [
    "a=[1000,2000,3000]\n",
    "print(a,b)"
   ]
  },
  {
   "cell_type": "code",
   "execution_count": 14,
   "metadata": {},
   "outputs": [
    {
     "name": "stdout",
     "output_type": "stream",
     "text": [
      "[1000, 2000] [10, 20]\n"
     ]
    }
   ],
   "source": [
    "a,b=[1000,2000],[10,20]\n",
    "print(a,b)"
   ]
  },
  {
   "cell_type": "code",
   "execution_count": 15,
   "metadata": {},
   "outputs": [
    {
     "name": "stdout",
     "output_type": "stream",
     "text": [
      "1000 2000\n"
     ]
    }
   ],
   "source": [
    "a,b=[1000,2000]\n",
    "print(a,b)"
   ]
  },
  {
   "cell_type": "code",
   "execution_count": 16,
   "metadata": {},
   "outputs": [
    {
     "name": "stdout",
     "output_type": "stream",
     "text": [
      "1000 2000\n"
     ]
    }
   ],
   "source": [
    "a,b=(1000,2000)\n",
    "print(a,b)"
   ]
  },
  {
   "cell_type": "code",
   "execution_count": 17,
   "metadata": {},
   "outputs": [
    {
     "name": "stdout",
     "output_type": "stream",
     "text": [
      "1000 2000\n"
     ]
    }
   ],
   "source": [
    "a,b={1000,2000}\n",
    "print(a,b)"
   ]
  },
  {
   "cell_type": "code",
   "execution_count": 18,
   "metadata": {},
   "outputs": [
    {
     "name": "stdout",
     "output_type": "stream",
     "text": [
      "name jay\n",
      "age 1.1\n",
      "weight 12.6\n"
     ]
    }
   ],
   "source": [
    "d1={\"name\":\"jay\",\"age\":1.10,\"weight\":12.6}\n",
    "for key,value in d1.items():\n",
    "    print(key, value)"
   ]
  },
  {
   "cell_type": "code",
   "execution_count": 19,
   "metadata": {},
   "outputs": [],
   "source": [
    "a,b=10,20"
   ]
  },
  {
   "cell_type": "code",
   "execution_count": 20,
   "metadata": {},
   "outputs": [],
   "source": [
    "a,b=[1000,2000]"
   ]
  },
  {
   "cell_type": "code",
   "execution_count": 21,
   "metadata": {},
   "outputs": [],
   "source": [
    "a,b=(1000,2000)"
   ]
  },
  {
   "cell_type": "code",
   "execution_count": 22,
   "metadata": {},
   "outputs": [
    {
     "name": "stdout",
     "output_type": "stream",
     "text": [
      "{'name': 'jay', 'weight': 12.6}\n",
      "{'name': 'jay', 'weight': 12.6}\n",
      "{'name': 'jay', 'age': 1.1, 'weight': 12.6}\n"
     ]
    }
   ],
   "source": [
    "d1={\"name\":\"jay\",\"age\":1.10,\"weight\":12.6}\n",
    "d2=d1\n",
    "d3=d1.copy()\n",
    "d1.pop(\"age\")\n",
    "print(d1)\n",
    "print(d2)\n",
    "print(d3)"
   ]
  },
  {
   "cell_type": "code",
   "execution_count": 23,
   "metadata": {},
   "outputs": [
    {
     "name": "stdout",
     "output_type": "stream",
     "text": [
      "name\n",
      "age\n",
      "weight\n"
     ]
    }
   ],
   "source": [
    "d1={\"name\":\"jay\",\"age\":1.10,\"weight\":12.6}\n",
    "for i in d1.keys():\n",
    "    print(i)"
   ]
  },
  {
   "cell_type": "code",
   "execution_count": 25,
   "metadata": {},
   "outputs": [
    {
     "name": "stdout",
     "output_type": "stream",
     "text": [
      "jay\n",
      "1.1\n",
      "12.6\n"
     ]
    }
   ],
   "source": [
    "d1={\"name\":\"jay\",\"age\":1.10,\"weight\":12.6}\n",
    "for i in d1.values():\n",
    "    print(i)"
   ]
  },
  {
   "cell_type": "code",
   "execution_count": 26,
   "metadata": {},
   "outputs": [
    {
     "name": "stdout",
     "output_type": "stream",
     "text": [
      "True\n"
     ]
    }
   ],
   "source": [
    "d1={\"name\":\"jay\",\"age\":1.10,\"weight\":12.6}\n",
    "print (\"name\" in d1)"
   ]
  },
  {
   "cell_type": "code",
   "execution_count": 27,
   "metadata": {},
   "outputs": [
    {
     "name": "stdout",
     "output_type": "stream",
     "text": [
      "True\n"
     ]
    }
   ],
   "source": [
    "d1={\"name\":\"jay\",\"age\":1.10,\"weight\":12.6}\n",
    "print (\"name\" in d1.keys())"
   ]
  },
  {
   "cell_type": "code",
   "execution_count": 28,
   "metadata": {},
   "outputs": [
    {
     "name": "stdout",
     "output_type": "stream",
     "text": [
      "False\n"
     ]
    }
   ],
   "source": [
    "d1={\"name\":\"jay\",\"age\":1.10,\"weight\":12.6}\n",
    "print (\"jay\" in d1)"
   ]
  },
  {
   "cell_type": "code",
   "execution_count": 29,
   "metadata": {},
   "outputs": [
    {
     "name": "stdout",
     "output_type": "stream",
     "text": [
      "True\n"
     ]
    }
   ],
   "source": [
    "d1={\"name\":\"jay\",\"age\":1.10,\"weight\":12.6}\n",
    "print (\"jay\" in d1.values())"
   ]
  },
  {
   "cell_type": "code",
   "execution_count": 32,
   "metadata": {},
   "outputs": [
    {
     "name": "stdout",
     "output_type": "stream",
     "text": [
      "{'name': 'jay', 'age': 1.1}\n"
     ]
    }
   ],
   "source": [
    "d1={\"name\":\"jay\",\"age\":1.10,\"weight\":12.6}\n",
    "d1.popitem()\n",
    "print(d1)"
   ]
  },
  {
   "cell_type": "code",
   "execution_count": 33,
   "metadata": {},
   "outputs": [
    {
     "name": "stdout",
     "output_type": "stream",
     "text": [
      "{1: 2, 'name': 'jay', 'age': 1.1, 'weight': 12.6, 3: 4}\n"
     ]
    }
   ],
   "source": [
    "d1={1:2,\"name\":\"jay\",\"age\":1.10,\"weight\":12.6,3:4,5:6}\n",
    "d1.popitem()\n",
    "print(d1)"
   ]
  },
  {
   "cell_type": "code",
   "execution_count": 34,
   "metadata": {},
   "outputs": [
    {
     "name": "stdout",
     "output_type": "stream",
     "text": [
      "{1: 2, 'name': 'jay', 'age': 1.1, 'weight': 12.6, 3: 4, 5: 6}\n"
     ]
    }
   ],
   "source": [
    "d1={1:2,\"name\":\"jay\",\"age\":1.10,\"weight\":12.6,3:4,5:6,\"fruit\":\"apple\"}\n",
    "d1.popitem()\n",
    "print(d1)"
   ]
  },
  {
   "cell_type": "code",
   "execution_count": null,
   "metadata": {},
   "outputs": [],
   "source": []
  }
 ],
 "metadata": {
  "kernelspec": {
   "display_name": "Python 3",
   "language": "python",
   "name": "python3"
  },
  "language_info": {
   "codemirror_mode": {
    "name": "ipython",
    "version": 3
   },
   "file_extension": ".py",
   "mimetype": "text/x-python",
   "name": "python",
   "nbconvert_exporter": "python",
   "pygments_lexer": "ipython3",
   "version": "3.7.0"
  }
 },
 "nbformat": 4,
 "nbformat_minor": 2
}
