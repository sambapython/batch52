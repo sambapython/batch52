{
 "cells": [
  {
   "cell_type": "code",
   "execution_count": 2,
   "metadata": {},
   "outputs": [
    {
     "name": "stdout",
     "output_type": "stream",
     "text": [
      "st1\n",
      "st2\n",
      "st3\n",
      "st4\n",
      "st5\n"
     ]
    }
   ],
   "source": [
    "print(\"st1\")\n",
    "print(\"st2\")\n",
    "print(\"st3\")\n",
    "print(\"st4\")\n",
    "print(\"st5\")"
   ]
  },
  {
   "cell_type": "code",
   "execution_count": 3,
   "metadata": {},
   "outputs": [
    {
     "name": "stdout",
     "output_type": "stream",
     "text": [
      "a is big\n",
      "b is big\n"
     ]
    }
   ],
   "source": [
    "a=10\n",
    "b=20\n",
    "print(\"a is big\")\n",
    "print(\"b is big\")"
   ]
  },
  {
   "cell_type": "code",
   "execution_count": 4,
   "metadata": {},
   "outputs": [
    {
     "name": "stdout",
     "output_type": "stream",
     "text": [
      "a is big\n",
      "b is big\n"
     ]
    }
   ],
   "source": [
    "a=100\n",
    "b=20\n",
    "print(\"a is big\")\n",
    "print(\"b is big\")"
   ]
  },
  {
   "cell_type": "code",
   "execution_count": 5,
   "metadata": {},
   "outputs": [
    {
     "name": "stdout",
     "output_type": "stream",
     "text": [
      "a is big\n",
      "b is big\n"
     ]
    }
   ],
   "source": [
    "a=100\n",
    "b=200\n",
    "print(\"a is big\")\n",
    "print(\"b is big\")"
   ]
  },
  {
   "cell_type": "code",
   "execution_count": 6,
   "metadata": {},
   "outputs": [
    {
     "name": "stdout",
     "output_type": "stream",
     "text": [
      "True\n"
     ]
    }
   ],
   "source": [
    "a=10\n",
    "print(bool(a))"
   ]
  },
  {
   "cell_type": "code",
   "execution_count": 7,
   "metadata": {},
   "outputs": [
    {
     "name": "stdout",
     "output_type": "stream",
     "text": [
      "False\n"
     ]
    }
   ],
   "source": [
    "a=0\n",
    "print(bool(a))"
   ]
  },
  {
   "cell_type": "code",
   "execution_count": 8,
   "metadata": {},
   "outputs": [
    {
     "name": "stdout",
     "output_type": "stream",
     "text": [
      "True\n"
     ]
    }
   ],
   "source": [
    "a=-10\n",
    "print(bool(a))"
   ]
  },
  {
   "cell_type": "code",
   "execution_count": 9,
   "metadata": {},
   "outputs": [
    {
     "name": "stdout",
     "output_type": "stream",
     "text": [
      "True\n"
     ]
    }
   ],
   "source": [
    "a=0.1\n",
    "print(bool(a))"
   ]
  },
  {
   "cell_type": "code",
   "execution_count": 10,
   "metadata": {},
   "outputs": [
    {
     "name": "stdout",
     "output_type": "stream",
     "text": [
      "True\n"
     ]
    }
   ],
   "source": [
    "a=0.00001\n",
    "print(bool(a))"
   ]
  },
  {
   "cell_type": "code",
   "execution_count": 11,
   "metadata": {},
   "outputs": [
    {
     "name": "stdout",
     "output_type": "stream",
     "text": [
      "False\n"
     ]
    }
   ],
   "source": [
    "a=0.0\n",
    "print(bool(a))"
   ]
  },
  {
   "cell_type": "code",
   "execution_count": 12,
   "metadata": {},
   "outputs": [
    {
     "name": "stdout",
     "output_type": "stream",
     "text": [
      "True\n"
     ]
    }
   ],
   "source": [
    "a=1+2j\n",
    "print(bool(a))"
   ]
  },
  {
   "cell_type": "code",
   "execution_count": 13,
   "metadata": {},
   "outputs": [
    {
     "name": "stdout",
     "output_type": "stream",
     "text": [
      "False\n"
     ]
    }
   ],
   "source": [
    "a=0+0j\n",
    "print(bool(a))"
   ]
  },
  {
   "cell_type": "code",
   "execution_count": 14,
   "metadata": {},
   "outputs": [
    {
     "name": "stdout",
     "output_type": "stream",
     "text": [
      "True\n"
     ]
    }
   ],
   "source": [
    "a=0+1j\n",
    "print(bool(a))"
   ]
  },
  {
   "cell_type": "code",
   "execution_count": 15,
   "metadata": {},
   "outputs": [
    {
     "name": "stdout",
     "output_type": "stream",
     "text": [
      "True\n"
     ]
    }
   ],
   "source": [
    "a=\"python\"\n",
    "print(bool(a))"
   ]
  },
  {
   "cell_type": "code",
   "execution_count": 16,
   "metadata": {},
   "outputs": [
    {
     "name": "stdout",
     "output_type": "stream",
     "text": [
      "False\n"
     ]
    }
   ],
   "source": [
    "a=\"\"\n",
    "print(bool(a))"
   ]
  },
  {
   "cell_type": "code",
   "execution_count": 17,
   "metadata": {},
   "outputs": [
    {
     "name": "stdout",
     "output_type": "stream",
     "text": [
      "True\n"
     ]
    }
   ],
   "source": [
    "a=\"4235243\"\n",
    "print(bool(a))"
   ]
  },
  {
   "cell_type": "code",
   "execution_count": 18,
   "metadata": {},
   "outputs": [
    {
     "name": "stdout",
     "output_type": "stream",
     "text": [
      "True\n"
     ]
    }
   ],
   "source": [
    "a=\"0\"\n",
    "print(bool(a))"
   ]
  },
  {
   "cell_type": "code",
   "execution_count": 19,
   "metadata": {},
   "outputs": [
    {
     "name": "stdout",
     "output_type": "stream",
     "text": [
      "True\n"
     ]
    }
   ],
   "source": [
    "a=\" \"\n",
    "print(bool(a))"
   ]
  },
  {
   "cell_type": "code",
   "execution_count": 20,
   "metadata": {},
   "outputs": [
    {
     "name": "stdout",
     "output_type": "stream",
     "text": [
      "False\n"
     ]
    }
   ],
   "source": [
    "print(bool())"
   ]
  },
  {
   "cell_type": "code",
   "execution_count": 22,
   "metadata": {},
   "outputs": [
    {
     "data": {
      "text/plain": [
       "False"
      ]
     },
     "execution_count": 22,
     "metadata": {},
     "output_type": "execute_result"
    }
   ],
   "source": [
    "bool([])"
   ]
  },
  {
   "cell_type": "code",
   "execution_count": 23,
   "metadata": {},
   "outputs": [
    {
     "data": {
      "text/plain": [
       "False"
      ]
     },
     "execution_count": 23,
     "metadata": {},
     "output_type": "execute_result"
    }
   ],
   "source": [
    "bool(())"
   ]
  },
  {
   "cell_type": "code",
   "execution_count": 24,
   "metadata": {},
   "outputs": [
    {
     "data": {
      "text/plain": [
       "False"
      ]
     },
     "execution_count": 24,
     "metadata": {},
     "output_type": "execute_result"
    }
   ],
   "source": [
    "bool({})"
   ]
  },
  {
   "cell_type": "code",
   "execution_count": 25,
   "metadata": {},
   "outputs": [
    {
     "data": {
      "text/plain": [
       "True"
      ]
     },
     "execution_count": 25,
     "metadata": {},
     "output_type": "execute_result"
    }
   ],
   "source": [
    "bool([0])"
   ]
  },
  {
   "cell_type": "code",
   "execution_count": 26,
   "metadata": {},
   "outputs": [
    {
     "data": {
      "text/plain": [
       "True"
      ]
     },
     "execution_count": 26,
     "metadata": {},
     "output_type": "execute_result"
    }
   ],
   "source": [
    "bool((0,))"
   ]
  },
  {
   "cell_type": "code",
   "execution_count": 27,
   "metadata": {},
   "outputs": [
    {
     "data": {
      "text/plain": [
       "True"
      ]
     },
     "execution_count": 27,
     "metadata": {},
     "output_type": "execute_result"
    }
   ],
   "source": [
    "bool({1:2})"
   ]
  },
  {
   "cell_type": "code",
   "execution_count": 29,
   "metadata": {},
   "outputs": [
    {
     "data": {
      "text/plain": [
       "True"
      ]
     },
     "execution_count": 29,
     "metadata": {},
     "output_type": "execute_result"
    }
   ],
   "source": [
    "bool({2:3})"
   ]
  },
  {
   "cell_type": "code",
   "execution_count": 30,
   "metadata": {},
   "outputs": [
    {
     "data": {
      "text/plain": [
       "False"
      ]
     },
     "execution_count": 30,
     "metadata": {},
     "output_type": "execute_result"
    }
   ],
   "source": [
    "a=1000\n",
    "b=2000\n",
    "a>b"
   ]
  },
  {
   "cell_type": "code",
   "execution_count": 31,
   "metadata": {},
   "outputs": [
    {
     "name": "stdout",
     "output_type": "stream",
     "text": [
      "False\n",
      "False\n",
      "True\n",
      "False\n"
     ]
    }
   ],
   "source": [
    "# and , or, !=\n",
    "print (True and False)\n",
    "print (False and False)\n",
    "print (True and True)\n",
    "print (False and True)"
   ]
  },
  {
   "cell_type": "code",
   "execution_count": 32,
   "metadata": {},
   "outputs": [
    {
     "name": "stdout",
     "output_type": "stream",
     "text": [
      "True\n",
      "False\n",
      "True\n",
      "True\n"
     ]
    }
   ],
   "source": [
    "# and , or, !=\n",
    "print (True or False)\n",
    "print (False or False)\n",
    "print (True or True)\n",
    "print (False or True)"
   ]
  },
  {
   "cell_type": "code",
   "execution_count": 33,
   "metadata": {},
   "outputs": [
    {
     "name": "stdout",
     "output_type": "stream",
     "text": [
      "True\n",
      "False\n",
      "False\n",
      "True\n"
     ]
    }
   ],
   "source": [
    "#xor, !=  .. for binar xor ^\n",
    "# t,t=t\n",
    "#t,f=f\n",
    "#f,t=f\n",
    "#f,f=t\n",
    "# and , or, !=\n",
    "print (True != False)\n",
    "print (False != False)\n",
    "print (True != True)\n",
    "print (False != True)"
   ]
  },
  {
   "cell_type": "code",
   "execution_count": 34,
   "metadata": {},
   "outputs": [
    {
     "name": "stdout",
     "output_type": "stream",
     "text": [
      "program started\n",
      "a is big\n",
      "b is big\n",
      "program ended\n"
     ]
    }
   ],
   "source": [
    "print(\"program started\")\n",
    "a=1000\n",
    "b=2000\n",
    "print(\"a is big\")\n",
    "print(\"b is big\")\n",
    "print(\"program ended\")"
   ]
  },
  {
   "cell_type": "code",
   "execution_count": 35,
   "metadata": {},
   "outputs": [
    {
     "data": {
      "text/plain": [
       "False"
      ]
     },
     "execution_count": 35,
     "metadata": {},
     "output_type": "execute_result"
    }
   ],
   "source": [
    "a=1000\n",
    "b=2000\n",
    "a>b"
   ]
  },
  {
   "cell_type": "code",
   "execution_count": 36,
   "metadata": {},
   "outputs": [
    {
     "data": {
      "text/plain": [
       "True"
      ]
     },
     "execution_count": 36,
     "metadata": {},
     "output_type": "execute_result"
    }
   ],
   "source": [
    "a=10000\n",
    "b=2000\n",
    "a>b"
   ]
  },
  {
   "cell_type": "code",
   "execution_count": 37,
   "metadata": {},
   "outputs": [
    {
     "data": {
      "text/plain": [
       "'\\nif (boolean expression):\\n    statements should execute, if above expression returns true.\\nelse:\\n   statements should execute, if above expression returns false.\\n\\n'"
      ]
     },
     "execution_count": 37,
     "metadata": {},
     "output_type": "execute_result"
    }
   ],
   "source": [
    "\"\"\"\n",
    "if (boolean expression):\n",
    "    statements should execute, if above expression returns true.\n",
    "else:\n",
    "   statements should execute, if above expression returns false.\n",
    "\n",
    "\"\"\""
   ]
  },
  {
   "cell_type": "code",
   "execution_count": 38,
   "metadata": {},
   "outputs": [
    {
     "name": "stdout",
     "output_type": "stream",
     "text": [
      "program started\n",
      "b is big\n",
      "program ended\n"
     ]
    }
   ],
   "source": [
    "print(\"program started\")\n",
    "a=1000\n",
    "b=2000\n",
    "if a>b:\n",
    " print(\"a is big\")\n",
    "else:\n",
    " print(\"b is big\")\n",
    "print(\"program ended\")"
   ]
  },
  {
   "cell_type": "code",
   "execution_count": 39,
   "metadata": {},
   "outputs": [
    {
     "name": "stdout",
     "output_type": "stream",
     "text": [
      "program started\n",
      "b is big\n",
      "program ended\n"
     ]
    }
   ],
   "source": [
    "print(\"program started\")\n",
    "a=1000\n",
    "b=2000\n",
    "if a>b:\n",
    "    print(\"a is big\")\n",
    "else:\n",
    "    print(\"b is big\")\n",
    "print(\"program ended\")"
   ]
  },
  {
   "cell_type": "code",
   "execution_count": 40,
   "metadata": {},
   "outputs": [
    {
     "name": "stdout",
     "output_type": "stream",
     "text": [
      "program started\n",
      "if block started\n",
      "a is big\n",
      "if block ended\n",
      "program ended\n"
     ]
    }
   ],
   "source": [
    "print(\"program started\")\n",
    "a=10000\n",
    "b=2000\n",
    "if a>b:\n",
    "    print(\"if block started\")\n",
    "    print(\"a is big\")\n",
    "    print\"if block ended\"\n",
    "else:\n",
    "    print(\"b is big\")\n",
    "print(\"program ended\")"
   ]
  },
  {
   "cell_type": "code",
   "execution_count": 41,
   "metadata": {},
   "outputs": [
    {
     "name": "stdout",
     "output_type": "stream",
     "text": [
      "program started\n",
      "b is big\n",
      "program ended\n"
     ]
    }
   ],
   "source": [
    "print(\"program started\")\n",
    "a=1000\n",
    "b=2000\n",
    "if a>b:\n",
    "    print(\"if block started\")\n",
    "    print(\"a is big\")\n",
    "    print\"if block ended\"\n",
    "else:\n",
    "    print(\"b is big\")\n",
    "print(\"program ended\")"
   ]
  },
  {
   "cell_type": "code",
   "execution_count": 42,
   "metadata": {},
   "outputs": [
    {
     "name": "stdout",
     "output_type": "stream",
     "text": [
      "program started\n",
      "program ended\n"
     ]
    }
   ],
   "source": [
    "print(\"program started\")\n",
    "a=1000\n",
    "b=2000\n",
    "if a>b:\n",
    "    print(\"a is big\")\n",
    "print(\"program ended\")"
   ]
  },
  {
   "cell_type": "code",
   "execution_count": 43,
   "metadata": {},
   "outputs": [
    {
     "name": "stdout",
     "output_type": "stream",
     "text": [
      "program started\n",
      "if block started\n",
      "a is big\n",
      "if block ended\n",
      "program ended\n"
     ]
    }
   ],
   "source": [
    "print(\"program started\")\n",
    "a=10000\n",
    "b=2000\n",
    "if a>b:\n",
    "    print(\"if block started\")\n",
    "    print(\"a is big\")\n",
    "    print\"if block ended\"\n",
    "else:\n",
    "    print (\"else block started\")\n",
    "    print(\"b is big\")\n",
    "    print(\"else block ended\")\n",
    "print(\"program ended\")"
   ]
  },
  {
   "cell_type": "code",
   "execution_count": 44,
   "metadata": {},
   "outputs": [
    {
     "name": "stdout",
     "output_type": "stream",
     "text": [
      "program started\n",
      "if block started\n",
      "a is big\n",
      "if block ended\n",
      "program ended\n"
     ]
    }
   ],
   "source": [
    "print(\"program started\")\n",
    "a=10000\n",
    "b=2000\n",
    "if a>b:\n",
    " print(\"if block started\")\n",
    " print(\"a is big\")\n",
    " print\"if block ended\"\n",
    "else:\n",
    "    print (\"else block started\")\n",
    "    print(\"b is big\")\n",
    "    print(\"else block ended\")\n",
    "print(\"program ended\")"
   ]
  },
  {
   "cell_type": "code",
   "execution_count": 45,
   "metadata": {},
   "outputs": [
    {
     "name": "stdout",
     "output_type": "stream",
     "text": [
      "program started\n",
      "if block started\n",
      "a is big\n",
      "if block ended\n",
      "program ended\n"
     ]
    }
   ],
   "source": [
    "print(\"program started\")\n",
    "a=10000\n",
    "b=2000\n",
    "if a>b:\n",
    "    print(\"if block started\")\n",
    "    print(\"a is big\")\n",
    "    print\"if block ended\"\n",
    "else:\n",
    "    print (\"else block started\")\n",
    "    print(\"b is big\")\n",
    "    print(\"else block ended\")\n",
    "print(\"program ended\")"
   ]
  },
  {
   "cell_type": "code",
   "execution_count": 46,
   "metadata": {},
   "outputs": [
    {
     "ename": "IndentationError",
     "evalue": "unexpected indent (<ipython-input-46-25c4effa8602>, line 6)",
     "output_type": "error",
     "traceback": [
      "\u001b[0;36m  File \u001b[0;32m\"<ipython-input-46-25c4effa8602>\"\u001b[0;36m, line \u001b[0;32m6\u001b[0m\n\u001b[0;31m    print(\"a is big\")\u001b[0m\n\u001b[0m    ^\u001b[0m\n\u001b[0;31mIndentationError\u001b[0m\u001b[0;31m:\u001b[0m unexpected indent\n"
     ]
    }
   ],
   "source": [
    "print(\"program started\")\n",
    "a=10000\n",
    "b=2000\n",
    "if a>b:\n",
    " print(\"if block started\")\n",
    "    print(\"a is big\")\n",
    "    print\"if block ended\"\n",
    "else:\n",
    "    print (\"else block started\")\n",
    "    print(\"b is big\")\n",
    "    print(\"else block ended\")\n",
    "print(\"program ended\")"
   ]
  },
  {
   "cell_type": "code",
   "execution_count": 47,
   "metadata": {},
   "outputs": [
    {
     "ename": "IndentationError",
     "evalue": "unindent does not match any outer indentation level (<ipython-input-47-c73ced3b0261>, line 6)",
     "output_type": "error",
     "traceback": [
      "\u001b[0;36m  File \u001b[0;32m\"<ipython-input-47-c73ced3b0261>\"\u001b[0;36m, line \u001b[0;32m6\u001b[0m\n\u001b[0;31m    print(\"a is big\")\u001b[0m\n\u001b[0m                     ^\u001b[0m\n\u001b[0;31mIndentationError\u001b[0m\u001b[0;31m:\u001b[0m unindent does not match any outer indentation level\n"
     ]
    }
   ],
   "source": [
    "print(\"program started\")\n",
    "a=10000\n",
    "b=2000\n",
    "if a>b:\n",
    "    print(\"if block started\")\n",
    " print(\"a is big\")\n",
    " print\"if block ended\"\n",
    "else:\n",
    "    print (\"else block started\")\n",
    "    print(\"b is big\")\n",
    "    print(\"else block ended\")\n",
    "print(\"program ended\")"
   ]
  },
  {
   "cell_type": "code",
   "execution_count": 48,
   "metadata": {},
   "outputs": [
    {
     "ename": "SyntaxError",
     "evalue": "invalid syntax (<ipython-input-48-3b19a5f8b3a4>, line 8)",
     "output_type": "error",
     "traceback": [
      "\u001b[0;36m  File \u001b[0;32m\"<ipython-input-48-3b19a5f8b3a4>\"\u001b[0;36m, line \u001b[0;32m8\u001b[0m\n\u001b[0;31m    else:\u001b[0m\n\u001b[0m       ^\u001b[0m\n\u001b[0;31mSyntaxError\u001b[0m\u001b[0;31m:\u001b[0m invalid syntax\n"
     ]
    }
   ],
   "source": [
    "print(\"program started\")\n",
    "a=10000\n",
    "b=2000\n",
    "if a>b:\n",
    "    print(\"if block started\")\n",
    "    print(\"a is big\")\n",
    "print\"if block ended\"\n",
    "else:\n",
    "    print (\"else block started\")\n",
    "    print(\"b is big\")\n",
    "    print(\"else block ended\")\n",
    "print(\"program ended\")"
   ]
  },
  {
   "cell_type": "code",
   "execution_count": null,
   "metadata": {
    "collapsed": true
   },
   "outputs": [],
   "source": [
    "print(\"program started\")\n",
    "a=10000\n",
    "b=2000\n",
    "if a>b:\n",
    "    print(\"if block started\")\n",
    "    print(\"a is big\")\n",
    "    print\"if block ended\"\n",
    "else:\n",
    "    print (\"else block started\")\n",
    "    print(\"b is big\")\n",
    "    print(\"else block ended\")\n",
    "print(\"program ended\")"
   ]
  },
  {
   "cell_type": "code",
   "execution_count": 1,
   "metadata": {},
   "outputs": [
    {
     "name": "stdout",
     "output_type": "stream",
     "text": [
      "Enter a value:10\n",
      "10\n"
     ]
    }
   ],
   "source": [
    "\"\"\"\n",
    "# create a customer\n",
    "# update customer\n",
    "# delete a customer\n",
    "# report\n",
    "\"\"\"\n",
    "a=raw_input(\"Enter a value:\")\n",
    "print(a)"
   ]
  },
  {
   "cell_type": "code",
   "execution_count": 2,
   "metadata": {},
   "outputs": [
    {
     "name": "stdout",
     "output_type": "stream",
     "text": [
      "1. create customer,2.update customer,3. delete customer, 4. report\n"
     ]
    }
   ],
   "source": [
    "print(\"1. create customer,2.update customer,3. delete customer, 4. report\")"
   ]
  },
  {
   "cell_type": "code",
   "execution_count": 4,
   "metadata": {},
   "outputs": [
    {
     "name": "stdout",
     "output_type": "stream",
     "text": [
      "1. create customer\n",
      "2. update customer\n",
      "3. delete customer\n",
      "4. report\n"
     ]
    }
   ],
   "source": [
    "print(\"1. create customer\\n2. update customer\\n3. delete customer\\n4. report\")"
   ]
  },
  {
   "cell_type": "code",
   "execution_count": 5,
   "metadata": {},
   "outputs": [
    {
     "name": "stdout",
     "output_type": "stream",
     "text": [
      "1. create customer\n",
      "2. update customer\n",
      "3. delete customer\n",
      "4. report\n"
     ]
    }
   ],
   "source": [
    "print(\"1. create customer\")\n",
    "print(\"2. update customer\")\n",
    "print(\"3. delete customer\")\n",
    "print(\"4. report\")"
   ]
  },
  {
   "cell_type": "code",
   "execution_count": 6,
   "metadata": {},
   "outputs": [
    {
     "name": "stdout",
     "output_type": "stream",
     "text": [
      "1. create customer\n",
      "2. update customer\n",
      "3. delete customer\n",
      "4. report\n"
     ]
    }
   ],
   "source": [
    "print(\"1. create customer\\n2. update customer\")\n",
    "print(\"3. delete customer\\n4. report\")"
   ]
  },
  {
   "cell_type": "code",
   "execution_count": 7,
   "metadata": {},
   "outputs": [
    {
     "ename": "SyntaxError",
     "evalue": "EOL while scanning string literal (<ipython-input-7-e0a9ae12fc86>, line 1)",
     "output_type": "error",
     "traceback": [
      "\u001b[0;36m  File \u001b[0;32m\"<ipython-input-7-e0a9ae12fc86>\"\u001b[0;36m, line \u001b[0;32m1\u001b[0m\n\u001b[0;31m    print(\"1. create customer\\n2. update customer\\n\u001b[0m\n\u001b[0m                                                  ^\u001b[0m\n\u001b[0;31mSyntaxError\u001b[0m\u001b[0;31m:\u001b[0m EOL while scanning string literal\n"
     ]
    }
   ],
   "source": [
    "print(\"1. create customer\\n2. update customer\\n\n",
    "3. delete customer\\n4. report\")"
   ]
  },
  {
   "cell_type": "code",
   "execution_count": 8,
   "metadata": {},
   "outputs": [
    {
     "name": "stdout",
     "output_type": "stream",
     "text": [
      "1. create customer\n",
      "2. update customer\n",
      "3. delete customer\n",
      "4. report\n"
     ]
    }
   ],
   "source": [
    "print(\"1. create customer\\n2. update customer\\n\\\n",
    "3. delete customer\\n4. report\")"
   ]
  },
  {
   "cell_type": "code",
   "execution_count": 9,
   "metadata": {},
   "outputs": [
    {
     "name": "stdout",
     "output_type": "stream",
     "text": [
      "1. create customer\n",
      "2. update customer\n",
      "3. delete customer\n",
      "4. report\n",
      "Enter an option:1\n"
     ]
    }
   ],
   "source": [
    "print(\"1. create customer\\n2. update customer\\n\\\n",
    "3. delete customer\\n4. report\")\n",
    "option=raw_input(\"Enter an option:\")\n",
    "if option==1:\n",
    "    cust_id=raw_input(\"Enter customer id:\")\n",
    "    cust_name=raw_input(\"Enter customer name:\")\n",
    "    print(\"customer created successfully!!\")\n",
    "if option==2:\n",
    "    cust_id=raw_input(\"Enter customer id:\")\n",
    "    print(\"Customer update done!!\")\n",
    "if option==3:\n",
    "    cust_id=raw_input(\"Enter customer id:\")\n",
    "    print(\"Customer delete done!!\")\n",
    "if option==4:\n",
    "    print \"showing reports\""
   ]
  },
  {
   "cell_type": "code",
   "execution_count": 10,
   "metadata": {},
   "outputs": [
    {
     "name": "stdout",
     "output_type": "stream",
     "text": [
      "Enter an option:python\n",
      "('python', <type 'str'>)\n"
     ]
    }
   ],
   "source": [
    "option=raw_input(\"Enter an option:\")\n",
    "print (option, type(option))"
   ]
  },
  {
   "cell_type": "code",
   "execution_count": 11,
   "metadata": {},
   "outputs": [
    {
     "name": "stdout",
     "output_type": "stream",
     "text": [
      "Enter an option:10\n",
      "('10', <type 'str'>)\n"
     ]
    }
   ],
   "source": [
    "option=raw_input(\"Enter an option:\")\n",
    "print (option, type(option))"
   ]
  },
  {
   "cell_type": "code",
   "execution_count": 12,
   "metadata": {},
   "outputs": [
    {
     "data": {
      "text/plain": [
       "False"
      ]
     },
     "execution_count": 12,
     "metadata": {},
     "output_type": "execute_result"
    }
   ],
   "source": [
    "1==\"1\""
   ]
  },
  {
   "cell_type": "code",
   "execution_count": 13,
   "metadata": {},
   "outputs": [
    {
     "data": {
      "text/plain": [
       "True"
      ]
     },
     "execution_count": 13,
     "metadata": {},
     "output_type": "execute_result"
    }
   ],
   "source": [
    "\"1\"==\"1\""
   ]
  },
  {
   "cell_type": "code",
   "execution_count": 14,
   "metadata": {},
   "outputs": [
    {
     "name": "stdout",
     "output_type": "stream",
     "text": [
      "1. create customer\n",
      "2. update customer\n",
      "3. delete customer\n",
      "4. report\n",
      "Enter an option:1\n",
      "Enter customer id:6973\n",
      "Enter customer name:sambasivarao\n",
      "customer created successfully!!\n"
     ]
    }
   ],
   "source": [
    "print(\"1. create customer\\n2. update customer\\n\\\n",
    "3. delete customer\\n4. report\")\n",
    "option=raw_input(\"Enter an option:\")\n",
    "if option==\"1\":\n",
    "    cust_id=raw_input(\"Enter customer id:\")\n",
    "    cust_name=raw_input(\"Enter customer name:\")\n",
    "    print(\"customer created successfully!!\")\n",
    "if option==\"2\":\n",
    "    cust_id=raw_input(\"Enter customer id:\")\n",
    "    print(\"Customer update done!!\")\n",
    "if option==\"3\":\n",
    "    cust_id=raw_input(\"Enter customer id:\")\n",
    "    print(\"Customer delete done!!\")\n",
    "if option==\"4\":\n",
    "    print \"showing reports\""
   ]
  },
  {
   "cell_type": "code",
   "execution_count": 15,
   "metadata": {},
   "outputs": [
    {
     "name": "stdout",
     "output_type": "stream",
     "text": [
      "1. create customer\n",
      "2. update customer\n",
      "3. delete customer\n",
      "4. report\n",
      "Enter an option:2\n",
      "Enter customer id:2\n",
      "Customer update done!!\n"
     ]
    }
   ],
   "source": [
    "print(\"1. create customer\\n2. update customer\\n\\\n",
    "3. delete customer\\n4. report\")\n",
    "option=raw_input(\"Enter an option:\")\n",
    "if option==\"1\":\n",
    "    cust_id=raw_input(\"Enter customer id:\")\n",
    "    cust_name=raw_input(\"Enter customer name:\")\n",
    "    print(\"customer created successfully!!\")\n",
    "if option==\"2\":\n",
    "    cust_id=raw_input(\"Enter customer id:\")\n",
    "    print(\"Customer update done!!\")\n",
    "if option==\"3\":\n",
    "    cust_id=raw_input(\"Enter customer id:\")\n",
    "    print(\"Customer delete done!!\")\n",
    "if option==\"4\":\n",
    "    print \"showing reports\""
   ]
  },
  {
   "cell_type": "code",
   "execution_count": 16,
   "metadata": {},
   "outputs": [
    {
     "name": "stdout",
     "output_type": "stream",
     "text": [
      "1. create customer\n",
      "2. update customer\n",
      "3. delete customer\n",
      "4. report\n",
      "Enter an option:3\n",
      "Enter customer id:4\n",
      "Customer delete done!!\n"
     ]
    }
   ],
   "source": [
    "print(\"1. create customer\\n2. update customer\\n\\\n",
    "3. delete customer\\n4. report\")\n",
    "option=raw_input(\"Enter an option:\")\n",
    "if option==\"1\":\n",
    "    cust_id=raw_input(\"Enter customer id:\")\n",
    "    cust_name=raw_input(\"Enter customer name:\")\n",
    "    print(\"customer created successfully!!\")\n",
    "if option==\"2\":\n",
    "    cust_id=raw_input(\"Enter customer id:\")\n",
    "    print(\"Customer update done!!\")\n",
    "if option==\"3\":\n",
    "    cust_id=raw_input(\"Enter customer id:\")\n",
    "    print(\"Customer delete done!!\")\n",
    "if option==\"4\":\n",
    "    print \"showing reports\""
   ]
  },
  {
   "cell_type": "code",
   "execution_count": 17,
   "metadata": {},
   "outputs": [
    {
     "name": "stdout",
     "output_type": "stream",
     "text": [
      "1. create customer\n",
      "2. update customer\n",
      "3. delete customer\n",
      "4. report\n",
      "Enter an option:4\n",
      "showing reports\n"
     ]
    }
   ],
   "source": [
    "print(\"1. create customer\\n2. update customer\\n\\\n",
    "3. delete customer\\n4. report\")\n",
    "option=raw_input(\"Enter an option:\")\n",
    "if option==\"1\":\n",
    "    cust_id=raw_input(\"Enter customer id:\")\n",
    "    cust_name=raw_input(\"Enter customer name:\")\n",
    "    print(\"customer created successfully!!\")\n",
    "if option==\"2\":\n",
    "    cust_id=raw_input(\"Enter customer id:\")\n",
    "    print(\"Customer update done!!\")\n",
    "if option==\"3\":\n",
    "    cust_id=raw_input(\"Enter customer id:\")\n",
    "    print(\"Customer delete done!!\")\n",
    "if option==\"4\":\n",
    "    print \"showing reports\""
   ]
  },
  {
   "cell_type": "code",
   "execution_count": 18,
   "metadata": {},
   "outputs": [
    {
     "name": "stdout",
     "output_type": "stream",
     "text": [
      "1. create customer\n",
      "2. update customer\n",
      "3. delete customer\n",
      "4. report\n",
      "Enter an option:5\n"
     ]
    }
   ],
   "source": [
    "print(\"1. create customer\\n2. update customer\\n\\\n",
    "3. delete customer\\n4. report\")\n",
    "option=raw_input(\"Enter an option:\")\n",
    "if option==\"1\":\n",
    "    cust_id=raw_input(\"Enter customer id:\")\n",
    "    cust_name=raw_input(\"Enter customer name:\")\n",
    "    print(\"customer created successfully!!\")\n",
    "if option==\"2\":\n",
    "    cust_id=raw_input(\"Enter customer id:\")\n",
    "    print(\"Customer update done!!\")\n",
    "if option==\"3\":\n",
    "    cust_id=raw_input(\"Enter customer id:\")\n",
    "    print(\"Customer delete done!!\")\n",
    "if option==\"4\":\n",
    "    print \"showing reports\""
   ]
  },
  {
   "cell_type": "code",
   "execution_count": 19,
   "metadata": {},
   "outputs": [
    {
     "name": "stdout",
     "output_type": "stream",
     "text": [
      "1. create customer\n",
      "2. update customer\n",
      "3. delete customer\n",
      "4. report\n",
      "Enter an option:5\n",
      "Have only 4 options, please select 1 or 2 or 3 or 4.\n"
     ]
    }
   ],
   "source": [
    "print(\"1. create customer\\n2. update customer\\n\\\n",
    "3. delete customer\\n4. report\")\n",
    "option=raw_input(\"Enter an option:\")\n",
    "if option==\"1\":\n",
    "    cust_id=raw_input(\"Enter customer id:\")\n",
    "    cust_name=raw_input(\"Enter customer name:\")\n",
    "    print(\"customer created successfully!!\")\n",
    "if option==\"2\":\n",
    "    cust_id=raw_input(\"Enter customer id:\")\n",
    "    print(\"Customer update done!!\")\n",
    "if option==\"3\":\n",
    "    cust_id=raw_input(\"Enter customer id:\")\n",
    "    print(\"Customer delete done!!\")\n",
    "if option==\"4\":\n",
    "    print \"showing reports\"\n",
    "else:\n",
    "    print(\"Have only 4 options, please select 1 or 2 or 3 or 4.\")"
   ]
  },
  {
   "cell_type": "code",
   "execution_count": 20,
   "metadata": {},
   "outputs": [
    {
     "name": "stdout",
     "output_type": "stream",
     "text": [
      "1. create customer\n",
      "2. update customer\n",
      "3. delete customer\n",
      "4. report\n",
      "Enter an option:4\n",
      "showing reports\n"
     ]
    }
   ],
   "source": [
    "print(\"1. create customer\\n2. update customer\\n\\\n",
    "3. delete customer\\n4. report\")\n",
    "option=raw_input(\"Enter an option:\")\n",
    "if option==\"1\":\n",
    "    cust_id=raw_input(\"Enter customer id:\")\n",
    "    cust_name=raw_input(\"Enter customer name:\")\n",
    "    print(\"customer created successfully!!\")\n",
    "if option==\"2\":\n",
    "    cust_id=raw_input(\"Enter customer id:\")\n",
    "    print(\"Customer update done!!\")\n",
    "if option==\"3\":\n",
    "    cust_id=raw_input(\"Enter customer id:\")\n",
    "    print(\"Customer delete done!!\")\n",
    "if option==\"4\":\n",
    "    print \"showing reports\"\n",
    "else:\n",
    "    print(\"Have only 4 options, please select 1 or 2 or 3 or 4.\")"
   ]
  },
  {
   "cell_type": "code",
   "execution_count": 21,
   "metadata": {},
   "outputs": [
    {
     "name": "stdout",
     "output_type": "stream",
     "text": [
      "1. create customer\n",
      "2. update customer\n",
      "3. delete customer\n",
      "4. report\n",
      "Enter an option:3\n",
      "Enter customer id:3\n",
      "Customer delete done!!\n",
      "Have only 4 options, please select 1 or 2 or 3 or 4.\n"
     ]
    }
   ],
   "source": [
    "print(\"1. create customer\\n2. update customer\\n\\\n",
    "3. delete customer\\n4. report\")\n",
    "option=raw_input(\"Enter an option:\")\n",
    "if option==\"1\":\n",
    "    cust_id=raw_input(\"Enter customer id:\")\n",
    "    cust_name=raw_input(\"Enter customer name:\")\n",
    "    print(\"customer created successfully!!\")\n",
    "if option==\"2\":\n",
    "    cust_id=raw_input(\"Enter customer id:\")\n",
    "    print(\"Customer update done!!\")\n",
    "if option==\"3\":\n",
    "    cust_id=raw_input(\"Enter customer id:\")\n",
    "    print(\"Customer delete done!!\")\n",
    "if option==\"4\":\n",
    "    print \"showing reports\"\n",
    "else:\n",
    "    print(\"Have only 4 options, please select 1 or 2 or 3 or 4.\")"
   ]
  },
  {
   "cell_type": "code",
   "execution_count": 23,
   "metadata": {},
   "outputs": [
    {
     "name": "stdout",
     "output_type": "stream",
     "text": [
      "1. create customer\n",
      "2. update customer\n",
      "3. delete customer\n",
      "4. report\n",
      "Enter an option:1\n",
      "Enter customer id:12\n",
      "Enter customer name:34\n",
      "customer created successfully!!\n",
      "THANK YOU!!\n"
     ]
    }
   ],
   "source": [
    "print(\"1. create customer\\n2. update customer\\n\\\n",
    "3. delete customer\\n4. report\")\n",
    "option=raw_input(\"Enter an option:\")\n",
    "if option==\"1\":\n",
    "    cust_id=raw_input(\"Enter customer id:\")\n",
    "    cust_name=raw_input(\"Enter customer name:\")\n",
    "    print(\"customer created successfully!!\")\n",
    "elif option==\"2\":\n",
    "    cust_id=raw_input(\"Enter customer id:\")\n",
    "    print(\"Customer update done!!\")\n",
    "elif option==\"3\":\n",
    "    cust_id=raw_input(\"Enter customer id:\")\n",
    "    print(\"Customer delete done!!\")\n",
    "elif option==\"4\":\n",
    "    print \"showing reports\"\n",
    "else:\n",
    "    print(\"Have only 4 options, please select 1 or 2 or 3 or 4.\")\n",
    "print (\"THANK YOU!!\")"
   ]
  },
  {
   "cell_type": "code",
   "execution_count": 24,
   "metadata": {},
   "outputs": [
    {
     "name": "stdout",
     "output_type": "stream",
     "text": [
      "1. create customer\n",
      "2. update customer\n",
      "3. delete customer\n",
      "4. report\n",
      "Enter an option:2\n",
      "Enter customer id:23\n",
      "Customer update done!!\n",
      "THANK YOU!!\n"
     ]
    }
   ],
   "source": [
    "print(\"1. create customer\\n2. update customer\\n\\\n",
    "3. delete customer\\n4. report\")\n",
    "option=raw_input(\"Enter an option:\")\n",
    "if option==\"1\":\n",
    "    cust_id=raw_input(\"Enter customer id:\")\n",
    "    cust_name=raw_input(\"Enter customer name:\")\n",
    "    print(\"customer created successfully!!\")\n",
    "elif option==\"2\":\n",
    "    cust_id=raw_input(\"Enter customer id:\")\n",
    "    print(\"Customer update done!!\")\n",
    "elif option==\"3\":\n",
    "    cust_id=raw_input(\"Enter customer id:\")\n",
    "    print(\"Customer delete done!!\")\n",
    "elif option==\"4\":\n",
    "    print \"showing reports\"\n",
    "else:\n",
    "    print(\"Have only 4 options, please select 1 or 2 or 3 or 4.\")\n",
    "print (\"THANK YOU!!\")"
   ]
  },
  {
   "cell_type": "code",
   "execution_count": 25,
   "metadata": {},
   "outputs": [
    {
     "name": "stdout",
     "output_type": "stream",
     "text": [
      "1. create customer\n",
      "2. update customer\n",
      "3. delete customer\n",
      "4. report\n",
      "Enter an option:6\n",
      "Have only 4 options, please select 1 or 2 or 3 or 4.\n",
      "THANK YOU!!\n"
     ]
    }
   ],
   "source": [
    "print(\"1. create customer\\n2. update customer\\n\\\n",
    "3. delete customer\\n4. report\")\n",
    "option=raw_input(\"Enter an option:\")\n",
    "if option==\"1\":\n",
    "    cust_id=raw_input(\"Enter customer id:\")\n",
    "    cust_name=raw_input(\"Enter customer name:\")\n",
    "    print(\"customer created successfully!!\")\n",
    "elif option==\"2\":\n",
    "    cust_id=raw_input(\"Enter customer id:\")\n",
    "    print(\"Customer update done!!\")\n",
    "elif option==\"3\":\n",
    "    cust_id=raw_input(\"Enter customer id:\")\n",
    "    print(\"Customer delete done!!\")\n",
    "elif option==\"4\":\n",
    "    print \"showing reports\"\n",
    "else:\n",
    "    print(\"Have only 4 options, please select 1 or 2 or 3 or 4.\")\n",
    "print (\"THANK YOU!!\")"
   ]
  },
  {
   "cell_type": "code",
   "execution_count": null,
   "metadata": {
    "collapsed": true
   },
   "outputs": [],
   "source": []
  }
 ],
 "metadata": {
  "kernelspec": {
   "display_name": "Python 2",
   "language": "python",
   "name": "python2"
  },
  "language_info": {
   "codemirror_mode": {
    "name": "ipython",
    "version": 2
   },
   "file_extension": ".py",
   "mimetype": "text/x-python",
   "name": "python",
   "nbconvert_exporter": "python",
   "pygments_lexer": "ipython2",
   "version": "2.7.14"
  }
 },
 "nbformat": 4,
 "nbformat_minor": 2
}
