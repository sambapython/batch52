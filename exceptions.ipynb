{
 "cells": [
  {
   "cell_type": "code",
   "execution_count": 1,
   "metadata": {},
   "outputs": [
    {
     "name": "stdout",
     "output_type": "stream",
     "text": [
      "welcome\n",
      "Enter a number:12\n",
      "Enter b number:6\n",
      "before conversion a=12, b=6\n",
      "after conversion a=12, b=6\n",
      "res=2.0\n",
      "thank you!!\n"
     ]
    }
   ],
   "source": [
    "print(\"welcome\")\n",
    "a=input(\"Enter a number:\")\n",
    "b=input(\"Enter b number:\")\n",
    "print (\"before conversion a=%s, b=%s\"%(a,b))\n",
    "a=int(a)\n",
    "b=int(b)\n",
    "print (\"after conversion a=%s, b=%s\"%(a,b))\n",
    "res=a/b\n",
    "print(\"res=%s\"%res)\n",
    "print(\"thank you!!\")"
   ]
  },
  {
   "cell_type": "code",
   "execution_count": 2,
   "metadata": {},
   "outputs": [
    {
     "name": "stdout",
     "output_type": "stream",
     "text": [
      "welcome\n",
      "Enter a number:1.2\n",
      "Enter b number:0.6\n",
      "before conversion a=1.2, b=0.6\n"
     ]
    },
    {
     "ename": "ValueError",
     "evalue": "invalid literal for int() with base 10: '1.2'",
     "output_type": "error",
     "traceback": [
      "\u001b[0;31m---------------------------------------------------------------------------\u001b[0m",
      "\u001b[0;31mValueError\u001b[0m                                Traceback (most recent call last)",
      "\u001b[0;32m<ipython-input-2-a353a8639a38>\u001b[0m in \u001b[0;36m<module>\u001b[0;34m()\u001b[0m\n\u001b[1;32m      3\u001b[0m \u001b[0mb\u001b[0m\u001b[0;34m=\u001b[0m\u001b[0minput\u001b[0m\u001b[0;34m(\u001b[0m\u001b[0;34m\"Enter b number:\"\u001b[0m\u001b[0;34m)\u001b[0m\u001b[0;34m\u001b[0m\u001b[0m\n\u001b[1;32m      4\u001b[0m \u001b[0mprint\u001b[0m \u001b[0;34m(\u001b[0m\u001b[0;34m\"before conversion a=%s, b=%s\"\u001b[0m\u001b[0;34m%\u001b[0m\u001b[0;34m(\u001b[0m\u001b[0ma\u001b[0m\u001b[0;34m,\u001b[0m\u001b[0mb\u001b[0m\u001b[0;34m)\u001b[0m\u001b[0;34m)\u001b[0m\u001b[0;34m\u001b[0m\u001b[0m\n\u001b[0;32m----> 5\u001b[0;31m \u001b[0ma\u001b[0m\u001b[0;34m=\u001b[0m\u001b[0mint\u001b[0m\u001b[0;34m(\u001b[0m\u001b[0ma\u001b[0m\u001b[0;34m)\u001b[0m\u001b[0;34m\u001b[0m\u001b[0m\n\u001b[0m\u001b[1;32m      6\u001b[0m \u001b[0mb\u001b[0m\u001b[0;34m=\u001b[0m\u001b[0mint\u001b[0m\u001b[0;34m(\u001b[0m\u001b[0mb\u001b[0m\u001b[0;34m)\u001b[0m\u001b[0;34m\u001b[0m\u001b[0m\n\u001b[1;32m      7\u001b[0m \u001b[0mprint\u001b[0m \u001b[0;34m(\u001b[0m\u001b[0;34m\"after conversion a=%s, b=%s\"\u001b[0m\u001b[0;34m%\u001b[0m\u001b[0;34m(\u001b[0m\u001b[0ma\u001b[0m\u001b[0;34m,\u001b[0m\u001b[0mb\u001b[0m\u001b[0;34m)\u001b[0m\u001b[0;34m)\u001b[0m\u001b[0;34m\u001b[0m\u001b[0m\n",
      "\u001b[0;31mValueError\u001b[0m: invalid literal for int() with base 10: '1.2'"
     ]
    }
   ],
   "source": [
    "print(\"welcome\")\n",
    "a=input(\"Enter a number:\")\n",
    "b=input(\"Enter b number:\")\n",
    "print (\"before conversion a=%s, b=%s\"%(a,b))\n",
    "a=int(a)\n",
    "b=int(b)\n",
    "print (\"after conversion a=%s, b=%s\"%(a,b))\n",
    "res=a/b\n",
    "print(\"res=%s\"%res)\n",
    "print(\"thank you!!\")"
   ]
  },
  {
   "cell_type": "code",
   "execution_count": 3,
   "metadata": {},
   "outputs": [
    {
     "data": {
      "text/plain": [
       "1"
      ]
     },
     "execution_count": 3,
     "metadata": {},
     "output_type": "execute_result"
    }
   ],
   "source": [
    "int(1.2)"
   ]
  },
  {
   "cell_type": "code",
   "execution_count": 4,
   "metadata": {},
   "outputs": [
    {
     "ename": "ValueError",
     "evalue": "invalid literal for int() with base 10: '1.2'",
     "output_type": "error",
     "traceback": [
      "\u001b[0;31m---------------------------------------------------------------------------\u001b[0m",
      "\u001b[0;31mValueError\u001b[0m                                Traceback (most recent call last)",
      "\u001b[0;32m<ipython-input-4-8a24604d2f3f>\u001b[0m in \u001b[0;36m<module>\u001b[0;34m()\u001b[0m\n\u001b[0;32m----> 1\u001b[0;31m \u001b[0mint\u001b[0m\u001b[0;34m(\u001b[0m\u001b[0;34m\"1.2\"\u001b[0m\u001b[0;34m)\u001b[0m\u001b[0;34m\u001b[0m\u001b[0m\n\u001b[0m",
      "\u001b[0;31mValueError\u001b[0m: invalid literal for int() with base 10: '1.2'"
     ]
    }
   ],
   "source": [
    "int(\"1.2\")"
   ]
  },
  {
   "cell_type": "code",
   "execution_count": 5,
   "metadata": {},
   "outputs": [
    {
     "name": "stdout",
     "output_type": "stream",
     "text": [
      "welcome\n",
      "Enter a number:12\n",
      "Enter b number:0\n",
      "before conversion a=12, b=0\n",
      "after conversion a=12, b=0\n"
     ]
    },
    {
     "ename": "ZeroDivisionError",
     "evalue": "division by zero",
     "output_type": "error",
     "traceback": [
      "\u001b[0;31m---------------------------------------------------------------------------\u001b[0m",
      "\u001b[0;31mZeroDivisionError\u001b[0m                         Traceback (most recent call last)",
      "\u001b[0;32m<ipython-input-5-a353a8639a38>\u001b[0m in \u001b[0;36m<module>\u001b[0;34m()\u001b[0m\n\u001b[1;32m      6\u001b[0m \u001b[0mb\u001b[0m\u001b[0;34m=\u001b[0m\u001b[0mint\u001b[0m\u001b[0;34m(\u001b[0m\u001b[0mb\u001b[0m\u001b[0;34m)\u001b[0m\u001b[0;34m\u001b[0m\u001b[0m\n\u001b[1;32m      7\u001b[0m \u001b[0mprint\u001b[0m \u001b[0;34m(\u001b[0m\u001b[0;34m\"after conversion a=%s, b=%s\"\u001b[0m\u001b[0;34m%\u001b[0m\u001b[0;34m(\u001b[0m\u001b[0ma\u001b[0m\u001b[0;34m,\u001b[0m\u001b[0mb\u001b[0m\u001b[0;34m)\u001b[0m\u001b[0;34m)\u001b[0m\u001b[0;34m\u001b[0m\u001b[0m\n\u001b[0;32m----> 8\u001b[0;31m \u001b[0mres\u001b[0m\u001b[0;34m=\u001b[0m\u001b[0ma\u001b[0m\u001b[0;34m/\u001b[0m\u001b[0mb\u001b[0m\u001b[0;34m\u001b[0m\u001b[0m\n\u001b[0m\u001b[1;32m      9\u001b[0m \u001b[0mprint\u001b[0m\u001b[0;34m(\u001b[0m\u001b[0;34m\"res=%s\"\u001b[0m\u001b[0;34m%\u001b[0m\u001b[0mres\u001b[0m\u001b[0;34m)\u001b[0m\u001b[0;34m\u001b[0m\u001b[0m\n\u001b[1;32m     10\u001b[0m \u001b[0mprint\u001b[0m\u001b[0;34m(\u001b[0m\u001b[0;34m\"thank you!!\"\u001b[0m\u001b[0;34m)\u001b[0m\u001b[0;34m\u001b[0m\u001b[0m\n",
      "\u001b[0;31mZeroDivisionError\u001b[0m: division by zero"
     ]
    }
   ],
   "source": [
    "print(\"welcome\")\n",
    "a=input(\"Enter a number:\")\n",
    "b=input(\"Enter b number:\")\n",
    "print (\"before conversion a=%s, b=%s\"%(a,b))\n",
    "a=int(a)\n",
    "b=int(b)\n",
    "print (\"after conversion a=%s, b=%s\"%(a,b))\n",
    "res=a/b\n",
    "print(\"res=%s\"%res)\n",
    "print(\"thank you!!\")"
   ]
  },
  {
   "cell_type": "code",
   "execution_count": 6,
   "metadata": {},
   "outputs": [
    {
     "name": "stdout",
     "output_type": "stream",
     "text": [
      "welcome\n",
      "Enter a number:1.2\n",
      "Enter b number:0.\n",
      "before conversion a=1.2, b=0.\n"
     ]
    },
    {
     "ename": "ValueError",
     "evalue": "invalid literal for int() with base 10: '1.2'",
     "output_type": "error",
     "traceback": [
      "\u001b[0;31m---------------------------------------------------------------------------\u001b[0m",
      "\u001b[0;31mValueError\u001b[0m                                Traceback (most recent call last)",
      "\u001b[0;32m<ipython-input-6-a353a8639a38>\u001b[0m in \u001b[0;36m<module>\u001b[0;34m()\u001b[0m\n\u001b[1;32m      3\u001b[0m \u001b[0mb\u001b[0m\u001b[0;34m=\u001b[0m\u001b[0minput\u001b[0m\u001b[0;34m(\u001b[0m\u001b[0;34m\"Enter b number:\"\u001b[0m\u001b[0;34m)\u001b[0m\u001b[0;34m\u001b[0m\u001b[0m\n\u001b[1;32m      4\u001b[0m \u001b[0mprint\u001b[0m \u001b[0;34m(\u001b[0m\u001b[0;34m\"before conversion a=%s, b=%s\"\u001b[0m\u001b[0;34m%\u001b[0m\u001b[0;34m(\u001b[0m\u001b[0ma\u001b[0m\u001b[0;34m,\u001b[0m\u001b[0mb\u001b[0m\u001b[0;34m)\u001b[0m\u001b[0;34m)\u001b[0m\u001b[0;34m\u001b[0m\u001b[0m\n\u001b[0;32m----> 5\u001b[0;31m \u001b[0ma\u001b[0m\u001b[0;34m=\u001b[0m\u001b[0mint\u001b[0m\u001b[0;34m(\u001b[0m\u001b[0ma\u001b[0m\u001b[0;34m)\u001b[0m\u001b[0;34m\u001b[0m\u001b[0m\n\u001b[0m\u001b[1;32m      6\u001b[0m \u001b[0mb\u001b[0m\u001b[0;34m=\u001b[0m\u001b[0mint\u001b[0m\u001b[0;34m(\u001b[0m\u001b[0mb\u001b[0m\u001b[0;34m)\u001b[0m\u001b[0;34m\u001b[0m\u001b[0m\n\u001b[1;32m      7\u001b[0m \u001b[0mprint\u001b[0m \u001b[0;34m(\u001b[0m\u001b[0;34m\"after conversion a=%s, b=%s\"\u001b[0m\u001b[0;34m%\u001b[0m\u001b[0;34m(\u001b[0m\u001b[0ma\u001b[0m\u001b[0;34m,\u001b[0m\u001b[0mb\u001b[0m\u001b[0;34m)\u001b[0m\u001b[0;34m)\u001b[0m\u001b[0;34m\u001b[0m\u001b[0m\n",
      "\u001b[0;31mValueError\u001b[0m: invalid literal for int() with base 10: '1.2'"
     ]
    }
   ],
   "source": [
    "print(\"welcome\")\n",
    "a=input(\"Enter a number:\")\n",
    "b=input(\"Enter b number:\")\n",
    "print (\"before conversion a=%s, b=%s\"%(a,b))\n",
    "a=int(a)\n",
    "b=int(b)\n",
    "print (\"after conversion a=%s, b=%s\"%(a,b))\n",
    "res=a/b\n",
    "print(\"res=%s\"%res)\n",
    "print(\"thank you!!\")"
   ]
  },
  {
   "cell_type": "markdown",
   "metadata": {},
   "source": []
  },
  {
   "cell_type": "code",
   "execution_count": 8,
   "metadata": {},
   "outputs": [
    {
     "name": "stdout",
     "output_type": "stream",
     "text": [
      "welcome\n",
      "Enter a number:1.2\n",
      "Enter b number:0.6\n",
      "before conversion a=1.2, b=0.6\n",
      "after conversion a=1.2, b=0.6\n",
      "res=2.0\n",
      "thank you!!\n"
     ]
    }
   ],
   "source": [
    "print(\"welcome\")\n",
    "a=input(\"Enter a number:\")\n",
    "b=input(\"Enter b number:\")\n",
    "print (\"before conversion a=%s, b=%s\"%(a,b))\n",
    "a=float(a)\n",
    "b=float(b)\n",
    "print (\"after conversion a=%s, b=%s\"%(a,b))\n",
    "res=a/b\n",
    "print(\"res=%s\"%res)\n",
    "print(\"thank you!!\")"
   ]
  },
  {
   "cell_type": "code",
   "execution_count": 9,
   "metadata": {},
   "outputs": [
    {
     "data": {
      "text/plain": [
       "1.2"
      ]
     },
     "execution_count": 9,
     "metadata": {},
     "output_type": "execute_result"
    }
   ],
   "source": [
    "float(\"1.2\")"
   ]
  },
  {
   "cell_type": "code",
   "execution_count": 10,
   "metadata": {},
   "outputs": [
    {
     "data": {
      "text/plain": [
       "0.6"
      ]
     },
     "execution_count": 10,
     "metadata": {},
     "output_type": "execute_result"
    }
   ],
   "source": [
    "float(\"0.6\")"
   ]
  },
  {
   "cell_type": "code",
   "execution_count": 11,
   "metadata": {},
   "outputs": [
    {
     "name": "stdout",
     "output_type": "stream",
     "text": [
      "welcome\n",
      "Enter a number:werwer\n",
      "Enter b number:sdfs\n",
      "before conversion a=werwer, b=sdfs\n"
     ]
    },
    {
     "ename": "ValueError",
     "evalue": "could not convert string to float: 'werwer'",
     "output_type": "error",
     "traceback": [
      "\u001b[0;31m---------------------------------------------------------------------------\u001b[0m",
      "\u001b[0;31mValueError\u001b[0m                                Traceback (most recent call last)",
      "\u001b[0;32m<ipython-input-11-2be9f3795819>\u001b[0m in \u001b[0;36m<module>\u001b[0;34m()\u001b[0m\n\u001b[1;32m      3\u001b[0m \u001b[0mb\u001b[0m\u001b[0;34m=\u001b[0m\u001b[0minput\u001b[0m\u001b[0;34m(\u001b[0m\u001b[0;34m\"Enter b number:\"\u001b[0m\u001b[0;34m)\u001b[0m\u001b[0;34m\u001b[0m\u001b[0m\n\u001b[1;32m      4\u001b[0m \u001b[0mprint\u001b[0m \u001b[0;34m(\u001b[0m\u001b[0;34m\"before conversion a=%s, b=%s\"\u001b[0m\u001b[0;34m%\u001b[0m\u001b[0;34m(\u001b[0m\u001b[0ma\u001b[0m\u001b[0;34m,\u001b[0m\u001b[0mb\u001b[0m\u001b[0;34m)\u001b[0m\u001b[0;34m)\u001b[0m\u001b[0;34m\u001b[0m\u001b[0m\n\u001b[0;32m----> 5\u001b[0;31m \u001b[0ma\u001b[0m\u001b[0;34m=\u001b[0m\u001b[0mfloat\u001b[0m\u001b[0;34m(\u001b[0m\u001b[0ma\u001b[0m\u001b[0;34m)\u001b[0m\u001b[0;34m\u001b[0m\u001b[0m\n\u001b[0m\u001b[1;32m      6\u001b[0m \u001b[0mb\u001b[0m\u001b[0;34m=\u001b[0m\u001b[0mfloat\u001b[0m\u001b[0;34m(\u001b[0m\u001b[0mb\u001b[0m\u001b[0;34m)\u001b[0m\u001b[0;34m\u001b[0m\u001b[0m\n\u001b[1;32m      7\u001b[0m \u001b[0mprint\u001b[0m \u001b[0;34m(\u001b[0m\u001b[0;34m\"after conversion a=%s, b=%s\"\u001b[0m\u001b[0;34m%\u001b[0m\u001b[0;34m(\u001b[0m\u001b[0ma\u001b[0m\u001b[0;34m,\u001b[0m\u001b[0mb\u001b[0m\u001b[0;34m)\u001b[0m\u001b[0;34m)\u001b[0m\u001b[0;34m\u001b[0m\u001b[0m\n",
      "\u001b[0;31mValueError\u001b[0m: could not convert string to float: 'werwer'"
     ]
    }
   ],
   "source": [
    "print(\"welcome\")\n",
    "a=input(\"Enter a number:\")\n",
    "b=input(\"Enter b number:\")\n",
    "print (\"before conversion a=%s, b=%s\"%(a,b))\n",
    "a=float(a)\n",
    "b=float(b)\n",
    "print (\"after conversion a=%s, b=%s\"%(a,b))\n",
    "res=a/b\n",
    "print(\"res=%s\"%res)\n",
    "print(\"thank you!!\")"
   ]
  },
  {
   "cell_type": "code",
   "execution_count": 12,
   "metadata": {},
   "outputs": [
    {
     "name": "stdout",
     "output_type": "stream",
     "text": [
      "welcome\n",
      "Enter a number:12\n",
      "Enter b number:6\n",
      "before conversion a=12, b=6\n",
      "after conversion a=12.0, b=6.0\n",
      "res=2.0\n",
      "thank you!!\n"
     ]
    }
   ],
   "source": [
    "try:\n",
    "    print(\"welcome\")\n",
    "    a=input(\"Enter a number:\")\n",
    "    b=input(\"Enter b number:\")\n",
    "    print (\"before conversion a=%s, b=%s\"%(a,b))\n",
    "    a=float(a)\n",
    "    b=float(b)\n",
    "    print (\"after conversion a=%s, b=%s\"%(a,b))\n",
    "    res=a/b\n",
    "    print(\"res=%s\"%res)\n",
    "    print(\"thank you!!\")\n",
    "except:\n",
    "    print(\"something went wrong!!\")"
   ]
  },
  {
   "cell_type": "code",
   "execution_count": 13,
   "metadata": {},
   "outputs": [
    {
     "name": "stdout",
     "output_type": "stream",
     "text": [
      "welcome\n",
      "Enter a number:12\n",
      "Enter b number:0\n",
      "before conversion a=12, b=0\n",
      "after conversion a=12.0, b=0.0\n",
      "something went wrong!!\n"
     ]
    }
   ],
   "source": [
    "try:\n",
    "    print(\"welcome\")\n",
    "    a=input(\"Enter a number:\")\n",
    "    b=input(\"Enter b number:\")\n",
    "    print (\"before conversion a=%s, b=%s\"%(a,b))\n",
    "    a=float(a)\n",
    "    b=float(b)\n",
    "    print (\"after conversion a=%s, b=%s\"%(a,b))\n",
    "    res=a/b\n",
    "    print(\"res=%s\"%res)\n",
    "    print(\"thank you!!\")\n",
    "except:\n",
    "    print(\"something went wrong!!\")"
   ]
  },
  {
   "cell_type": "code",
   "execution_count": 14,
   "metadata": {},
   "outputs": [
    {
     "name": "stdout",
     "output_type": "stream",
     "text": [
      "welcome\n",
      "Enter a number:12\n",
      "Enter b number:6\n",
      "before conversion a=12, b=6\n",
      "after conversion a=12.0, b=6.0\n",
      "res=2.0\n",
      "thank you!!\n"
     ]
    }
   ],
   "source": [
    "print(\"welcome\")\n",
    "a=input(\"Enter a number:\")\n",
    "b=input(\"Enter b number:\")\n",
    "print (\"before conversion a=%s, b=%s\"%(a,b))\n",
    "try:\n",
    "    a=float(a)\n",
    "    b=float(b)\n",
    "    print (\"after conversion a=%s, b=%s\"%(a,b))\n",
    "    res=a/b\n",
    "    print(\"res=%s\"%res)\n",
    "    \n",
    "except:\n",
    "    print(\"something went wrong!!\")\n",
    "print(\"thank you!!\")"
   ]
  },
  {
   "cell_type": "code",
   "execution_count": 15,
   "metadata": {},
   "outputs": [
    {
     "name": "stdout",
     "output_type": "stream",
     "text": [
      "welcome\n",
      "Enter a number:12\n",
      "Enter b number:0\n",
      "before conversion a=12, b=0\n",
      "after conversion a=12.0, b=0.0\n",
      "something went wrong!!\n",
      "thank you!!\n"
     ]
    }
   ],
   "source": [
    "print(\"welcome\")\n",
    "a=input(\"Enter a number:\")\n",
    "b=input(\"Enter b number:\")\n",
    "print (\"before conversion a=%s, b=%s\"%(a,b))\n",
    "try:\n",
    "    a=float(a)\n",
    "    b=float(b)\n",
    "    print (\"after conversion a=%s, b=%s\"%(a,b))\n",
    "    res=a/b\n",
    "    print(\"res=%s\"%res)\n",
    "except:\n",
    "    print(\"something went wrong!!\")\n",
    "print(\"thank you!!\")"
   ]
  },
  {
   "cell_type": "code",
   "execution_count": 16,
   "metadata": {},
   "outputs": [
    {
     "name": "stdout",
     "output_type": "stream",
     "text": [
      "welcome\n",
      "Enter a number:eq\n",
      "Enter b number:qwe\n",
      "before conversion a=eq, b=qwe\n",
      "something went wrong!!\n",
      "thank you!!\n"
     ]
    }
   ],
   "source": [
    "print(\"welcome\")\n",
    "a=input(\"Enter a number:\")\n",
    "b=input(\"Enter b number:\")\n",
    "print (\"before conversion a=%s, b=%s\"%(a,b))\n",
    "try:\n",
    "    a=float(a)\n",
    "    b=float(b)\n",
    "    print (\"after conversion a=%s, b=%s\"%(a,b))\n",
    "    res=a/b\n",
    "    print(\"res=%s\"%res)\n",
    "except:\n",
    "    print(\"something went wrong!!\")\n",
    "print(\"thank you!!\")"
   ]
  },
  {
   "cell_type": "code",
   "execution_count": 17,
   "metadata": {},
   "outputs": [
    {
     "name": "stdout",
     "output_type": "stream",
     "text": [
      "welcome\n",
      "Enter a number:12\n",
      "Enter b number:0\n",
      "before conversion a=12, b=0\n",
      "after conversion a=12.0, b=0.0\n",
      "something went wrong!!\n",
      "thank you!!\n"
     ]
    }
   ],
   "source": [
    "print(\"welcome\")\n",
    "a=input(\"Enter a number:\")\n",
    "b=input(\"Enter b number:\")\n",
    "print (\"before conversion a=%s, b=%s\"%(a,b))\n",
    "try:\n",
    "    a=float(a)\n",
    "    b=float(b)\n",
    "    print (\"after conversion a=%s, b=%s\"%(a,b))\n",
    "    res=a/b\n",
    "    print(\"res=%s\"%res)\n",
    "except:\n",
    "    print(\"something went wrong!!\")\n",
    "print(\"thank you!!\")"
   ]
  },
  {
   "cell_type": "code",
   "execution_count": 18,
   "metadata": {},
   "outputs": [
    {
     "name": "stdout",
     "output_type": "stream",
     "text": [
      "welcome\n",
      "Enter a number:wrew\n",
      "Enter b number:werwe\n",
      "before conversion a=wrew, b=werwe\n",
      "something went wrong!!\n",
      "thank you!!\n"
     ]
    }
   ],
   "source": [
    "print(\"welcome\")\n",
    "a=input(\"Enter a number:\")\n",
    "b=input(\"Enter b number:\")\n",
    "print (\"before conversion a=%s, b=%s\"%(a,b))\n",
    "try:\n",
    "    a=float(a)\n",
    "    b=float(b)\n",
    "    print (\"after conversion a=%s, b=%s\"%(a,b))\n",
    "    res=a/b\n",
    "    print(\"res=%s\"%res)\n",
    "except:\n",
    "    print(\"something went wrong!!\")\n",
    "print(\"thank you!!\")"
   ]
  },
  {
   "cell_type": "code",
   "execution_count": 19,
   "metadata": {},
   "outputs": [
    {
     "name": "stdout",
     "output_type": "stream",
     "text": [
      "welcome\n",
      "Enter a number:12\n",
      "Enter b number:2\n",
      "before conversion a=12, b=2\n",
      "after conversion a=12.0, b=2.0\n",
      "res=6.0\n",
      "thank you!!\n"
     ]
    }
   ],
   "source": [
    "print(\"welcome\")\n",
    "a=input(\"Enter a number:\")\n",
    "b=input(\"Enter b number:\")\n",
    "print (\"before conversion a=%s, b=%s\"%(a,b))\n",
    "try:\n",
    "    a=float(a)\n",
    "    b=float(b)\n",
    "    print (\"after conversion a=%s, b=%s\"%(a,b))\n",
    "    res=a/b\n",
    "    print(\"res=%s\"%res)\n",
    "except Exception as err:\n",
    "    print(err)\n",
    "    print(\"something went wrong!!\")\n",
    "print(\"thank you!!\")"
   ]
  },
  {
   "cell_type": "code",
   "execution_count": 21,
   "metadata": {},
   "outputs": [
    {
     "name": "stdout",
     "output_type": "stream",
     "text": [
      "welcome\n",
      "Enter a number:12\n",
      "Enter b number:0\n",
      "before conversion a=12, b=0\n",
      "after conversion a=12.0, b=0.0\n",
      "ERROR: float division by zero\n",
      "something went wrong!!\n",
      "thank you!!\n"
     ]
    }
   ],
   "source": [
    "print(\"welcome\")\n",
    "a=input(\"Enter a number:\")\n",
    "b=input(\"Enter b number:\")\n",
    "print (\"before conversion a=%s, b=%s\"%(a,b))\n",
    "try:\n",
    "    a=float(a)\n",
    "    b=float(b)\n",
    "    print (\"after conversion a=%s, b=%s\"%(a,b))\n",
    "    res=a/b\n",
    "    print(\"res=%s\"%res)\n",
    "except Exception as err:\n",
    "    print(\"ERROR:\",err)\n",
    "    print(\"something went wrong!!\")\n",
    "print(\"thank you!!\")"
   ]
  },
  {
   "cell_type": "code",
   "execution_count": 22,
   "metadata": {},
   "outputs": [
    {
     "name": "stdout",
     "output_type": "stream",
     "text": [
      "welcome\n",
      "Enter a number:qwer\n",
      "Enter b number:12\n",
      "before conversion a=qwer, b=12\n",
      "ERROR: could not convert string to float: 'qwer'\n",
      "something went wrong!!\n",
      "thank you!!\n"
     ]
    }
   ],
   "source": [
    "print(\"welcome\")\n",
    "a=input(\"Enter a number:\")\n",
    "b=input(\"Enter b number:\")\n",
    "print (\"before conversion a=%s, b=%s\"%(a,b))\n",
    "try:\n",
    "    a=float(a)\n",
    "    b=float(b)\n",
    "    print (\"after conversion a=%s, b=%s\"%(a,b))\n",
    "    res=a/b\n",
    "    print(\"res=%s\"%res)\n",
    "except Exception as err:\n",
    "    print(\"ERROR:\",err)\n",
    "    print(\"something went wrong!!\")\n",
    "print(\"thank you!!\")"
   ]
  },
  {
   "cell_type": "code",
   "execution_count": 23,
   "metadata": {},
   "outputs": [
    {
     "name": "stdout",
     "output_type": "stream",
     "text": [
      "welcome\n",
      "Enter a number:12\n",
      "Enter b number:6\n",
      "before conversion a=12, b=6\n",
      "after conversion a=12.0, b=6.0\n",
      "res=2.0\n",
      "thank you!!\n"
     ]
    }
   ],
   "source": [
    "print(\"welcome\")\n",
    "a=input(\"Enter a number:\")\n",
    "b=input(\"Enter b number:\")\n",
    "print (\"before conversion a=%s, b=%s\"%(a,b))\n",
    "try:\n",
    "    a=float(a)\n",
    "    b=float(b)\n",
    "    print (\"after conversion a=%s, b=%s\"%(a,b))\n",
    "    res=a/b\n",
    "    print(\"res=%s\"%res)\n",
    "except ZeroDivisionError:\n",
    "    print(\"expecting >0 value for b\")\n",
    "except ValueError:\n",
    "    print(\"expectiong only digits\")\n",
    "except Exception as err:\n",
    "    print(\"ERROR:\",err)\n",
    "    print(\"something went wrong!!\")\n",
    "print(\"thank you!!\")"
   ]
  },
  {
   "cell_type": "code",
   "execution_count": 24,
   "metadata": {},
   "outputs": [
    {
     "name": "stdout",
     "output_type": "stream",
     "text": [
      "welcome\n",
      "Enter a number:12\n",
      "Enter b number:0\n",
      "before conversion a=12, b=0\n",
      "after conversion a=12.0, b=0.0\n",
      "expecting >0 value for b\n",
      "thank you!!\n"
     ]
    }
   ],
   "source": [
    "print(\"welcome\")\n",
    "a=input(\"Enter a number:\")\n",
    "b=input(\"Enter b number:\")\n",
    "print (\"before conversion a=%s, b=%s\"%(a,b))\n",
    "try:\n",
    "    a=float(a)\n",
    "    b=float(b)\n",
    "    print (\"after conversion a=%s, b=%s\"%(a,b))\n",
    "    res=a/b\n",
    "    print(\"res=%s\"%res)\n",
    "except ZeroDivisionError:\n",
    "    print(\"expecting >0 value for b\")\n",
    "except ValueError:\n",
    "    print(\"expectiong only digits\")\n",
    "except Exception as err:\n",
    "    print(\"ERROR:\",err)\n",
    "    print(\"something went wrong!!\")\n",
    "print(\"thank you!!\")"
   ]
  },
  {
   "cell_type": "code",
   "execution_count": 25,
   "metadata": {},
   "outputs": [
    {
     "name": "stdout",
     "output_type": "stream",
     "text": [
      "welcome\n",
      "Enter a number:12\n",
      "Enter b number:0\n",
      "before conversion a=12, b=0\n",
      "after conversion a=12.0, b=0.0\n",
      "expecting >0 value for b\n",
      "thank you!!\n"
     ]
    }
   ],
   "source": [
    "print(\"welcome\")\n",
    "a=input(\"Enter a number:\")\n",
    "b=input(\"Enter b number:\")\n",
    "print (\"before conversion a=%s, b=%s\"%(a,b))\n",
    "try:\n",
    "    a=float(a)\n",
    "    b=float(b)\n",
    "    print (\"after conversion a=%s, b=%s\"%(a,b))\n",
    "    res=a/b\n",
    "    print(\"res=%s\"%res)\n",
    "except ZeroDivisionError:\n",
    "    print(\"expecting >0 value for b\")\n",
    "except ZeroDivisionError:\n",
    "    print(\"expecting >0 value for b\")\n",
    "except ValueError:\n",
    "    print(\"expectiong only digits\")\n",
    "except Exception as err:\n",
    "    print(\"ERROR:\",err)\n",
    "    print(\"something went wrong!!\")\n",
    "except:\n",
    "    print(\"some system exceptions!!\")\n",
    "print(\"thank you!!\")"
   ]
  },
  {
   "cell_type": "code",
   "execution_count": 28,
   "metadata": {},
   "outputs": [
    {
     "ename": "ModuleNotFoundError",
     "evalue": "No module named 'exceptions'",
     "output_type": "error",
     "traceback": [
      "\u001b[0;31m---------------------------------------------------------------------------\u001b[0m",
      "\u001b[0;31mModuleNotFoundError\u001b[0m                       Traceback (most recent call last)",
      "\u001b[0;32m<ipython-input-28-1a320eafe330>\u001b[0m in \u001b[0;36m<module>\u001b[0;34m()\u001b[0m\n\u001b[0;32m----> 1\u001b[0;31m \u001b[0;32mimport\u001b[0m \u001b[0mexceptions\u001b[0m\u001b[0;34m\u001b[0m\u001b[0m\n\u001b[0m",
      "\u001b[0;31mModuleNotFoundError\u001b[0m: No module named 'exceptions'"
     ]
    }
   ],
   "source": [
    "import exceptions"
   ]
  },
  {
   "cell_type": "code",
   "execution_count": 1,
   "metadata": {},
   "outputs": [
    {
     "ename": "Exception",
     "evalue": "Authetication details are not matched",
     "output_type": "error",
     "traceback": [
      "\u001b[0;31m---------------------------------------------------------------------------\u001b[0m",
      "\u001b[0;31mException\u001b[0m                                 Traceback (most recent call last)",
      "\u001b[0;32m<ipython-input-1-74775dbcc877>\u001b[0m in \u001b[0;36m<module>\u001b[0;34m()\u001b[0m\n\u001b[0;32m----> 1\u001b[0;31m \u001b[0;32mraise\u001b[0m \u001b[0mException\u001b[0m\u001b[0;34m(\u001b[0m\u001b[0;34m\"Authetication details are not matched\"\u001b[0m\u001b[0;34m)\u001b[0m\u001b[0;34m\u001b[0m\u001b[0m\n\u001b[0m",
      "\u001b[0;31mException\u001b[0m: Authetication details are not matched"
     ]
    }
   ],
   "source": [
    "raise Exception(\"Authetication details are not matched\")"
   ]
  },
  {
   "cell_type": "code",
   "execution_count": 2,
   "metadata": {},
   "outputs": [
    {
     "ename": "ZeroDivisionError",
     "evalue": "division by zero",
     "output_type": "error",
     "traceback": [
      "\u001b[0;31m---------------------------------------------------------------------------\u001b[0m",
      "\u001b[0;31mZeroDivisionError\u001b[0m                         Traceback (most recent call last)",
      "\u001b[0;32m<ipython-input-2-339645737bed>\u001b[0m in \u001b[0;36m<module>\u001b[0;34m()\u001b[0m\n\u001b[1;32m      3\u001b[0m \u001b[0;32mtry\u001b[0m\u001b[0;34m:\u001b[0m\u001b[0;34m\u001b[0m\u001b[0m\n\u001b[1;32m      4\u001b[0m     \u001b[0mf\u001b[0m\u001b[0;34m.\u001b[0m\u001b[0mwrite\u001b[0m\u001b[0;34m(\u001b[0m\u001b[0;34m\"some data\"\u001b[0m\u001b[0;34m)\u001b[0m\u001b[0;34m\u001b[0m\u001b[0m\n\u001b[0;32m----> 5\u001b[0;31m     \u001b[0mprint\u001b[0m\u001b[0;34m(\u001b[0m\u001b[0;36m1\u001b[0m\u001b[0;34m/\u001b[0m\u001b[0;36m0\u001b[0m\u001b[0;34m)\u001b[0m\u001b[0;34m\u001b[0m\u001b[0m\n\u001b[0m\u001b[1;32m      6\u001b[0m \u001b[0;32mexcept\u001b[0m \u001b[0mValueError\u001b[0m \u001b[0;32mas\u001b[0m \u001b[0merr\u001b[0m\u001b[0;34m:\u001b[0m\u001b[0;34m\u001b[0m\u001b[0m\n\u001b[1;32m      7\u001b[0m     \u001b[0mprint\u001b[0m\u001b[0;34m(\u001b[0m\u001b[0merr\u001b[0m\u001b[0;34m)\u001b[0m\u001b[0;34m\u001b[0m\u001b[0m\n",
      "\u001b[0;31mZeroDivisionError\u001b[0m: division by zero"
     ]
    }
   ],
   "source": [
    "# finally, else.\n",
    "f=open(\"data3.csv\",\"w\")\n",
    "try:\n",
    "    f.write(\"some data\")\n",
    "    print(1/0)\n",
    "except ValueError as err:\n",
    "    print(err)\n",
    "f.close()\n",
    "print(\"main block statements\")\n",
    "    "
   ]
  },
  {
   "cell_type": "code",
   "execution_count": 3,
   "metadata": {},
   "outputs": [
    {
     "ename": "ZeroDivisionError",
     "evalue": "division by zero",
     "output_type": "error",
     "traceback": [
      "\u001b[0;31m---------------------------------------------------------------------------\u001b[0m",
      "\u001b[0;31mZeroDivisionError\u001b[0m                         Traceback (most recent call last)",
      "\u001b[0;32m<ipython-input-3-5e41400bc8e4>\u001b[0m in \u001b[0;36m<module>\u001b[0;34m()\u001b[0m\n\u001b[1;32m      3\u001b[0m \u001b[0;32mtry\u001b[0m\u001b[0;34m:\u001b[0m\u001b[0;34m\u001b[0m\u001b[0m\n\u001b[1;32m      4\u001b[0m     \u001b[0mf\u001b[0m\u001b[0;34m.\u001b[0m\u001b[0mwrite\u001b[0m\u001b[0;34m(\u001b[0m\u001b[0;34m\"some data\"\u001b[0m\u001b[0;34m)\u001b[0m\u001b[0;34m\u001b[0m\u001b[0m\n\u001b[0;32m----> 5\u001b[0;31m     \u001b[0mprint\u001b[0m\u001b[0;34m(\u001b[0m\u001b[0;36m1\u001b[0m\u001b[0;34m/\u001b[0m\u001b[0;36m0\u001b[0m\u001b[0;34m)\u001b[0m\u001b[0;34m\u001b[0m\u001b[0m\n\u001b[0m\u001b[1;32m      6\u001b[0m \u001b[0;32mexcept\u001b[0m \u001b[0mValueError\u001b[0m \u001b[0;32mas\u001b[0m \u001b[0merr\u001b[0m\u001b[0;34m:\u001b[0m\u001b[0;34m\u001b[0m\u001b[0m\n\u001b[1;32m      7\u001b[0m     \u001b[0mprint\u001b[0m\u001b[0;34m(\u001b[0m\u001b[0merr\u001b[0m\u001b[0;34m)\u001b[0m\u001b[0;34m\u001b[0m\u001b[0m\n",
      "\u001b[0;31mZeroDivisionError\u001b[0m: division by zero"
     ]
    }
   ],
   "source": [
    "# finally, else.\n",
    "f=open(\"data3.csv\",\"w\")\n",
    "try:\n",
    "    f.write(\"some data\")\n",
    "    print(1/0)\n",
    "except ValueError as err:\n",
    "    print(err)\n",
    "finally:\n",
    "    f.close()\n",
    "print(\"main block statements\")\n",
    "    "
   ]
  },
  {
   "cell_type": "code",
   "execution_count": 4,
   "metadata": {},
   "outputs": [
    {
     "name": "stdout",
     "output_type": "stream",
     "text": [
      "division by zero\n",
      "main block statements\n"
     ]
    }
   ],
   "source": [
    "# finally, else.\n",
    "f=open(\"data3.csv\",\"w\")\n",
    "try:\n",
    "    f.write(\"some data\")\n",
    "    print(1/0)\n",
    "except ValueError as err:\n",
    "    print(err)\n",
    "except Exception as err:\n",
    "    print(err)\n",
    "finally:\n",
    "    f.close()\n",
    "print(\"main block statements\")\n",
    "    "
   ]
  },
  {
   "cell_type": "code",
   "execution_count": 5,
   "metadata": {},
   "outputs": [
    {
     "name": "stdout",
     "output_type": "stream",
     "text": [
      "try\n",
      "res= 10\n"
     ]
    }
   ],
   "source": [
    "def fun():\n",
    "    print(\"try\")\n",
    "    return 10\n",
    "    print(\"function block statement\")\n",
    "res=fun()\n",
    "print(\"res=\",res)"
   ]
  },
  {
   "cell_type": "code",
   "execution_count": 6,
   "metadata": {},
   "outputs": [
    {
     "name": "stdout",
     "output_type": "stream",
     "text": [
      "try\n",
      "finally\n",
      "res= 10\n"
     ]
    }
   ],
   "source": [
    "def fun():\n",
    "    try:\n",
    "        print(\"try\")\n",
    "        return 10\n",
    "    except Exception as err:\n",
    "        print(err)\n",
    "        return 20\n",
    "    finally:\n",
    "        print(\"finally\")\n",
    "    print(\"function block statement\")\n",
    "res=fun()\n",
    "print(\"res=\",res)"
   ]
  },
  {
   "cell_type": "code",
   "execution_count": 7,
   "metadata": {},
   "outputs": [
    {
     "name": "stdout",
     "output_type": "stream",
     "text": [
      "try\n",
      "finally\n",
      "res= 30\n"
     ]
    }
   ],
   "source": [
    "def fun():\n",
    "    try:\n",
    "        print(\"try\")\n",
    "        return 10\n",
    "    except Exception as err:\n",
    "        print(err)\n",
    "        return 20\n",
    "    finally:\n",
    "        print(\"finally\")\n",
    "        return 30\n",
    "    print(\"function block statement\")\n",
    "res=fun()\n",
    "print(\"res=\",res)"
   ]
  },
  {
   "cell_type": "code",
   "execution_count": 8,
   "metadata": {},
   "outputs": [
    {
     "name": "stdout",
     "output_type": "stream",
     "text": [
      "iteration started:0\n",
      "this is try\n",
      "0\n",
      "finally\n",
      "iteration ended\n",
      "iteration started:1\n",
      "this is try\n",
      "1\n",
      "finally\n",
      "iteration ended\n",
      "iteration started:2\n",
      "this is try\n",
      "2\n",
      "finally\n",
      "iteration ended\n",
      "iteration started:3\n",
      "this is try\n",
      "3\n",
      "finally\n",
      "iteration ended\n",
      "iteration started:4\n",
      "this is try\n",
      "4\n",
      "finally\n",
      "iteration ended\n",
      "iteration started:5\n",
      "this is try\n",
      "finally\n"
     ]
    }
   ],
   "source": [
    "for i in range(10):\n",
    "    print(\"iteration started:%s\"%i)\n",
    "    try:\n",
    "        print(\"this is try\")\n",
    "        if i==5:\n",
    "            break\n",
    "        print(i)\n",
    "    except:\n",
    "        print(\"except\")\n",
    "    finally:\n",
    "        print(\"finally\")\n",
    "    print(\"iteration ended\")"
   ]
  },
  {
   "cell_type": "code",
   "execution_count": 9,
   "metadata": {},
   "outputs": [
    {
     "name": "stdout",
     "output_type": "stream",
     "text": [
      "try\n",
      "else\n",
      "finally\n"
     ]
    }
   ],
   "source": [
    "#else\n",
    "try:\n",
    "    print(\"try\")\n",
    "except:\n",
    "    print(\"except\")\n",
    "else:\n",
    "    print(\"else\")\n",
    "finally:\n",
    "    print(\"finally\")"
   ]
  },
  {
   "cell_type": "code",
   "execution_count": 10,
   "metadata": {},
   "outputs": [
    {
     "name": "stdout",
     "output_type": "stream",
     "text": [
      "try\n",
      "except\n",
      "finally\n"
     ]
    }
   ],
   "source": [
    "#else\n",
    "try:\n",
    "    print(\"try\")\n",
    "    print(1/0)\n",
    "except:\n",
    "    print(\"except\")\n",
    "else:\n",
    "    print(\"else\")\n",
    "finally:\n",
    "    print(\"finally\")"
   ]
  },
  {
   "cell_type": "code",
   "execution_count": 11,
   "metadata": {},
   "outputs": [
    {
     "name": "stdout",
     "output_type": "stream",
     "text": [
      "The person name vedha,  he is 0.9 years old\n"
     ]
    }
   ],
   "source": [
    "person={\"name\":\"vedha\",\"age\":0.9}\n",
    "print(\"The person name %s,  he is %s years old\"%(person.get(\"name\"),person.get(\"age\")))"
   ]
  },
  {
   "cell_type": "code",
   "execution_count": 12,
   "metadata": {},
   "outputs": [
    {
     "name": "stdout",
     "output_type": "stream",
     "text": [
      "The person name vedha,  he is 0.9 years old\n"
     ]
    }
   ],
   "source": [
    "person={\"name\":\"vedha\",\"age\":0.9}\n",
    "print(\"The person name %(name)s,  he is %(age)s years old\"%person)"
   ]
  },
  {
   "cell_type": "code",
   "execution_count": null,
   "metadata": {},
   "outputs": [],
   "source": []
  }
 ],
 "metadata": {
  "kernelspec": {
   "display_name": "Python 3",
   "language": "python",
   "name": "python3"
  },
  "language_info": {
   "codemirror_mode": {
    "name": "ipython",
    "version": 3
   },
   "file_extension": ".py",
   "mimetype": "text/x-python",
   "name": "python",
   "nbconvert_exporter": "python",
   "pygments_lexer": "ipython3",
   "version": "3.7.0"
  }
 },
 "nbformat": 4,
 "nbformat_minor": 2
}
