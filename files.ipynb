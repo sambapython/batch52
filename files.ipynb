{
 "cells": [
  {
   "cell_type": "code",
   "execution_count": 1,
   "metadata": {},
   "outputs": [
    {
     "data": {
      "text/plain": [
       "9"
      ]
     },
     "execution_count": 1,
     "metadata": {},
     "output_type": "execute_result"
    }
   ],
   "source": [
    "f=open(\"data.csv\",\"w\")\n",
    "f.write(\"some data\")"
   ]
  },
  {
   "cell_type": "code",
   "execution_count": 2,
   "metadata": {},
   "outputs": [],
   "source": [
    "f.close()"
   ]
  },
  {
   "cell_type": "code",
   "execution_count": 1,
   "metadata": {},
   "outputs": [],
   "source": [
    "f=open(\"data.csv\",\"w\")"
   ]
  },
  {
   "cell_type": "code",
   "execution_count": 2,
   "metadata": {},
   "outputs": [
    {
     "ename": "TypeError",
     "evalue": "write() argument must be str, not list",
     "output_type": "error",
     "traceback": [
      "\u001b[0;31m---------------------------------------------------------------------------\u001b[0m",
      "\u001b[0;31mTypeError\u001b[0m                                 Traceback (most recent call last)",
      "\u001b[0;32m<ipython-input-2-85979738e91d>\u001b[0m in \u001b[0;36m<module>\u001b[0;34m()\u001b[0m\n\u001b[1;32m      1\u001b[0m \u001b[0mf\u001b[0m\u001b[0;34m=\u001b[0m\u001b[0mopen\u001b[0m\u001b[0;34m(\u001b[0m\u001b[0;34m\"data.csv\"\u001b[0m\u001b[0;34m,\u001b[0m\u001b[0;34m\"w\"\u001b[0m\u001b[0;34m)\u001b[0m\u001b[0;34m\u001b[0m\u001b[0m\n\u001b[1;32m      2\u001b[0m \u001b[0ml\u001b[0m\u001b[0;34m=\u001b[0m\u001b[0;34m[\u001b[0m\u001b[0;34m\"jayaram\"\u001b[0m\u001b[0;34m,\u001b[0m\u001b[0;34m\"vedhanvesh\"\u001b[0m\u001b[0;34m,\u001b[0m\u001b[0;34m\"sai\"\u001b[0m\u001b[0;34m,\u001b[0m\u001b[0;34m\"dhana\"\u001b[0m\u001b[0;34m,\u001b[0m\u001b[0;34m\"danush\"\u001b[0m\u001b[0;34m]\u001b[0m\u001b[0;34m\u001b[0m\u001b[0m\n\u001b[0;32m----> 3\u001b[0;31m \u001b[0mf\u001b[0m\u001b[0;34m.\u001b[0m\u001b[0mwrite\u001b[0m\u001b[0;34m(\u001b[0m\u001b[0ml\u001b[0m\u001b[0;34m)\u001b[0m\u001b[0;34m\u001b[0m\u001b[0m\n\u001b[0m\u001b[1;32m      4\u001b[0m \u001b[0mf\u001b[0m\u001b[0;34m.\u001b[0m\u001b[0mclose\u001b[0m\u001b[0;34m(\u001b[0m\u001b[0;34m)\u001b[0m\u001b[0;34m\u001b[0m\u001b[0m\n",
      "\u001b[0;31mTypeError\u001b[0m: write() argument must be str, not list"
     ]
    }
   ],
   "source": [
    "f=open(\"data.csv\",\"w\")\n",
    "l=[\"jayaram\",\"vedhanvesh\",\"sai\",\"dhana\",\"danush\"]\n",
    "f.write(l)\n",
    "f.close()"
   ]
  },
  {
   "cell_type": "code",
   "execution_count": 3,
   "metadata": {},
   "outputs": [],
   "source": [
    "f=open(\"data.csv\",\"w\")\n",
    "l=[\"jayaram\",\"vedhanvesh\",\"sai\",\"dhana\",\"danush\"]\n",
    "f.writelines(l)\n",
    "f.close()"
   ]
  },
  {
   "cell_type": "code",
   "execution_count": 4,
   "metadata": {},
   "outputs": [],
   "source": [
    "f=open(\"data.csv\",\"w\")\n",
    "l=[\"jayaram\\n\",\"vedhanvesh\\n\",\"sai\\n\",\"dhana\\n\",\"danush\\n\"]\n",
    "f.writelines(l)\n",
    "f.close()"
   ]
  },
  {
   "cell_type": "code",
   "execution_count": 5,
   "metadata": {},
   "outputs": [
    {
     "ename": "ValueError",
     "evalue": "I/O operation on closed file.",
     "output_type": "error",
     "traceback": [
      "\u001b[0;31m---------------------------------------------------------------------------\u001b[0m",
      "\u001b[0;31mValueError\u001b[0m                                Traceback (most recent call last)",
      "\u001b[0;32m<ipython-input-5-82f0f59610e0>\u001b[0m in \u001b[0;36m<module>\u001b[0;34m()\u001b[0m\n\u001b[0;32m----> 1\u001b[0;31m \u001b[0mf\u001b[0m\u001b[0;34m.\u001b[0m\u001b[0mwrite\u001b[0m\u001b[0;34m(\u001b[0m\u001b[0;34m\"data after close\"\u001b[0m\u001b[0;34m)\u001b[0m\u001b[0;34m\u001b[0m\u001b[0m\n\u001b[0m",
      "\u001b[0;31mValueError\u001b[0m: I/O operation on closed file."
     ]
    }
   ],
   "source": [
    "f.write(\"data after close\")"
   ]
  },
  {
   "cell_type": "code",
   "execution_count": 6,
   "metadata": {},
   "outputs": [
    {
     "ename": "ZeroDivisionError",
     "evalue": "division by zero",
     "output_type": "error",
     "traceback": [
      "\u001b[0;31m---------------------------------------------------------------------------\u001b[0m",
      "\u001b[0;31mZeroDivisionError\u001b[0m                         Traceback (most recent call last)",
      "\u001b[0;32m<ipython-input-6-730a01d66ed7>\u001b[0m in \u001b[0;36m<module>\u001b[0;34m()\u001b[0m\n\u001b[1;32m      2\u001b[0m \u001b[0ml\u001b[0m\u001b[0;34m=\u001b[0m\u001b[0;34m[\u001b[0m\u001b[0;34m\"jayaram\\n\"\u001b[0m\u001b[0;34m,\u001b[0m\u001b[0;34m\"vedhanvesh\\n\"\u001b[0m\u001b[0;34m,\u001b[0m\u001b[0;34m\"sai\\n\"\u001b[0m\u001b[0;34m,\u001b[0m\u001b[0;34m\"dhana\\n\"\u001b[0m\u001b[0;34m,\u001b[0m\u001b[0;34m\"danush\\n\"\u001b[0m\u001b[0;34m]\u001b[0m\u001b[0;34m\u001b[0m\u001b[0m\n\u001b[1;32m      3\u001b[0m \u001b[0mf\u001b[0m\u001b[0;34m.\u001b[0m\u001b[0mwritelines\u001b[0m\u001b[0;34m(\u001b[0m\u001b[0ml\u001b[0m\u001b[0;34m)\u001b[0m\u001b[0;34m\u001b[0m\u001b[0m\n\u001b[0;32m----> 4\u001b[0;31m \u001b[0mprint\u001b[0m\u001b[0;34m(\u001b[0m\u001b[0;36m1\u001b[0m\u001b[0;34m/\u001b[0m\u001b[0;36m0\u001b[0m\u001b[0;34m)\u001b[0m\u001b[0;34m\u001b[0m\u001b[0m\n\u001b[0m\u001b[1;32m      5\u001b[0m \u001b[0mf\u001b[0m\u001b[0;34m.\u001b[0m\u001b[0mclose\u001b[0m\u001b[0;34m(\u001b[0m\u001b[0;34m)\u001b[0m\u001b[0;34m\u001b[0m\u001b[0m\n",
      "\u001b[0;31mZeroDivisionError\u001b[0m: division by zero"
     ]
    }
   ],
   "source": [
    "f=open(\"data.csv\",\"w\")\n",
    "l=[\"jayaram\\n\",\"vedhanvesh\\n\",\"sai\\n\",\"dhana\\n\",\"danush\\n\"]\n",
    "f.writelines(l)\n",
    "print(1/0)\n",
    "f.close()"
   ]
  },
  {
   "cell_type": "code",
   "execution_count": 7,
   "metadata": {},
   "outputs": [
    {
     "ename": "ZeroDivisionError",
     "evalue": "division by zero",
     "output_type": "error",
     "traceback": [
      "\u001b[0;31m---------------------------------------------------------------------------\u001b[0m",
      "\u001b[0;31mZeroDivisionError\u001b[0m                         Traceback (most recent call last)",
      "\u001b[0;32m<ipython-input-7-97ad4e541409>\u001b[0m in \u001b[0;36m<module>\u001b[0;34m()\u001b[0m\n\u001b[1;32m      4\u001b[0m \u001b[0mf\u001b[0m\u001b[0;34m.\u001b[0m\u001b[0mflush\u001b[0m\u001b[0;34m(\u001b[0m\u001b[0;34m)\u001b[0m\u001b[0;34m\u001b[0m\u001b[0m\n\u001b[1;32m      5\u001b[0m \u001b[0mf\u001b[0m\u001b[0;34m.\u001b[0m\u001b[0mwrite\u001b[0m\u001b[0;34m(\u001b[0m\u001b[0;34m\"data after flsuh\\n\"\u001b[0m\u001b[0;34m)\u001b[0m\u001b[0;34m\u001b[0m\u001b[0m\n\u001b[0;32m----> 6\u001b[0;31m \u001b[0mprint\u001b[0m\u001b[0;34m(\u001b[0m\u001b[0;36m1\u001b[0m\u001b[0;34m/\u001b[0m\u001b[0;36m0\u001b[0m\u001b[0;34m)\u001b[0m\u001b[0;34m\u001b[0m\u001b[0m\n\u001b[0m\u001b[1;32m      7\u001b[0m \u001b[0mf\u001b[0m\u001b[0;34m.\u001b[0m\u001b[0mclose\u001b[0m\u001b[0;34m(\u001b[0m\u001b[0;34m)\u001b[0m\u001b[0;34m\u001b[0m\u001b[0m\n",
      "\u001b[0;31mZeroDivisionError\u001b[0m: division by zero"
     ]
    }
   ],
   "source": [
    "f=open(\"data.csv\",\"w\")\n",
    "l=[\"jayaram\\n\",\"vedhanvesh\\n\",\"sai\\n\",\"dhana\\n\",\"danush\\n\"]\n",
    "f.writelines(l)\n",
    "f.flush()\n",
    "f.write(\"data after flsuh\\n\")\n",
    "print(1/0)\n",
    "f.close()"
   ]
  },
  {
   "cell_type": "code",
   "execution_count": 8,
   "metadata": {},
   "outputs": [
    {
     "ename": "ZeroDivisionError",
     "evalue": "division by zero",
     "output_type": "error",
     "traceback": [
      "\u001b[0;31m---------------------------------------------------------------------------\u001b[0m",
      "\u001b[0;31mZeroDivisionError\u001b[0m                         Traceback (most recent call last)",
      "\u001b[0;32m<ipython-input-8-0c09445a8e90>\u001b[0m in \u001b[0;36m<module>\u001b[0;34m()\u001b[0m\n\u001b[1;32m      5\u001b[0m \u001b[0mf\u001b[0m\u001b[0;34m.\u001b[0m\u001b[0mwrite\u001b[0m\u001b[0;34m(\u001b[0m\u001b[0;34m\"data after flsuh\\n\"\u001b[0m\u001b[0;34m)\u001b[0m\u001b[0;34m\u001b[0m\u001b[0m\n\u001b[1;32m      6\u001b[0m \u001b[0mf\u001b[0m\u001b[0;34m.\u001b[0m\u001b[0mflush\u001b[0m\u001b[0;34m(\u001b[0m\u001b[0;34m)\u001b[0m\u001b[0;34m\u001b[0m\u001b[0m\n\u001b[0;32m----> 7\u001b[0;31m \u001b[0mprint\u001b[0m\u001b[0;34m(\u001b[0m\u001b[0;36m1\u001b[0m\u001b[0;34m/\u001b[0m\u001b[0;36m0\u001b[0m\u001b[0;34m)\u001b[0m\u001b[0;34m\u001b[0m\u001b[0m\n\u001b[0m\u001b[1;32m      8\u001b[0m \u001b[0mf\u001b[0m\u001b[0;34m.\u001b[0m\u001b[0mclose\u001b[0m\u001b[0;34m(\u001b[0m\u001b[0;34m)\u001b[0m\u001b[0;34m\u001b[0m\u001b[0m\n",
      "\u001b[0;31mZeroDivisionError\u001b[0m: division by zero"
     ]
    }
   ],
   "source": [
    "f=open(\"data.csv\",\"w\")\n",
    "l=[\"jayaram\\n\",\"vedhanvesh\\n\",\"sai\\n\",\"dhana\\n\",\"danush\\n\"]\n",
    "f.writelines(l)\n",
    "f.flush()\n",
    "f.write(\"data after flsuh\\n\")\n",
    "f.flush()\n",
    "print(1/0)\n",
    "f.close()"
   ]
  },
  {
   "cell_type": "code",
   "execution_count": 11,
   "metadata": {},
   "outputs": [],
   "source": [
    "f=open(\"data.csv\",\"a\")\n",
    "f.write(\"\\ndata writing in append mode.\")\n",
    "f.close()"
   ]
  },
  {
   "cell_type": "code",
   "execution_count": 12,
   "metadata": {},
   "outputs": [],
   "source": [
    "f=open(\"data.csv\",\"w\")\n",
    "f.write(\"\\ndata writing in append mode.\")\n",
    "f.close()"
   ]
  },
  {
   "cell_type": "code",
   "execution_count": 14,
   "metadata": {},
   "outputs": [],
   "source": [
    "import random\n",
    "names=[\"kaushik\",\"sanjay\",\"shravani\",\"madhuri\"]\n",
    "weights=[60,70,80,50,40]\n",
    "sals=[12,10,7,8,9,34,23,46]\n",
    "f=open(\"data.csv\",\"w\")\n",
    "f.write(\"NAME,WEIGHT,SALARY\\n\")\n",
    "for i in range(100):\n",
    "    row = '%s,%s,%s\\n'%(random.choice(names),random.choice(weights),random.choice(sals))\n",
    "    f.write(row)\n",
    "    f.flush()\n",
    "f.close()"
   ]
  },
  {
   "cell_type": "code",
   "execution_count": 15,
   "metadata": {},
   "outputs": [
    {
     "name": "stdout",
     "output_type": "stream",
     "text": [
      "NAME,WEIGHT,SALARY\n",
      "kaushik,50,12\n",
      "madhuri,60,34\n",
      "madhuri,80,10\n",
      "sanjay,60,8\n",
      "sanjay,50,8\n",
      "sanjay,60,10\n",
      "shravani,70,8\n",
      "madhuri,80,46\n",
      "shravani,70,7\n",
      "madhuri,50,46\n",
      "kaushik,40,23\n",
      "shravani,60,7\n",
      "kaushik,50,12\n",
      "madhuri,70,9\n",
      "shravani,40,9\n",
      "madhuri,80,34\n",
      "madhuri,70,46\n",
      "madhuri,70,9\n",
      "kaushik,50,8\n",
      "sanjay,70,23\n",
      "madhuri,50,12\n",
      "madhuri,50,34\n",
      "madhuri,70,7\n",
      "madhuri,80,10\n",
      "madhuri,50,46\n",
      "shravani,50,46\n",
      "madhuri,60,12\n",
      "sanjay,60,34\n",
      "kaushik,60,34\n",
      "sanjay,50,23\n",
      "kaushik,50,34\n",
      "madhuri,50,9\n",
      "sanjay,60,7\n",
      "shravani,80,9\n",
      "madhuri,60,12\n",
      "madhuri,40,8\n",
      "kaushik,60,9\n",
      "shravani,50,8\n",
      "kaushik,50,10\n",
      "sanjay,50,12\n",
      "shravani,80,10\n",
      "kaushik,50,23\n",
      "madhuri,50,34\n",
      "shravani,50,34\n",
      "sanjay,80,23\n",
      "shravani,70,12\n",
      "madhuri,80,23\n",
      "shravani,50,8\n",
      "madhuri,50,34\n",
      "madhuri,50,34\n",
      "shravani,80,10\n",
      "kaushik,40,9\n",
      "shravani,40,12\n",
      "kaushik,80,9\n",
      "madhuri,40,7\n",
      "kaushik,80,7\n",
      "kaushik,50,23\n",
      "madhuri,60,8\n",
      "shravani,40,7\n",
      "kaushik,70,12\n",
      "madhuri,70,9\n",
      "sanjay,50,23\n",
      "sanjay,70,12\n",
      "shravani,60,46\n",
      "madhuri,70,12\n",
      "sanjay,80,23\n",
      "shravani,70,34\n",
      "madhuri,80,7\n",
      "madhuri,70,12\n",
      "sanjay,70,12\n",
      "madhuri,80,10\n",
      "kaushik,40,10\n",
      "shravani,60,8\n",
      "shravani,60,34\n",
      "madhuri,60,10\n",
      "madhuri,80,23\n",
      "shravani,40,10\n",
      "sanjay,80,7\n",
      "sanjay,70,7\n",
      "madhuri,60,8\n",
      "shravani,60,12\n",
      "sanjay,60,34\n",
      "shravani,50,8\n",
      "shravani,60,46\n",
      "sanjay,80,7\n",
      "sanjay,40,10\n",
      "sanjay,40,8\n",
      "shravani,50,23\n",
      "sanjay,50,23\n",
      "sanjay,70,23\n",
      "shravani,80,46\n",
      "sanjay,50,10\n",
      "sanjay,50,12\n",
      "kaushik,50,10\n",
      "kaushik,80,9\n",
      "madhuri,60,34\n",
      "madhuri,80,23\n",
      "sanjay,60,8\n",
      "madhuri,60,34\n",
      "sanjay,50,7\n",
      "\n"
     ]
    }
   ],
   "source": [
    "f=open(\"data.csv\",\"r\")\n",
    "data=f.read()\n",
    "print(data)"
   ]
  },
  {
   "cell_type": "code",
   "execution_count": 16,
   "metadata": {},
   "outputs": [
    {
     "name": "stdout",
     "output_type": "stream",
     "text": [
      "<class 'str'>\n"
     ]
    }
   ],
   "source": [
    "f=open(\"data.csv\",\"r\")\n",
    "data=f.read()\n",
    "print(type(data))"
   ]
  },
  {
   "cell_type": "code",
   "execution_count": 17,
   "metadata": {},
   "outputs": [
    {
     "name": "stdout",
     "output_type": "stream",
     "text": [
      "uri,70,9\n",
      "shravani,40,9\n",
      "madhuri,80,34\n",
      "madhuri,70,46\n",
      "madhuri,70,9\n",
      "kaushik,50,8\n",
      "sanjay,70,23\n",
      "madhuri,50\n"
     ]
    }
   ],
   "source": [
    "f=open(\"data.csv\",\"r\")\n",
    "data=f.read(100)\n",
    "data1=f.read(100)\n",
    "data2=f.read(100)\n",
    "print(data2)"
   ]
  },
  {
   "cell_type": "code",
   "execution_count": 19,
   "metadata": {},
   "outputs": [
    {
     "data": {
      "text/plain": [
       "'NAME,WEIGHT,SALARY\\n'"
      ]
     },
     "execution_count": 19,
     "metadata": {},
     "output_type": "execute_result"
    }
   ],
   "source": [
    "f=open(\"data.csv\",\"r\")\n",
    "f.readline()"
   ]
  },
  {
   "cell_type": "code",
   "execution_count": 20,
   "metadata": {},
   "outputs": [
    {
     "data": {
      "text/plain": [
       "'kaushik,50,12\\n'"
      ]
     },
     "execution_count": 20,
     "metadata": {},
     "output_type": "execute_result"
    }
   ],
   "source": [
    "f.readline()"
   ]
  },
  {
   "cell_type": "code",
   "execution_count": 21,
   "metadata": {},
   "outputs": [
    {
     "data": {
      "text/plain": [
       "'madhuri,60,34\\n'"
      ]
     },
     "execution_count": 21,
     "metadata": {},
     "output_type": "execute_result"
    }
   ],
   "source": [
    "f.readline()"
   ]
  },
  {
   "cell_type": "code",
   "execution_count": 22,
   "metadata": {},
   "outputs": [
    {
     "data": {
      "text/plain": [
       "'madhuri,80,10\\n'"
      ]
     },
     "execution_count": 22,
     "metadata": {},
     "output_type": "execute_result"
    }
   ],
   "source": [
    "f.readline()"
   ]
  },
  {
   "cell_type": "code",
   "execution_count": 23,
   "metadata": {},
   "outputs": [
    {
     "data": {
      "text/plain": [
       "['NAME,WEIGHT,SALARY\\n',\n",
       " 'kaushik,50,12\\n',\n",
       " 'madhuri,60,34\\n',\n",
       " 'madhuri,80,10\\n',\n",
       " 'sanjay,60,8\\n',\n",
       " 'sanjay,50,8\\n',\n",
       " 'sanjay,60,10\\n',\n",
       " 'shravani,70,8\\n',\n",
       " 'madhuri,80,46\\n',\n",
       " 'shravani,70,7\\n',\n",
       " 'madhuri,50,46\\n',\n",
       " 'kaushik,40,23\\n',\n",
       " 'shravani,60,7\\n',\n",
       " 'kaushik,50,12\\n',\n",
       " 'madhuri,70,9\\n',\n",
       " 'shravani,40,9\\n',\n",
       " 'madhuri,80,34\\n',\n",
       " 'madhuri,70,46\\n',\n",
       " 'madhuri,70,9\\n',\n",
       " 'kaushik,50,8\\n',\n",
       " 'sanjay,70,23\\n',\n",
       " 'madhuri,50,12\\n',\n",
       " 'madhuri,50,34\\n',\n",
       " 'madhuri,70,7\\n',\n",
       " 'madhuri,80,10\\n',\n",
       " 'madhuri,50,46\\n',\n",
       " 'shravani,50,46\\n',\n",
       " 'madhuri,60,12\\n',\n",
       " 'sanjay,60,34\\n',\n",
       " 'kaushik,60,34\\n',\n",
       " 'sanjay,50,23\\n',\n",
       " 'kaushik,50,34\\n',\n",
       " 'madhuri,50,9\\n',\n",
       " 'sanjay,60,7\\n',\n",
       " 'shravani,80,9\\n',\n",
       " 'madhuri,60,12\\n',\n",
       " 'madhuri,40,8\\n',\n",
       " 'kaushik,60,9\\n',\n",
       " 'shravani,50,8\\n',\n",
       " 'kaushik,50,10\\n',\n",
       " 'sanjay,50,12\\n',\n",
       " 'shravani,80,10\\n',\n",
       " 'kaushik,50,23\\n',\n",
       " 'madhuri,50,34\\n',\n",
       " 'shravani,50,34\\n',\n",
       " 'sanjay,80,23\\n',\n",
       " 'shravani,70,12\\n',\n",
       " 'madhuri,80,23\\n',\n",
       " 'shravani,50,8\\n',\n",
       " 'madhuri,50,34\\n',\n",
       " 'madhuri,50,34\\n',\n",
       " 'shravani,80,10\\n',\n",
       " 'kaushik,40,9\\n',\n",
       " 'shravani,40,12\\n',\n",
       " 'kaushik,80,9\\n',\n",
       " 'madhuri,40,7\\n',\n",
       " 'kaushik,80,7\\n',\n",
       " 'kaushik,50,23\\n',\n",
       " 'madhuri,60,8\\n',\n",
       " 'shravani,40,7\\n',\n",
       " 'kaushik,70,12\\n',\n",
       " 'madhuri,70,9\\n',\n",
       " 'sanjay,50,23\\n',\n",
       " 'sanjay,70,12\\n',\n",
       " 'shravani,60,46\\n',\n",
       " 'madhuri,70,12\\n',\n",
       " 'sanjay,80,23\\n',\n",
       " 'shravani,70,34\\n',\n",
       " 'madhuri,80,7\\n',\n",
       " 'madhuri,70,12\\n',\n",
       " 'sanjay,70,12\\n',\n",
       " 'madhuri,80,10\\n',\n",
       " 'kaushik,40,10\\n',\n",
       " 'shravani,60,8\\n',\n",
       " 'shravani,60,34\\n',\n",
       " 'madhuri,60,10\\n',\n",
       " 'madhuri,80,23\\n',\n",
       " 'shravani,40,10\\n',\n",
       " 'sanjay,80,7\\n',\n",
       " 'sanjay,70,7\\n',\n",
       " 'madhuri,60,8\\n',\n",
       " 'shravani,60,12\\n',\n",
       " 'sanjay,60,34\\n',\n",
       " 'shravani,50,8\\n',\n",
       " 'shravani,60,46\\n',\n",
       " 'sanjay,80,7\\n',\n",
       " 'sanjay,40,10\\n',\n",
       " 'sanjay,40,8\\n',\n",
       " 'shravani,50,23\\n',\n",
       " 'sanjay,50,23\\n',\n",
       " 'sanjay,70,23\\n',\n",
       " 'shravani,80,46\\n',\n",
       " 'sanjay,50,10\\n',\n",
       " 'sanjay,50,12\\n',\n",
       " 'kaushik,50,10\\n',\n",
       " 'kaushik,80,9\\n',\n",
       " 'madhuri,60,34\\n',\n",
       " 'madhuri,80,23\\n',\n",
       " 'sanjay,60,8\\n',\n",
       " 'madhuri,60,34\\n',\n",
       " 'sanjay,50,7\\n']"
      ]
     },
     "execution_count": 23,
     "metadata": {},
     "output_type": "execute_result"
    }
   ],
   "source": [
    "f=open(\"data.csv\",\"r\")\n",
    "f.readlines()"
   ]
  },
  {
   "cell_type": "code",
   "execution_count": 24,
   "metadata": {},
   "outputs": [
    {
     "name": "stdout",
     "output_type": "stream",
     "text": [
      "NAME,WEIGHT,SALARY\n",
      "\n",
      "kaushik,50,12\n",
      "\n",
      "madhuri,60,34\n",
      "\n",
      "madhuri,80,10\n",
      "\n",
      "sanjay,60,8\n",
      "\n",
      "sanjay,50,8\n",
      "\n",
      "sanjay,60,10\n",
      "\n",
      "shravani,70,8\n",
      "\n",
      "madhuri,80,46\n",
      "\n",
      "shravani,70,7\n",
      "\n",
      "madhuri,50,46\n",
      "\n",
      "kaushik,40,23\n",
      "\n",
      "shravani,60,7\n",
      "\n",
      "kaushik,50,12\n",
      "\n",
      "madhuri,70,9\n",
      "\n",
      "shravani,40,9\n",
      "\n",
      "madhuri,80,34\n",
      "\n",
      "madhuri,70,46\n",
      "\n",
      "madhuri,70,9\n",
      "\n",
      "kaushik,50,8\n",
      "\n",
      "sanjay,70,23\n",
      "\n",
      "madhuri,50,12\n",
      "\n",
      "madhuri,50,34\n",
      "\n",
      "madhuri,70,7\n",
      "\n",
      "madhuri,80,10\n",
      "\n",
      "madhuri,50,46\n",
      "\n",
      "shravani,50,46\n",
      "\n",
      "madhuri,60,12\n",
      "\n",
      "sanjay,60,34\n",
      "\n",
      "kaushik,60,34\n",
      "\n",
      "sanjay,50,23\n",
      "\n",
      "kaushik,50,34\n",
      "\n",
      "madhuri,50,9\n",
      "\n",
      "sanjay,60,7\n",
      "\n",
      "shravani,80,9\n",
      "\n",
      "madhuri,60,12\n",
      "\n",
      "madhuri,40,8\n",
      "\n",
      "kaushik,60,9\n",
      "\n",
      "shravani,50,8\n",
      "\n",
      "kaushik,50,10\n",
      "\n",
      "sanjay,50,12\n",
      "\n",
      "shravani,80,10\n",
      "\n",
      "kaushik,50,23\n",
      "\n",
      "madhuri,50,34\n",
      "\n",
      "shravani,50,34\n",
      "\n",
      "sanjay,80,23\n",
      "\n",
      "shravani,70,12\n",
      "\n",
      "madhuri,80,23\n",
      "\n",
      "shravani,50,8\n",
      "\n",
      "madhuri,50,34\n",
      "\n",
      "madhuri,50,34\n",
      "\n",
      "shravani,80,10\n",
      "\n",
      "kaushik,40,9\n",
      "\n",
      "shravani,40,12\n",
      "\n",
      "kaushik,80,9\n",
      "\n",
      "madhuri,40,7\n",
      "\n",
      "kaushik,80,7\n",
      "\n",
      "kaushik,50,23\n",
      "\n",
      "madhuri,60,8\n",
      "\n",
      "shravani,40,7\n",
      "\n",
      "kaushik,70,12\n",
      "\n",
      "madhuri,70,9\n",
      "\n",
      "sanjay,50,23\n",
      "\n",
      "sanjay,70,12\n",
      "\n",
      "shravani,60,46\n",
      "\n",
      "madhuri,70,12\n",
      "\n",
      "sanjay,80,23\n",
      "\n",
      "shravani,70,34\n",
      "\n",
      "madhuri,80,7\n",
      "\n",
      "madhuri,70,12\n",
      "\n",
      "sanjay,70,12\n",
      "\n",
      "madhuri,80,10\n",
      "\n",
      "kaushik,40,10\n",
      "\n",
      "shravani,60,8\n",
      "\n",
      "shravani,60,34\n",
      "\n",
      "madhuri,60,10\n",
      "\n",
      "madhuri,80,23\n",
      "\n",
      "shravani,40,10\n",
      "\n",
      "sanjay,80,7\n",
      "\n",
      "sanjay,70,7\n",
      "\n",
      "madhuri,60,8\n",
      "\n",
      "shravani,60,12\n",
      "\n",
      "sanjay,60,34\n",
      "\n",
      "shravani,50,8\n",
      "\n",
      "shravani,60,46\n",
      "\n",
      "sanjay,80,7\n",
      "\n",
      "sanjay,40,10\n",
      "\n",
      "sanjay,40,8\n",
      "\n",
      "shravani,50,23\n",
      "\n",
      "sanjay,50,23\n",
      "\n",
      "sanjay,70,23\n",
      "\n",
      "shravani,80,46\n",
      "\n",
      "sanjay,50,10\n",
      "\n",
      "sanjay,50,12\n",
      "\n",
      "kaushik,50,10\n",
      "\n",
      "kaushik,80,9\n",
      "\n",
      "madhuri,60,34\n",
      "\n",
      "madhuri,80,23\n",
      "\n",
      "sanjay,60,8\n",
      "\n",
      "madhuri,60,34\n",
      "\n",
      "sanjay,50,7\n",
      "\n"
     ]
    }
   ],
   "source": [
    "f=open(\"data.csv\",\"r\")\n",
    "for i in f:\n",
    "    print(i)"
   ]
  },
  {
   "cell_type": "code",
   "execution_count": 26,
   "metadata": {},
   "outputs": [
    {
     "name": "stdout",
     "output_type": "stream",
     "text": [
      "['NAME', 'WEIGHT', 'SALARY\\n']\n"
     ]
    }
   ],
   "source": [
    "f=open(\"data.csv\",\"r\")\n",
    "for row in f:\n",
    "    print(row.split(\",\"))\n",
    "    break"
   ]
  },
  {
   "cell_type": "code",
   "execution_count": 27,
   "metadata": {},
   "outputs": [
    {
     "name": "stdout",
     "output_type": "stream",
     "text": [
      "SALARY\n",
      "\n"
     ]
    }
   ],
   "source": [
    "f=open(\"data.csv\",\"r\")\n",
    "for row in f:\n",
    "    print(row.split(\",\")[-1])\n",
    "    break"
   ]
  },
  {
   "cell_type": "code",
   "execution_count": 32,
   "metadata": {},
   "outputs": [
    {
     "name": "stdout",
     "output_type": "stream",
     "text": [
      "[12, 34, 10, 8, 8, 10, 8, 46, 7, 46, 23, 7, 12, 9, 9, 34, 46, 9, 8, 23, 12, 34, 7, 10, 46, 46, 12, 34, 34, 23, 34, 9, 7, 9, 12, 8, 9, 8, 10, 12, 10, 23, 34, 34, 23, 12, 23, 8, 34, 34, 10, 9, 12, 9, 7, 7, 23, 8, 7, 12, 9, 23, 12, 46, 12, 23, 34, 7, 12, 12, 10, 10, 8, 34, 10, 23, 10, 7, 7, 8, 12, 34, 8, 46, 7, 10, 8, 23, 23, 23, 46, 10, 12, 10, 9, 34, 23, 8, 34, 7]\n"
     ]
    }
   ],
   "source": [
    "f=open(\"data.csv\",\"r\")\n",
    "f.readline()\n",
    "salaries = []\n",
    "for row in f:\n",
    "    sal = row.split(\",\")[-1].strip()\n",
    "    salaries.append(int(sal))\n",
    "print(salaries)"
   ]
  },
  {
   "cell_type": "code",
   "execution_count": 33,
   "metadata": {},
   "outputs": [
    {
     "data": {
      "text/plain": [
       "46"
      ]
     },
     "execution_count": 33,
     "metadata": {},
     "output_type": "execute_result"
    }
   ],
   "source": [
    "max(salaries)"
   ]
  },
  {
   "cell_type": "code",
   "execution_count": 34,
   "metadata": {},
   "outputs": [
    {
     "data": {
      "text/plain": [
       "7"
      ]
     },
     "execution_count": 34,
     "metadata": {},
     "output_type": "execute_result"
    }
   ],
   "source": [
    "min(salaries)"
   ]
  },
  {
   "cell_type": "code",
   "execution_count": 35,
   "metadata": {},
   "outputs": [
    {
     "data": {
      "text/plain": [
       "17.88"
      ]
     },
     "execution_count": 35,
     "metadata": {},
     "output_type": "execute_result"
    }
   ],
   "source": [
    "sum(salaries)/len(salaries)"
   ]
  },
  {
   "cell_type": "code",
   "execution_count": 36,
   "metadata": {},
   "outputs": [],
   "source": [
    "import pandas as pd"
   ]
  },
  {
   "cell_type": "code",
   "execution_count": 38,
   "metadata": {},
   "outputs": [
    {
     "name": "stdout",
     "output_type": "stream",
     "text": [
      "        NAME  WEIGHT  SALARY\n",
      "0    kaushik      50      12\n",
      "1    madhuri      60      34\n",
      "2    madhuri      80      10\n",
      "3     sanjay      60       8\n",
      "4     sanjay      50       8\n",
      "5     sanjay      60      10\n",
      "6   shravani      70       8\n",
      "7    madhuri      80      46\n",
      "8   shravani      70       7\n",
      "9    madhuri      50      46\n",
      "10   kaushik      40      23\n",
      "11  shravani      60       7\n",
      "12   kaushik      50      12\n",
      "13   madhuri      70       9\n",
      "14  shravani      40       9\n",
      "15   madhuri      80      34\n",
      "16   madhuri      70      46\n",
      "17   madhuri      70       9\n",
      "18   kaushik      50       8\n",
      "19    sanjay      70      23\n",
      "20   madhuri      50      12\n",
      "21   madhuri      50      34\n",
      "22   madhuri      70       7\n",
      "23   madhuri      80      10\n",
      "24   madhuri      50      46\n",
      "25  shravani      50      46\n",
      "26   madhuri      60      12\n",
      "27    sanjay      60      34\n",
      "28   kaushik      60      34\n",
      "29    sanjay      50      23\n",
      "..       ...     ...     ...\n",
      "70   madhuri      80      10\n",
      "71   kaushik      40      10\n",
      "72  shravani      60       8\n",
      "73  shravani      60      34\n",
      "74   madhuri      60      10\n",
      "75   madhuri      80      23\n",
      "76  shravani      40      10\n",
      "77    sanjay      80       7\n",
      "78    sanjay      70       7\n",
      "79   madhuri      60       8\n",
      "80  shravani      60      12\n",
      "81    sanjay      60      34\n",
      "82  shravani      50       8\n",
      "83  shravani      60      46\n",
      "84    sanjay      80       7\n",
      "85    sanjay      40      10\n",
      "86    sanjay      40       8\n",
      "87  shravani      50      23\n",
      "88    sanjay      50      23\n",
      "89    sanjay      70      23\n",
      "90  shravani      80      46\n",
      "91    sanjay      50      10\n",
      "92    sanjay      50      12\n",
      "93   kaushik      50      10\n",
      "94   kaushik      80       9\n",
      "95   madhuri      60      34\n",
      "96   madhuri      80      23\n",
      "97    sanjay      60       8\n",
      "98   madhuri      60      34\n",
      "99    sanjay      50       7\n",
      "\n",
      "[100 rows x 3 columns]\n"
     ]
    }
   ],
   "source": [
    "df = pd.read_csv(\"data.csv\")\n",
    "print(df)"
   ]
  },
  {
   "cell_type": "code",
   "execution_count": 39,
   "metadata": {},
   "outputs": [
    {
     "data": {
      "text/html": [
       "<div>\n",
       "<style scoped>\n",
       "    .dataframe tbody tr th:only-of-type {\n",
       "        vertical-align: middle;\n",
       "    }\n",
       "\n",
       "    .dataframe tbody tr th {\n",
       "        vertical-align: top;\n",
       "    }\n",
       "\n",
       "    .dataframe thead th {\n",
       "        text-align: right;\n",
       "    }\n",
       "</style>\n",
       "<table border=\"1\" class=\"dataframe\">\n",
       "  <thead>\n",
       "    <tr style=\"text-align: right;\">\n",
       "      <th></th>\n",
       "      <th>NAME</th>\n",
       "      <th>WEIGHT</th>\n",
       "      <th>SALARY</th>\n",
       "    </tr>\n",
       "  </thead>\n",
       "  <tbody>\n",
       "    <tr>\n",
       "      <th>0</th>\n",
       "      <td>kaushik</td>\n",
       "      <td>50</td>\n",
       "      <td>12</td>\n",
       "    </tr>\n",
       "    <tr>\n",
       "      <th>1</th>\n",
       "      <td>madhuri</td>\n",
       "      <td>60</td>\n",
       "      <td>34</td>\n",
       "    </tr>\n",
       "    <tr>\n",
       "      <th>2</th>\n",
       "      <td>madhuri</td>\n",
       "      <td>80</td>\n",
       "      <td>10</td>\n",
       "    </tr>\n",
       "    <tr>\n",
       "      <th>3</th>\n",
       "      <td>sanjay</td>\n",
       "      <td>60</td>\n",
       "      <td>8</td>\n",
       "    </tr>\n",
       "    <tr>\n",
       "      <th>4</th>\n",
       "      <td>sanjay</td>\n",
       "      <td>50</td>\n",
       "      <td>8</td>\n",
       "    </tr>\n",
       "  </tbody>\n",
       "</table>\n",
       "</div>"
      ],
      "text/plain": [
       "      NAME  WEIGHT  SALARY\n",
       "0  kaushik      50      12\n",
       "1  madhuri      60      34\n",
       "2  madhuri      80      10\n",
       "3   sanjay      60       8\n",
       "4   sanjay      50       8"
      ]
     },
     "execution_count": 39,
     "metadata": {},
     "output_type": "execute_result"
    }
   ],
   "source": [
    "df.head(5)"
   ]
  },
  {
   "cell_type": "code",
   "execution_count": 40,
   "metadata": {},
   "outputs": [
    {
     "data": {
      "text/html": [
       "<div>\n",
       "<style scoped>\n",
       "    .dataframe tbody tr th:only-of-type {\n",
       "        vertical-align: middle;\n",
       "    }\n",
       "\n",
       "    .dataframe tbody tr th {\n",
       "        vertical-align: top;\n",
       "    }\n",
       "\n",
       "    .dataframe thead th {\n",
       "        text-align: right;\n",
       "    }\n",
       "</style>\n",
       "<table border=\"1\" class=\"dataframe\">\n",
       "  <thead>\n",
       "    <tr style=\"text-align: right;\">\n",
       "      <th></th>\n",
       "      <th>NAME</th>\n",
       "      <th>WEIGHT</th>\n",
       "      <th>SALARY</th>\n",
       "    </tr>\n",
       "  </thead>\n",
       "  <tbody>\n",
       "    <tr>\n",
       "      <th>95</th>\n",
       "      <td>madhuri</td>\n",
       "      <td>60</td>\n",
       "      <td>34</td>\n",
       "    </tr>\n",
       "    <tr>\n",
       "      <th>96</th>\n",
       "      <td>madhuri</td>\n",
       "      <td>80</td>\n",
       "      <td>23</td>\n",
       "    </tr>\n",
       "    <tr>\n",
       "      <th>97</th>\n",
       "      <td>sanjay</td>\n",
       "      <td>60</td>\n",
       "      <td>8</td>\n",
       "    </tr>\n",
       "    <tr>\n",
       "      <th>98</th>\n",
       "      <td>madhuri</td>\n",
       "      <td>60</td>\n",
       "      <td>34</td>\n",
       "    </tr>\n",
       "    <tr>\n",
       "      <th>99</th>\n",
       "      <td>sanjay</td>\n",
       "      <td>50</td>\n",
       "      <td>7</td>\n",
       "    </tr>\n",
       "  </tbody>\n",
       "</table>\n",
       "</div>"
      ],
      "text/plain": [
       "       NAME  WEIGHT  SALARY\n",
       "95  madhuri      60      34\n",
       "96  madhuri      80      23\n",
       "97   sanjay      60       8\n",
       "98  madhuri      60      34\n",
       "99   sanjay      50       7"
      ]
     },
     "execution_count": 40,
     "metadata": {},
     "output_type": "execute_result"
    }
   ],
   "source": [
    "df.tail(5)"
   ]
  },
  {
   "cell_type": "code",
   "execution_count": 42,
   "metadata": {},
   "outputs": [
    {
     "data": {
      "text/plain": [
       "0     12\n",
       "1     34\n",
       "2     10\n",
       "3      8\n",
       "4      8\n",
       "5     10\n",
       "6      8\n",
       "7     46\n",
       "8      7\n",
       "9     46\n",
       "10    23\n",
       "11     7\n",
       "12    12\n",
       "13     9\n",
       "14     9\n",
       "15    34\n",
       "16    46\n",
       "17     9\n",
       "18     8\n",
       "19    23\n",
       "20    12\n",
       "21    34\n",
       "22     7\n",
       "23    10\n",
       "24    46\n",
       "25    46\n",
       "26    12\n",
       "27    34\n",
       "28    34\n",
       "29    23\n",
       "      ..\n",
       "70    10\n",
       "71    10\n",
       "72     8\n",
       "73    34\n",
       "74    10\n",
       "75    23\n",
       "76    10\n",
       "77     7\n",
       "78     7\n",
       "79     8\n",
       "80    12\n",
       "81    34\n",
       "82     8\n",
       "83    46\n",
       "84     7\n",
       "85    10\n",
       "86     8\n",
       "87    23\n",
       "88    23\n",
       "89    23\n",
       "90    46\n",
       "91    10\n",
       "92    12\n",
       "93    10\n",
       "94     9\n",
       "95    34\n",
       "96    23\n",
       "97     8\n",
       "98    34\n",
       "99     7\n",
       "Name: SALARY, Length: 100, dtype: int64"
      ]
     },
     "execution_count": 42,
     "metadata": {},
     "output_type": "execute_result"
    }
   ],
   "source": [
    "df.SALARY"
   ]
  },
  {
   "cell_type": "code",
   "execution_count": 43,
   "metadata": {},
   "outputs": [
    {
     "data": {
      "text/plain": [
       "46"
      ]
     },
     "execution_count": 43,
     "metadata": {},
     "output_type": "execute_result"
    }
   ],
   "source": [
    "df.SALARY.max()"
   ]
  },
  {
   "cell_type": "code",
   "execution_count": 44,
   "metadata": {},
   "outputs": [
    {
     "data": {
      "text/plain": [
       "7"
      ]
     },
     "execution_count": 44,
     "metadata": {},
     "output_type": "execute_result"
    }
   ],
   "source": [
    "df.SALARY.min()"
   ]
  },
  {
   "cell_type": "code",
   "execution_count": 45,
   "metadata": {},
   "outputs": [
    {
     "data": {
      "text/plain": [
       "17.88"
      ]
     },
     "execution_count": 45,
     "metadata": {},
     "output_type": "execute_result"
    }
   ],
   "source": [
    "df.SALARY.mean()"
   ]
  },
  {
   "cell_type": "code",
   "execution_count": 46,
   "metadata": {},
   "outputs": [
    {
     "data": {
      "text/html": [
       "<div>\n",
       "<style scoped>\n",
       "    .dataframe tbody tr th:only-of-type {\n",
       "        vertical-align: middle;\n",
       "    }\n",
       "\n",
       "    .dataframe tbody tr th {\n",
       "        vertical-align: top;\n",
       "    }\n",
       "\n",
       "    .dataframe thead th {\n",
       "        text-align: right;\n",
       "    }\n",
       "</style>\n",
       "<table border=\"1\" class=\"dataframe\">\n",
       "  <thead>\n",
       "    <tr style=\"text-align: right;\">\n",
       "      <th></th>\n",
       "      <th>NAME</th>\n",
       "      <th>WEIGHT</th>\n",
       "      <th>SALARY</th>\n",
       "    </tr>\n",
       "  </thead>\n",
       "  <tbody>\n",
       "    <tr>\n",
       "      <th>7</th>\n",
       "      <td>madhuri</td>\n",
       "      <td>80</td>\n",
       "      <td>46</td>\n",
       "    </tr>\n",
       "    <tr>\n",
       "      <th>9</th>\n",
       "      <td>madhuri</td>\n",
       "      <td>50</td>\n",
       "      <td>46</td>\n",
       "    </tr>\n",
       "    <tr>\n",
       "      <th>16</th>\n",
       "      <td>madhuri</td>\n",
       "      <td>70</td>\n",
       "      <td>46</td>\n",
       "    </tr>\n",
       "    <tr>\n",
       "      <th>24</th>\n",
       "      <td>madhuri</td>\n",
       "      <td>50</td>\n",
       "      <td>46</td>\n",
       "    </tr>\n",
       "    <tr>\n",
       "      <th>25</th>\n",
       "      <td>shravani</td>\n",
       "      <td>50</td>\n",
       "      <td>46</td>\n",
       "    </tr>\n",
       "    <tr>\n",
       "      <th>63</th>\n",
       "      <td>shravani</td>\n",
       "      <td>60</td>\n",
       "      <td>46</td>\n",
       "    </tr>\n",
       "    <tr>\n",
       "      <th>83</th>\n",
       "      <td>shravani</td>\n",
       "      <td>60</td>\n",
       "      <td>46</td>\n",
       "    </tr>\n",
       "    <tr>\n",
       "      <th>90</th>\n",
       "      <td>shravani</td>\n",
       "      <td>80</td>\n",
       "      <td>46</td>\n",
       "    </tr>\n",
       "  </tbody>\n",
       "</table>\n",
       "</div>"
      ],
      "text/plain": [
       "        NAME  WEIGHT  SALARY\n",
       "7    madhuri      80      46\n",
       "9    madhuri      50      46\n",
       "16   madhuri      70      46\n",
       "24   madhuri      50      46\n",
       "25  shravani      50      46\n",
       "63  shravani      60      46\n",
       "83  shravani      60      46\n",
       "90  shravani      80      46"
      ]
     },
     "execution_count": 46,
     "metadata": {},
     "output_type": "execute_result"
    }
   ],
   "source": [
    "df[df.SALARY==df.SALARY.max()]"
   ]
  },
  {
   "cell_type": "code",
   "execution_count": 47,
   "metadata": {},
   "outputs": [],
   "source": [
    "data=pd.read_html(\"https://www.w3schools.com/html/html_tables.asp\")"
   ]
  },
  {
   "cell_type": "code",
   "execution_count": 48,
   "metadata": {},
   "outputs": [
    {
     "name": "stdout",
     "output_type": "stream",
     "text": [
      "                              0                 1        2\n",
      "0                       Company           Contact  Country\n",
      "1           Alfreds Futterkiste      Maria Anders  Germany\n",
      "2    Centro comercial Moctezuma   Francisco Chang   Mexico\n",
      "3                  Ernst Handel     Roland Mendel  Austria\n",
      "4                Island Trading     Helen Bennett       UK\n",
      "5  Laughing Bacchus Winecellars   Yoshi Tannamuri   Canada\n",
      "6  Magazzini Alimentari Riuniti  Giovanni Rovelli    Italy\n",
      "             0                                                  1\n",
      "0          Tag                                        Description\n",
      "1      <table>                                    Defines a table\n",
      "2         <th>                   Defines a header cell in a table\n",
      "3         <tr>                           Defines a row in a table\n",
      "4         <td>                          Defines a cell in a table\n",
      "5    <caption>                            Defines a table caption\n",
      "6   <colgroup>  Specifies a group of one or more columns in a ...\n",
      "7        <col>  Specifies column properties for each column wi...\n",
      "8      <thead>               Groups the header content in a table\n",
      "9      <tbody>                 Groups the body content in a table\n",
      "10     <tfoot>               Groups the footer content in a table\n"
     ]
    }
   ],
   "source": [
    "for table in data:\n",
    "    print(table)"
   ]
  },
  {
   "cell_type": "code",
   "execution_count": 49,
   "metadata": {},
   "outputs": [
    {
     "name": "stdout",
     "output_type": "stream",
     "text": [
      "<class 'str'> {\n",
      "    \"glossary\": {\n",
      "        \"title\": \"example glossary\",\n",
      "\t\t\"GlossDiv\": {\n",
      "            \"title\": \"S\",\n",
      "\t\t\t\"GlossList\": {\n",
      "                \"GlossEntry\": {\n",
      "                    \"ID\": \"SGML\",\n",
      "\t\t\t\t\t\"SortAs\": \"SGML\",\n",
      "\t\t\t\t\t\"GlossTerm\": \"Standard Generalized Markup Language\",\n",
      "\t\t\t\t\t\"Acronym\": \"SGML\",\n",
      "\t\t\t\t\t\"Abbrev\": \"ISO 8879:1986\",\n",
      "\t\t\t\t\t\"GlossDef\": {\n",
      "                        \"para\": \"A meta-markup language, used to create markup languages such as DocBook.\",\n",
      "\t\t\t\t\t\t\"GlossSeeAlso\": [\"GML\", \"XML\"]\n",
      "                    },\n",
      "\t\t\t\t\t\"GlossSee\": \"markup\"\n",
      "                }\n",
      "            }\n",
      "        }\n",
      "    }\n",
      "}\n",
      "\n"
     ]
    }
   ],
   "source": [
    "f=open(\"data.json\",\"r\")\n",
    "data=f.read()\n",
    "print(type(data),data)"
   ]
  },
  {
   "cell_type": "code",
   "execution_count": 51,
   "metadata": {},
   "outputs": [
    {
     "name": "stdout",
     "output_type": "stream",
     "text": [
      "<class 'dict'> {'glossary': {'title': 'example glossary', 'GlossDiv': {'title': 'S', 'GlossList': {'GlossEntry': {'ID': 'SGML', 'SortAs': 'SGML', 'GlossTerm': 'Standard Generalized Markup Language', 'Acronym': 'SGML', 'Abbrev': 'ISO 8879:1986', 'GlossDef': {'para': 'A meta-markup language, used to create markup languages such as DocBook.', 'GlossSeeAlso': ['GML', 'XML']}, 'GlossSee': 'markup'}}}}}\n"
     ]
    }
   ],
   "source": [
    "import json\n",
    "f=open(\"data.json\",\"r\")\n",
    "#data=f.read()\n",
    "data=json.load(f)\n",
    "print(type(data),data)"
   ]
  },
  {
   "cell_type": "code",
   "execution_count": 54,
   "metadata": {},
   "outputs": [
    {
     "name": "stdout",
     "output_type": "stream",
     "text": [
      "<class 'dict'> {'environment': 'production', 'classes': {'nfs::server': {'exports': ['/srv/share1', '/srv/share3']}}, 'parameters': None}\n"
     ]
    }
   ],
   "source": [
    "import yaml\n",
    "f=open(\"data.yml\",\"r\")\n",
    "#data=f.read()\n",
    "data=yaml.load(f)\n",
    "print(type(data),data)"
   ]
  },
  {
   "cell_type": "code",
   "execution_count": 55,
   "metadata": {},
   "outputs": [
    {
     "name": "stdout",
     "output_type": "stream",
     "text": [
      "NAME,WEIGHT,SAL\n"
     ]
    }
   ],
   "source": [
    "f=open(\"data.csv\",\"r\")\n",
    "data=f.read()\n",
    "print (data[:15])"
   ]
  },
  {
   "cell_type": "code",
   "execution_count": 57,
   "metadata": {},
   "outputs": [
    {
     "name": "stdout",
     "output_type": "stream",
     "text": [
      "NAME,WEIGHT,SAL\n",
      "\n"
     ]
    }
   ],
   "source": [
    "f=open(\"data.csv\",\"r\")\n",
    "data=f.read()\n",
    "print (data[:15])\n",
    "data1=f.read()\n",
    "print(data1)"
   ]
  },
  {
   "cell_type": "code",
   "execution_count": 58,
   "metadata": {},
   "outputs": [
    {
     "name": "stdout",
     "output_type": "stream",
     "text": [
      "opened in read mode: 0\n",
      "after first read: 1383\n",
      "NAME,WEIGHT,SAL\n",
      "after second read: 1383\n",
      "\n"
     ]
    }
   ],
   "source": [
    "f=open(\"data.csv\",\"r\")\n",
    "print(\"opened in read mode:\",f.tell())\n",
    "data=f.read()\n",
    "print(\"after first read:\",f.tell())\n",
    "print (data[:15])\n",
    "data1=f.read()\n",
    "print(\"after second read:\",f.tell())\n",
    "print(data1)"
   ]
  },
  {
   "cell_type": "code",
   "execution_count": 59,
   "metadata": {},
   "outputs": [
    {
     "name": "stdout",
     "output_type": "stream",
     "text": [
      "opened in read mode: 0\n",
      "after first read: 1383\n",
      "NAME,WEIGHT,SAL\n",
      "after second read: 1383\n",
      "\n",
      "after seek to 50 read: 50\n",
      "huri,80,10\n",
      "sanj\n"
     ]
    }
   ],
   "source": [
    "f=open(\"data.csv\",\"r\")\n",
    "print(\"opened in read mode:\",f.tell())\n",
    "data=f.read()\n",
    "print(\"after first read:\",f.tell())\n",
    "print (data[:15])\n",
    "data1=f.read()\n",
    "print(\"after second read:\",f.tell())\n",
    "print(data1)\n",
    "f.seek(50)\n",
    "print(\"after seek to 50 read:\",f.tell())\n",
    "data2=f.read()\n",
    "print(data2[:15])"
   ]
  },
  {
   "cell_type": "code",
   "execution_count": 61,
   "metadata": {},
   "outputs": [
    {
     "ename": "TypeError",
     "evalue": "write() argument must be str, not list",
     "output_type": "error",
     "traceback": [
      "\u001b[0;31m---------------------------------------------------------------------------\u001b[0m",
      "\u001b[0;31mTypeError\u001b[0m                                 Traceback (most recent call last)",
      "\u001b[0;32m<ipython-input-61-d8ac111cc851>\u001b[0m in \u001b[0;36m<module>\u001b[0;34m()\u001b[0m\n\u001b[1;32m      1\u001b[0m \u001b[0mdata\u001b[0m\u001b[0;34m=\u001b[0m\u001b[0mopen\u001b[0m\u001b[0;34m(\u001b[0m\u001b[0;34m\"data1.csv\"\u001b[0m\u001b[0;34m,\u001b[0m\u001b[0;34m\"w\"\u001b[0m\u001b[0;34m)\u001b[0m\u001b[0;34m\u001b[0m\u001b[0m\n\u001b[1;32m      2\u001b[0m \u001b[0mdata\u001b[0m\u001b[0;34m=\u001b[0m\u001b[0;34m[\u001b[0m\u001b[0;34m{\u001b[0m\u001b[0;34m\"name\"\u001b[0m\u001b[0;34m:\u001b[0m\u001b[0;34m\"jay\"\u001b[0m\u001b[0;34m,\u001b[0m\u001b[0;34m\"age\"\u001b[0m\u001b[0;34m:\u001b[0m\u001b[0;36m1.9\u001b[0m\u001b[0;34m}\u001b[0m\u001b[0;34m,\u001b[0m\u001b[0;34m{\u001b[0m\u001b[0;34m\"name\"\u001b[0m\u001b[0;34m:\u001b[0m\u001b[0;34m\"VEDHA\"\u001b[0m\u001b[0;34m,\u001b[0m\u001b[0;34m\"age\"\u001b[0m\u001b[0;34m:\u001b[0m\u001b[0;36m0.7\u001b[0m\u001b[0;34m}\u001b[0m\u001b[0;34m]\u001b[0m\u001b[0;34m\u001b[0m\u001b[0m\n\u001b[0;32m----> 3\u001b[0;31m \u001b[0mf\u001b[0m\u001b[0;34m.\u001b[0m\u001b[0mwrite\u001b[0m\u001b[0;34m(\u001b[0m\u001b[0mdata\u001b[0m\u001b[0;34m)\u001b[0m\u001b[0;34m\u001b[0m\u001b[0m\n\u001b[0m\u001b[1;32m      4\u001b[0m \u001b[0mf\u001b[0m\u001b[0;34m.\u001b[0m\u001b[0mclose\u001b[0m\u001b[0;34m(\u001b[0m\u001b[0;34m)\u001b[0m\u001b[0;34m\u001b[0m\u001b[0m\n",
      "\u001b[0;31mTypeError\u001b[0m: write() argument must be str, not list"
     ]
    }
   ],
   "source": [
    "data=open(\"data1.csv\",\"w\")\n",
    "data=[{\"name\":\"jay\",\"age\":1.9},{\"name\":\"VEDHA\",\"age\":0.7}]\n",
    "f.write(data)\n",
    "f.close()\n"
   ]
  },
  {
   "cell_type": "code",
   "execution_count": 62,
   "metadata": {},
   "outputs": [
    {
     "ename": "TypeError",
     "evalue": "write() argument must be str, not dict",
     "output_type": "error",
     "traceback": [
      "\u001b[0;31m---------------------------------------------------------------------------\u001b[0m",
      "\u001b[0;31mTypeError\u001b[0m                                 Traceback (most recent call last)",
      "\u001b[0;32m<ipython-input-62-32e1297320e3>\u001b[0m in \u001b[0;36m<module>\u001b[0;34m()\u001b[0m\n\u001b[1;32m      1\u001b[0m \u001b[0mdata\u001b[0m\u001b[0;34m=\u001b[0m\u001b[0mopen\u001b[0m\u001b[0;34m(\u001b[0m\u001b[0;34m\"data1.csv\"\u001b[0m\u001b[0;34m,\u001b[0m\u001b[0;34m\"w\"\u001b[0m\u001b[0;34m)\u001b[0m\u001b[0;34m\u001b[0m\u001b[0m\n\u001b[1;32m      2\u001b[0m \u001b[0mdata\u001b[0m\u001b[0;34m=\u001b[0m\u001b[0;34m[\u001b[0m\u001b[0;34m{\u001b[0m\u001b[0;34m\"name\"\u001b[0m\u001b[0;34m:\u001b[0m\u001b[0;34m\"jay\"\u001b[0m\u001b[0;34m,\u001b[0m\u001b[0;34m\"age\"\u001b[0m\u001b[0;34m:\u001b[0m\u001b[0;36m1.9\u001b[0m\u001b[0;34m}\u001b[0m\u001b[0;34m,\u001b[0m\u001b[0;34m{\u001b[0m\u001b[0;34m\"name\"\u001b[0m\u001b[0;34m:\u001b[0m\u001b[0;34m\"VEDHA\"\u001b[0m\u001b[0;34m,\u001b[0m\u001b[0;34m\"age\"\u001b[0m\u001b[0;34m:\u001b[0m\u001b[0;36m0.7\u001b[0m\u001b[0;34m}\u001b[0m\u001b[0;34m]\u001b[0m\u001b[0;34m\u001b[0m\u001b[0m\n\u001b[0;32m----> 3\u001b[0;31m \u001b[0mf\u001b[0m\u001b[0;34m.\u001b[0m\u001b[0mwritelines\u001b[0m\u001b[0;34m(\u001b[0m\u001b[0mdata\u001b[0m\u001b[0;34m)\u001b[0m\u001b[0;34m\u001b[0m\u001b[0m\n\u001b[0m\u001b[1;32m      4\u001b[0m \u001b[0mf\u001b[0m\u001b[0;34m.\u001b[0m\u001b[0mclose\u001b[0m\u001b[0;34m(\u001b[0m\u001b[0;34m)\u001b[0m\u001b[0;34m\u001b[0m\u001b[0m\n",
      "\u001b[0;31mTypeError\u001b[0m: write() argument must be str, not dict"
     ]
    }
   ],
   "source": [
    "data=open(\"data1.csv\",\"w\")\n",
    "data=[{\"name\":\"jay\",\"age\":1.9},{\"name\":\"VEDHA\",\"age\":0.7}]\n",
    "f.writelines(data)\n",
    "f.close()\n"
   ]
  },
  {
   "cell_type": "code",
   "execution_count": 63,
   "metadata": {},
   "outputs": [
    {
     "ename": "UnsupportedOperation",
     "evalue": "not writable",
     "output_type": "error",
     "traceback": [
      "\u001b[0;31m---------------------------------------------------------------------------\u001b[0m",
      "\u001b[0;31mUnsupportedOperation\u001b[0m                      Traceback (most recent call last)",
      "\u001b[0;32m<ipython-input-63-4d358d2db88e>\u001b[0m in \u001b[0;36m<module>\u001b[0;34m()\u001b[0m\n\u001b[1;32m      1\u001b[0m \u001b[0mdata\u001b[0m\u001b[0;34m=\u001b[0m\u001b[0mopen\u001b[0m\u001b[0;34m(\u001b[0m\u001b[0;34m\"data1.csv\"\u001b[0m\u001b[0;34m,\u001b[0m\u001b[0;34m\"w\"\u001b[0m\u001b[0;34m)\u001b[0m\u001b[0;34m\u001b[0m\u001b[0m\n\u001b[1;32m      2\u001b[0m \u001b[0mdata\u001b[0m\u001b[0;34m=\u001b[0m\u001b[0;34m[\u001b[0m\u001b[0;34m{\u001b[0m\u001b[0;34m\"name\"\u001b[0m\u001b[0;34m:\u001b[0m\u001b[0;34m\"jay\"\u001b[0m\u001b[0;34m,\u001b[0m\u001b[0;34m\"age\"\u001b[0m\u001b[0;34m:\u001b[0m\u001b[0;36m1.9\u001b[0m\u001b[0;34m}\u001b[0m\u001b[0;34m,\u001b[0m\u001b[0;34m{\u001b[0m\u001b[0;34m\"name\"\u001b[0m\u001b[0;34m:\u001b[0m\u001b[0;34m\"VEDHA\"\u001b[0m\u001b[0;34m,\u001b[0m\u001b[0;34m\"age\"\u001b[0m\u001b[0;34m:\u001b[0m\u001b[0;36m0.7\u001b[0m\u001b[0;34m}\u001b[0m\u001b[0;34m]\u001b[0m\u001b[0;34m\u001b[0m\u001b[0m\n\u001b[0;32m----> 3\u001b[0;31m \u001b[0mf\u001b[0m\u001b[0;34m.\u001b[0m\u001b[0mwrite\u001b[0m\u001b[0;34m(\u001b[0m\u001b[0mstr\u001b[0m\u001b[0;34m(\u001b[0m\u001b[0mdata\u001b[0m\u001b[0;34m)\u001b[0m\u001b[0;34m)\u001b[0m\u001b[0;34m\u001b[0m\u001b[0m\n\u001b[0m\u001b[1;32m      4\u001b[0m \u001b[0mf\u001b[0m\u001b[0;34m.\u001b[0m\u001b[0mclose\u001b[0m\u001b[0;34m(\u001b[0m\u001b[0;34m)\u001b[0m\u001b[0;34m\u001b[0m\u001b[0m\n",
      "\u001b[0;31mUnsupportedOperation\u001b[0m: not writable"
     ]
    }
   ],
   "source": [
    "data=open(\"data1.csv\",\"w\")\n",
    "data=[{\"name\":\"jay\",\"age\":1.9},{\"name\":\"VEDHA\",\"age\":0.7}]\n",
    "f.write(str(data))\n",
    "f.close()\n"
   ]
  },
  {
   "cell_type": "code",
   "execution_count": 65,
   "metadata": {},
   "outputs": [
    {
     "name": "stdout",
     "output_type": "stream",
     "text": [
      "[{'name': 'jay', 'age': 1.9}, {'name': 'VEDHA', 'age': 0.7}] <class 'str'>\n"
     ]
    }
   ],
   "source": [
    "data=open(\"data1.csv\",\"w\")\n",
    "data=[{\"name\":\"jay\",\"age\":1.9},{\"name\":\"VEDHA\",\"age\":0.7}]\n",
    "data1=str(data)\n",
    "print(data1, type(data1))"
   ]
  },
  {
   "cell_type": "code",
   "execution_count": 67,
   "metadata": {},
   "outputs": [],
   "source": [
    "f=open(\"data1.csv\",\"w\")\n",
    "data=[{\"name\":\"jay\",\"age\":1.9},{\"name\":\"VEDHA\",\"age\":0.7}]\n",
    "data1=str(data)\n",
    "f.write(data1)\n",
    "f.close()"
   ]
  },
  {
   "cell_type": "code",
   "execution_count": 68,
   "metadata": {},
   "outputs": [
    {
     "name": "stdout",
     "output_type": "stream",
     "text": [
      "[{'name': 'jay', 'age': 1.9}, {'name': 'VEDHA', 'age': 0.7}] <class 'str'>\n"
     ]
    }
   ],
   "source": [
    "f=open(\"data1.csv\",\"r\")\n",
    "data=f.read()\n",
    "print (data, type(data))"
   ]
  },
  {
   "cell_type": "code",
   "execution_count": 69,
   "metadata": {},
   "outputs": [
    {
     "name": "stdout",
     "output_type": "stream",
     "text": [
      "[\n",
      "{\n",
      "'\n",
      "n\n",
      "a\n",
      "m\n",
      "e\n",
      "'\n",
      ":\n",
      " \n",
      "'\n",
      "j\n",
      "a\n",
      "y\n",
      "'\n",
      ",\n",
      " \n",
      "'\n",
      "a\n",
      "g\n",
      "e\n",
      "'\n",
      ":\n",
      " \n",
      "1\n",
      ".\n",
      "9\n",
      "}\n",
      ",\n",
      " \n",
      "{\n",
      "'\n",
      "n\n",
      "a\n",
      "m\n",
      "e\n",
      "'\n",
      ":\n",
      " \n",
      "'\n",
      "V\n",
      "E\n",
      "D\n",
      "H\n",
      "A\n",
      "'\n",
      ",\n",
      " \n",
      "'\n",
      "a\n",
      "g\n",
      "e\n",
      "'\n",
      ":\n",
      " \n",
      "0\n",
      ".\n",
      "7\n",
      "}\n",
      "]\n"
     ]
    }
   ],
   "source": [
    "for i in data:\n",
    "    print(i)"
   ]
  },
  {
   "cell_type": "code",
   "execution_count": 75,
   "metadata": {},
   "outputs": [
    {
     "ename": "TypeError",
     "evalue": "write() argument must be str, not bytes",
     "output_type": "error",
     "traceback": [
      "\u001b[0;31m---------------------------------------------------------------------------\u001b[0m",
      "\u001b[0;31mTypeError\u001b[0m                                 Traceback (most recent call last)",
      "\u001b[0;32m<ipython-input-75-3a9da506db86>\u001b[0m in \u001b[0;36m<module>\u001b[0;34m()\u001b[0m\n\u001b[1;32m      2\u001b[0m \u001b[0mf\u001b[0m\u001b[0;34m=\u001b[0m\u001b[0mopen\u001b[0m\u001b[0;34m(\u001b[0m\u001b[0;34m\"data1.csv\"\u001b[0m\u001b[0;34m,\u001b[0m\u001b[0;34m\"w\"\u001b[0m\u001b[0;34m)\u001b[0m\u001b[0;34m\u001b[0m\u001b[0m\n\u001b[1;32m      3\u001b[0m \u001b[0mdata\u001b[0m\u001b[0;34m=\u001b[0m\u001b[0;34m[\u001b[0m\u001b[0;34m{\u001b[0m\u001b[0;34m\"name\"\u001b[0m\u001b[0;34m:\u001b[0m\u001b[0;34m\"jay\"\u001b[0m\u001b[0;34m,\u001b[0m\u001b[0;34m\"age\"\u001b[0m\u001b[0;34m:\u001b[0m\u001b[0;36m1.9\u001b[0m\u001b[0;34m}\u001b[0m\u001b[0;34m,\u001b[0m\u001b[0;34m{\u001b[0m\u001b[0;34m\"name\"\u001b[0m\u001b[0;34m:\u001b[0m\u001b[0;34m\"VEDHA\"\u001b[0m\u001b[0;34m,\u001b[0m\u001b[0;34m\"age\"\u001b[0m\u001b[0;34m:\u001b[0m\u001b[0;36m0.7\u001b[0m\u001b[0;34m}\u001b[0m\u001b[0;34m]\u001b[0m\u001b[0;34m\u001b[0m\u001b[0m\n\u001b[0;32m----> 4\u001b[0;31m \u001b[0mpickle\u001b[0m\u001b[0;34m.\u001b[0m\u001b[0mdump\u001b[0m\u001b[0;34m(\u001b[0m\u001b[0mdata\u001b[0m\u001b[0;34m,\u001b[0m\u001b[0mf\u001b[0m\u001b[0;34m)\u001b[0m\u001b[0;34m\u001b[0m\u001b[0m\n\u001b[0m\u001b[1;32m      5\u001b[0m \u001b[0mf\u001b[0m\u001b[0;34m.\u001b[0m\u001b[0mclose\u001b[0m\u001b[0;34m(\u001b[0m\u001b[0;34m)\u001b[0m\u001b[0;34m\u001b[0m\u001b[0m\n",
      "\u001b[0;31mTypeError\u001b[0m: write() argument must be str, not bytes"
     ]
    }
   ],
   "source": [
    "import pickle\n",
    "f=open(\"data1.csv\",\"w\")\n",
    "data=[{\"name\":\"jay\",\"age\":1.9},{\"name\":\"VEDHA\",\"age\":0.7}]\n",
    "pickle.dump(data,f)\n",
    "f.close()"
   ]
  },
  {
   "cell_type": "code",
   "execution_count": null,
   "metadata": {},
   "outputs": [],
   "source": []
  }
 ],
 "metadata": {
  "kernelspec": {
   "display_name": "Python 3",
   "language": "python",
   "name": "python3"
  },
  "language_info": {
   "codemirror_mode": {
    "name": "ipython",
    "version": 3
   },
   "file_extension": ".py",
   "mimetype": "text/x-python",
   "name": "python",
   "nbconvert_exporter": "python",
   "pygments_lexer": "ipython3",
   "version": "3.7.0"
  }
 },
 "nbformat": 4,
 "nbformat_minor": 2
}
