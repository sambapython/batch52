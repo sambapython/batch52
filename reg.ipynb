{
 "cells": [
  {
   "cell_type": "code",
   "execution_count": 1,
   "metadata": {},
   "outputs": [
    {
     "name": "stdout",
     "output_type": "stream",
     "text": [
      "\n",
      "id,name,email,phone\n",
      "1,sai,SAIlaxmi45@gmail.com,9676622023\n",
      "2,vedha,vedhAnvesh12@yahoo.co.in,9676622024\n",
      "3,Jay,JAYARAM12@rediff.org,8767898767\n"
     ]
    }
   ],
   "source": [
    "s=\"\"\"\n",
    "id,name,email,phone\n",
    "1,sai,SAIlaxmi45@gmail.com,9676622023\n",
    "2,vedha,vedhAnvesh12@yahoo.co.in,9676622024\n",
    "3,Jay,JAYARAM12@rediff.org,8767898767\n",
    "\"\"\"\n",
    "for i in s.splitlines():\n",
    "    print(i)"
   ]
  },
  {
   "cell_type": "code",
   "execution_count": 2,
   "metadata": {},
   "outputs": [
    {
     "name": "stdout",
     "output_type": "stream",
     "text": [
      "['']\n",
      "['id', 'name', 'email', 'phone']\n",
      "['1', 'sai', 'SAIlaxmi45@gmail.com', '9676622023']\n",
      "['2', 'vedha', 'vedhAnvesh12@yahoo.co.in', '9676622024']\n",
      "['3', 'Jay', 'JAYARAM12@rediff.org', '8767898767']\n"
     ]
    }
   ],
   "source": [
    "s=\"\"\"\n",
    "id,name,email,phone\n",
    "1,sai,SAIlaxmi45@gmail.com,9676622023\n",
    "2,vedha,vedhAnvesh12@yahoo.co.in,9676622024\n",
    "3,Jay,JAYARAM12@rediff.org,8767898767\n",
    "\"\"\"\n",
    "for i in s.splitlines():\n",
    "    print(i.split(\",\"))"
   ]
  },
  {
   "cell_type": "code",
   "execution_count": 3,
   "metadata": {},
   "outputs": [
    {
     "name": "stdout",
     "output_type": "stream",
     "text": [
      "\n",
      "phone\n",
      "9676622023\n",
      "9676622024\n",
      "8767898767\n"
     ]
    }
   ],
   "source": [
    "s=\"\"\"\n",
    "id,name,email,phone\n",
    "1,sai,SAIlaxmi45@gmail.com,9676622023\n",
    "2,vedha,vedhAnvesh12@yahoo.co.in,9676622024\n",
    "3,Jay,JAYARAM12@rediff.org,8767898767\n",
    "\"\"\"\n",
    "for i in s.splitlines():\n",
    "    print(i.split(\",\")[-1])"
   ]
  },
  {
   "cell_type": "code",
   "execution_count": 5,
   "metadata": {},
   "outputs": [
    {
     "name": "stdout",
     "output_type": "stream",
     "text": [
      "email\n",
      "SAIlaxmi45@gmail.com\n",
      "vedhAnvesh12@yahoo.co.in\n",
      "JAYARAM12@rediff.org\n"
     ]
    }
   ],
   "source": [
    "s=\"\"\"\n",
    "id,name,email,phone\n",
    "1,sai,SAIlaxmi45@gmail.com,9676622023\n",
    "2,vedha,vedhAnvesh12@yahoo.co.in,9676622024\n",
    "3,Jay,JAYARAM12@rediff.org,8767898767\n",
    "\"\"\"\n",
    "for i in s.splitlines():\n",
    "    if i:\n",
    "        print(i.split(\",\")[-2])"
   ]
  },
  {
   "cell_type": "code",
   "execution_count": 6,
   "metadata": {},
   "outputs": [
    {
     "name": "stdout",
     "output_type": "stream",
     "text": [
      "9676622023\n",
      "vedhAnvesh12@yahoo.co.in\n",
      "8767898767\n"
     ]
    }
   ],
   "source": [
    "s=\"\"\"\n",
    "1,SAIlaxmi45@gmail.com,9676622023,sai\n",
    "vedha,2,vedhAnvesh12@yahoo.co.in,9676622024\n",
    "3,Jay,8767898767,JAYARAM12@rediff.org\n",
    "\"\"\"\n",
    "for i in s.splitlines():\n",
    "    if i:\n",
    "        print(i.split(\",\")[-2])"
   ]
  },
  {
   "cell_type": "code",
   "execution_count": 7,
   "metadata": {},
   "outputs": [],
   "source": [
    "import re"
   ]
  },
  {
   "cell_type": "code",
   "execution_count": 8,
   "metadata": {},
   "outputs": [
    {
     "data": {
      "text/plain": [
       "['9676622023', '9676622024', '8767898767']"
      ]
     },
     "execution_count": 8,
     "metadata": {},
     "output_type": "execute_result"
    }
   ],
   "source": [
    "data=\"\"\"\n",
    "1,SAIlaxmi45@gmail.com,9676622023,sai\n",
    "vedha,2,vedhAnvesh12@yahoo.co.in,9676622024\n",
    "3,Jay,8767898767,JAYARAM12@rediff.org\n",
    "\"\"\"\n",
    "re.findall(\"[0-9]{10}\",data)"
   ]
  },
  {
   "cell_type": "code",
   "execution_count": 9,
   "metadata": {},
   "outputs": [
    {
     "data": {
      "text/plain": [
       "['a', 'a', 'c', 'a', 'd', 'a', 'd', 'a', 'c', 'a', 'd']"
      ]
     },
     "execution_count": 9,
     "metadata": {},
     "output_type": "execute_result"
    }
   ],
   "source": [
    "data=\"\"\"\n",
    "1,SAIlaxmi45@gmail.com,9676622023,sai\n",
    "vedha,2,vedhAnvesh12@yahoo.co.in,9676622024\n",
    "3,Jay,8767898767,JAYARAM12@rediff.org\n",
    "\"\"\"\n",
    "re.findall(\"[abcd]\",data)"
   ]
  },
  {
   "cell_type": "code",
   "execution_count": 11,
   "metadata": {},
   "outputs": [
    {
     "name": "stdout",
     "output_type": "stream",
     "text": [
      "['l', 'a', 'x', 'm', 'i', 'g', 'm', 'a', 'i', 'l', 'c', 'o', 'm', 's', 'a', 'i', 'v', 'e', 'd', 'h', 'a', 'v', 'e', 'd', 'h', 'n', 'v', 'e', 's', 'h', 'y', 'a', 'h', 'o', 'o', 'c', 'o', 'i', 'n', 'a', 'y', 'r', 'e', 'd', 'i', 'f', 'f', 'o', 'r', 'g']\n"
     ]
    }
   ],
   "source": [
    "data=\"\"\"\n",
    "1,SAIlaxmi45@gmail.com,9676622023,sai\n",
    "vedha,2,vedhAnvesh12@yahoo.co.in,9676622024\n",
    "3,Jay,8767898767,JAYARAM12@rediff.org\n",
    "\"\"\"\n",
    "print(re.findall(\"[a-z]\",data))"
   ]
  },
  {
   "cell_type": "code",
   "execution_count": 12,
   "metadata": {},
   "outputs": [
    {
     "name": "stdout",
     "output_type": "stream",
     "text": [
      "['S', 'A', 'I', 'l', 'a', 'x', 'm', 'i', 'g', 'm', 'a', 'i', 'l', 'c', 'o', 'm', 's', 'a', 'i', 'v', 'e', 'd', 'h', 'a', 'v', 'e', 'd', 'h', 'A', 'n', 'v', 'e', 's', 'h', 'y', 'a', 'h', 'o', 'o', 'c', 'o', 'i', 'n', 'J', 'a', 'y', 'J', 'A', 'Y', 'A', 'R', 'A', 'M', 'r', 'e', 'd', 'i', 'f', 'f', 'o', 'r', 'g']\n"
     ]
    }
   ],
   "source": [
    "data=\"\"\"\n",
    "1,SAIlaxmi45@gmail.com,9676622023,sai\n",
    "vedha,2,vedhAnvesh12@yahoo.co.in,9676622024\n",
    "3,Jay,8767898767,JAYARAM12@rediff.org\n",
    "\"\"\"\n",
    "print(re.findall(\"[a-zA-Z]\",data))"
   ]
  },
  {
   "cell_type": "code",
   "execution_count": 13,
   "metadata": {},
   "outputs": [
    {
     "name": "stdout",
     "output_type": "stream",
     "text": [
      "['S', 'A', 'I', 'l', 'a', 'x', 'm', 'i', 'g', 'm', 'a', 'i', 'l', 'c', 'o', 'm', 's', 'a', 'i', 'v', 'e', 'd', 'h', 'a', 'v', 'e', 'd', 'h', 'A', 'n', 'v', 'e', 's', 'h', 'y', 'a', 'h', 'o', 'o', 'c', 'o', 'i', 'n', 'J', 'a', 'y', 'J', 'A', 'Y', 'A', 'R', 'A', 'M', 'r', 'e', 'd', 'i', 'f', 'f', 'o', 'r', 'g']\n"
     ]
    }
   ],
   "source": [
    "data=\"\"\"\n",
    "1,SAIlaxmi45@gmail.com,9676622023,sai\n",
    "vedha,2,vedhAnvesh12@yahoo.co.in,9676622024\n",
    "3,Jay,8767898767,JAYARAM12@rediff.org\n",
    "\"\"\"\n",
    "print(re.findall(\"[a-z]\",data,re.I))"
   ]
  },
  {
   "cell_type": "code",
   "execution_count": 14,
   "metadata": {},
   "outputs": [
    {
     "name": "stdout",
     "output_type": "stream",
     "text": [
      "['1', '4', '5', '9', '6', '7', '6', '6', '2', '2', '0', '2', '3', '2', '1', '2', '9', '6', '7', '6', '6', '2', '2', '0', '2', '4', '3', '8', '7', '6', '7', '8', '9', '8', '7', '6', '7', '1', '2']\n"
     ]
    }
   ],
   "source": [
    "data=\"\"\"\n",
    "1,SAIlaxmi45@gmail.com,9676622023,sai\n",
    "vedha,2,vedhAnvesh12@yahoo.co.in,9676622024\n",
    "3,Jay,8767898767,JAYARAM12@rediff.org\n",
    "\"\"\"\n",
    "print(re.findall(\"[0-9]\",data,re.I))"
   ]
  },
  {
   "cell_type": "code",
   "execution_count": 15,
   "metadata": {},
   "outputs": [
    {
     "name": "stdout",
     "output_type": "stream",
     "text": [
      "['i4', 'h1', 'M1']\n"
     ]
    }
   ],
   "source": [
    "data=\"\"\"\n",
    "1,SAIlaxmi45@gmail.com,9676622023,sai\n",
    "vedha,2,vedhAnvesh12@yahoo.co.in,9676622024\n",
    "3,Jay,8767898767,JAYARAM12@rediff.org\n",
    "\"\"\"\n",
    "print(re.findall(\"[a-z][0-9]\",data,re.I))"
   ]
  },
  {
   "cell_type": "code",
   "execution_count": 16,
   "metadata": {},
   "outputs": [
    {
     "name": "stdout",
     "output_type": "stream",
     "text": [
      "['9676', '6220', '9676', '6220', '8767', '8987']\n"
     ]
    }
   ],
   "source": [
    "data=\"\"\"\n",
    "1,SAIlaxmi45@gmail.com,9676622023,sai\n",
    "vedha,2,vedhAnvesh12@yahoo.co.in,9676622024\n",
    "3,Jay,8767898767,JAYARAM12@rediff.org\n",
    "\"\"\"\n",
    "print(re.findall(\"[0-9][0-9][0-9][0-9]\",data,re.I))"
   ]
  },
  {
   "cell_type": "code",
   "execution_count": 17,
   "metadata": {},
   "outputs": [
    {
     "name": "stdout",
     "output_type": "stream",
     "text": [
      "['9676622023', '9676622024', '8767898767']\n"
     ]
    }
   ],
   "source": [
    "data=\"\"\"\n",
    "1,SAIlaxmi45@gmail.com,9676622023,sai\n",
    "vedha,2,vedhAnvesh12@yahoo.co.in,9676622024\n",
    "3,Jay,8767898767,JAYARAM12@rediff.org\n",
    "\"\"\"\n",
    "print(re.findall(\"[0-9][0-9][0-9][0-9][0-9][0-9][0-9][0-9][0-9][0-9]\",data,re.I))"
   ]
  },
  {
   "cell_type": "code",
   "execution_count": 18,
   "metadata": {},
   "outputs": [
    {
     "name": "stdout",
     "output_type": "stream",
     "text": [
      "['9676622023', '9676622024', '8767898767']\n"
     ]
    }
   ],
   "source": [
    "data=\"\"\"\n",
    "1,SAIlaxmi45@gmail.com,9676622023,sai\n",
    "vedha,2,vedhAnvesh12@yahoo.co.in,9676622024\n",
    "3,Jay,8767898767,JAYARAM12@rediff.org\n",
    "\"\"\"\n",
    "print(re.findall(\"[0-9]{10}\",data,re.I))"
   ]
  },
  {
   "cell_type": "code",
   "execution_count": 19,
   "metadata": {},
   "outputs": [
    {
     "name": "stdout",
     "output_type": "stream",
     "text": [
      "['9676622023', '9676622024', '8767898767']\n"
     ]
    }
   ],
   "source": [
    "data=\"\"\"\n",
    "1,SAIlaxmi45@gmail.com,9676622023,sai\n",
    "vedha,2,vedhAnvesh12@yahoo.co.in,9676622024\n",
    "3,Jay,8767898767,JAYARAM12@rediff.org\n",
    "\"\"\"\n",
    "print(re.findall(\"[0-9]{5,10}\",data,re.I))"
   ]
  },
  {
   "cell_type": "code",
   "execution_count": 20,
   "metadata": {},
   "outputs": [
    {
     "name": "stdout",
     "output_type": "stream",
     "text": [
      "['1', '45', '9676622023', '2', '12', '9676622024', '3', '8767898767', '12']\n"
     ]
    }
   ],
   "source": [
    "data=\"\"\"\n",
    "1,SAIlaxmi45@gmail.com,9676622023,sai\n",
    "vedha,2,vedhAnvesh12@yahoo.co.in,9676622024\n",
    "3,Jay,8767898767,JAYARAM12@rediff.org\n",
    "\"\"\"\n",
    "print(re.findall(\"[0-9]{1,10}\",data,re.I))"
   ]
  },
  {
   "cell_type": "code",
   "execution_count": 21,
   "metadata": {},
   "outputs": [
    {
     "name": "stdout",
     "output_type": "stream",
     "text": [
      "['1', '45', '9676622023', '2', '12', '9676622024', '3', '8767898767', '12', '123423235423534', '3534534534', '534', '5345435435']\n"
     ]
    }
   ],
   "source": [
    "data=\"\"\"\n",
    "1,SAIlaxmi45@gmail.com,9676622023,sai\n",
    "vedha,2,vedhAnvesh12@yahoo.co.in,9676622024\n",
    "3,Jay,8767898767,JAYARAM12@rediff.org\n",
    "123423235423534 3534534534 534 5345435435\n",
    "\"\"\"\n",
    "print(re.findall(\"[0-9]{1,}\",data,re.I))"
   ]
  },
  {
   "cell_type": "code",
   "execution_count": 22,
   "metadata": {},
   "outputs": [
    {
     "name": "stdout",
     "output_type": "stream",
     "text": [
      "['1', '45', '9676622023', '2', '12', '9676622024', '3', '8767898767', '12', '123423235423534', '3534534534', '534', '5345435435']\n"
     ]
    }
   ],
   "source": [
    "data=\"\"\"\n",
    "1,SAIlaxmi45@gmail.com,9676622023,sai\n",
    "vedha,2,vedhAnvesh12@yahoo.co.in,9676622024\n",
    "3,Jay,8767898767,JAYARAM12@rediff.org\n",
    "123423235423534 3534534534 534 5345435435\n",
    "\"\"\"\n",
    "print(re.findall(\"[0-9]+\",data,re.I))"
   ]
  },
  {
   "cell_type": "code",
   "execution_count": 23,
   "metadata": {},
   "outputs": [
    {
     "name": "stdout",
     "output_type": "stream",
     "text": [
      "['', '1', '', '', '', '', '', '', '', '', '', '45', '', '', '', '', '', '', '', '', '', '', '', '9676622023', '', '', '', '', '', '', '', '', '', '', '', '2', '', '', '', '', '', '', '', '', '', '', '', '12', '', '', '', '', '', '', '', '', '', '', '', '', '', '9676622024', '', '3', '', '', '', '', '', '8767898767', '', '', '', '', '', '', '', '', '12', '', '', '', '', '', '', '', '', '', '', '', '', '123423235423534', '', '3534534534', '', '534', '', '5345435435', '', '']\n"
     ]
    }
   ],
   "source": [
    "data=\"\"\"\n",
    "1,SAIlaxmi45@gmail.com,9676622023,sai\n",
    "vedha,2,vedhAnvesh12@yahoo.co.in,9676622024\n",
    "3,Jay,8767898767,JAYARAM12@rediff.org\n",
    "123423235423534 3534534534 534 5345435435\n",
    "\"\"\"\n",
    "print(re.findall(\"[0-9]{0,}\",data,re.I))"
   ]
  },
  {
   "cell_type": "code",
   "execution_count": 24,
   "metadata": {},
   "outputs": [
    {
     "name": "stdout",
     "output_type": "stream",
     "text": [
      "['', '1', '', '', '', '', '', '', '', '', '', '45', '', '', '', '', '', '', '', '', '', '', '', '9676622023', '', '', '', '', '', '', '', '', '', '', '', '2', '', '', '', '', '', '', '', '', '', '', '', '12', '', '', '', '', '', '', '', '', '', '', '', '', '', '9676622024', '', '3', '', '', '', '', '', '8767898767', '', '', '', '', '', '', '', '', '12', '', '', '', '', '', '', '', '', '', '', '', '', '123423235423534', '', '3534534534', '', '534', '', '5345435435', '', '']\n"
     ]
    }
   ],
   "source": [
    "data=\"\"\"\n",
    "1,SAIlaxmi45@gmail.com,9676622023,sai\n",
    "vedha,2,vedhAnvesh12@yahoo.co.in,9676622024\n",
    "3,Jay,8767898767,JAYARAM12@rediff.org\n",
    "123423235423534 3534534534 534 5345435435\n",
    "\"\"\"\n",
    "print(re.findall(\"[0-9]*\",data,re.I))"
   ]
  },
  {
   "cell_type": "code",
   "execution_count": 25,
   "metadata": {},
   "outputs": [
    {
     "name": "stdout",
     "output_type": "stream",
     "text": [
      "['', '1', '', '', '', '', '', '', '', '', '', '4', '5', '', '', '', '', '', '', '', '', '', '', '', '9', '6', '7', '6', '6', '2', '2', '0', '2', '3', '', '', '', '', '', '', '', '', '', '', '', '2', '', '', '', '', '', '', '', '', '', '', '', '1', '2', '', '', '', '', '', '', '', '', '', '', '', '', '', '9', '6', '7', '6', '6', '2', '2', '0', '2', '4', '', '3', '', '', '', '', '', '8', '7', '6', '7', '8', '9', '8', '7', '6', '7', '', '', '', '', '', '', '', '', '1', '2', '', '', '', '', '', '', '', '', '', '', '', '', '1', '2', '3', '4', '2', '3', '2', '3', '5', '4', '2', '3', '5', '3', '4', '', '3', '5', '3', '4', '5', '3', '4', '5', '3', '4', '', '5', '3', '4', '', '5', '3', '4', '5', '4', '3', '5', '4', '3', '5', '', '']\n"
     ]
    }
   ],
   "source": [
    "data=\"\"\"\n",
    "1,SAIlaxmi45@gmail.com,9676622023,sai\n",
    "vedha,2,vedhAnvesh12@yahoo.co.in,9676622024\n",
    "3,Jay,8767898767,JAYARAM12@rediff.org\n",
    "123423235423534 3534534534 534 5345435435\n",
    "\"\"\"\n",
    "print(re.findall(\"[0-9]{0,1}\",data,re.I))"
   ]
  },
  {
   "cell_type": "code",
   "execution_count": 26,
   "metadata": {},
   "outputs": [
    {
     "name": "stdout",
     "output_type": "stream",
     "text": [
      "['', '1', '', '', '', '', '', '', '', '', '', '4', '5', '', '', '', '', '', '', '', '', '', '', '', '9', '6', '7', '6', '6', '2', '2', '0', '2', '3', '', '', '', '', '', '', '', '', '', '', '', '2', '', '', '', '', '', '', '', '', '', '', '', '1', '2', '', '', '', '', '', '', '', '', '', '', '', '', '', '9', '6', '7', '6', '6', '2', '2', '0', '2', '4', '', '3', '', '', '', '', '', '8', '7', '6', '7', '8', '9', '8', '7', '6', '7', '', '', '', '', '', '', '', '', '1', '2', '', '', '', '', '', '', '', '', '', '', '', '', '1', '2', '3', '4', '2', '3', '2', '3', '5', '4', '2', '3', '5', '3', '4', '', '3', '5', '3', '4', '5', '3', '4', '5', '3', '4', '', '5', '3', '4', '', '5', '3', '4', '5', '4', '3', '5', '4', '3', '5', '', '']\n"
     ]
    }
   ],
   "source": [
    "data=\"\"\"\n",
    "1,SAIlaxmi45@gmail.com,9676622023,sai\n",
    "vedha,2,vedhAnvesh12@yahoo.co.in,9676622024\n",
    "3,Jay,8767898767,JAYARAM12@rediff.org\n",
    "123423235423534 3534534534 534 5345435435\n",
    "\"\"\"\n",
    "print(re.findall(\"[0-9]?\",data,re.I))"
   ]
  },
  {
   "cell_type": "code",
   "execution_count": 27,
   "metadata": {},
   "outputs": [
    {
     "name": "stdout",
     "output_type": "stream",
     "text": [
      "['1', ',', 'S', 'A', 'I', 'l', 'a', 'x', 'm', 'i', '4', '5', '@', 'g', 'm', 'a', 'i', 'l', '.', 'c', 'o', 'm', ',', '9', '6', '7', '6', '6', '2', '2', '0', '2', '3', ',', 's', 'a', 'i', 'v', 'e', 'd', 'h', 'a', ',', '2', ',', 'v', 'e', 'd', 'h', 'A', 'n', 'v', 'e', 's', 'h', '1', '2', '@', 'y', 'a', 'h', 'o', 'o', '.', 'c', 'o', '.', 'i', 'n', ',', '9', '6', '7', '6', '6', '2', '2', '0', '2', '4', '3', ',', 'J', 'a', 'y', ',', '8', '7', '6', '7', '8', '9', '8', '7', '6', '7', ',', 'J', 'A', 'Y', 'A', 'R', 'A', 'M', '1', '2', '@', 'r', 'e', 'd', 'i', 'f', 'f', '.', 'o', 'r', 'g', '1', '2', '3', '4', '2', '3', '2', '3', '5', '4', '2', '3', '5', '3', '4', ' ', '3', '5', '3', '4', '5', '3', '4', '5', '3', '4', ' ', '5', '3', '4', ' ', '5', '3', '4', '5', '4', '3', '5', '4', '3', '5']\n"
     ]
    }
   ],
   "source": [
    "data=\"\"\"\n",
    "1,SAIlaxmi45@gmail.com,9676622023,sai\n",
    "vedha,2,vedhAnvesh12@yahoo.co.in,9676622024\n",
    "3,Jay,8767898767,JAYARAM12@rediff.org\n",
    "123423235423534 3534534534 534 5345435435\n",
    "\"\"\"\n",
    "print(re.findall(\".\",data,re.I))"
   ]
  },
  {
   "cell_type": "code",
   "execution_count": 28,
   "metadata": {},
   "outputs": [
    {
     "name": "stdout",
     "output_type": "stream",
     "text": [
      "['.', '.', '.', '.']\n"
     ]
    }
   ],
   "source": [
    "data=\"\"\"\n",
    "1,SAIlaxmi45@gmail.com,9676622023,sai\n",
    "vedha,2,vedhAnvesh12@yahoo.co.in,9676622024\n",
    "3,Jay,8767898767,JAYARAM12@rediff.org\n",
    "123423235423534 3534534534 534 5345435435\n",
    "\"\"\"\n",
    "print(re.findall(\"\\.\",data,re.I))"
   ]
  },
  {
   "cell_type": "code",
   "execution_count": 29,
   "metadata": {},
   "outputs": [
    {
     "name": "stdout",
     "output_type": "stream",
     "text": [
      "['.', '.', '.', '.']\n"
     ]
    }
   ],
   "source": [
    "data=\"\"\"\n",
    "1,SAIlaxmi45@gmail.com,9676622023,sai\n",
    "vedha,2,vedhAnvesh12@yahoo.co.in,9676622024\n",
    "3,Jay,8767898767,JAYARAM12@rediff.org\n",
    "123423235423534 3534534534 534 5345435435\n",
    "\"\"\"\n",
    "print(re.findall(\"[.]\",data,re.I))"
   ]
  },
  {
   "cell_type": "code",
   "execution_count": 30,
   "metadata": {},
   "outputs": [
    {
     "name": "stdout",
     "output_type": "stream",
     "text": [
      "['\\n', '1', ',', 'S', 'A', 'I', 'l', 'a', 'x', 'm', 'i', '4', '5', '@', 'g', 'm', 'a', 'i', 'l', '.', 'c', 'o', 'm', ',', '9', '6', '7', '6', '6', '2', '2', '0', '2', '3', ',', 's', 'a', 'i', '\\n', 'v', 'e', 'd', 'h', 'a', ',', '2', ',', 'v', 'e', 'd', 'h', 'A', 'n', 'v', 'e', 's', 'h', '1', '2', '@', 'y', 'a', 'h', 'o', 'o', '.', 'c', 'o', '.', 'i', 'n', ',', '9', '6', '7', '6', '6', '2', '2', '0', '2', '4', '\\n', '3', ',', 'J', 'a', 'y', ',', '8', '7', '6', '7', '8', '9', '8', '7', '6', '7', ',', 'J', 'A', 'Y', 'A', 'R', 'A', 'M', '1', '2', '@', 'r', 'e', 'd', 'i', 'f', 'f', '.', 'o', 'r', 'g', '\\n', '1', '2', '3', '4', '2', '3', '2', '3', '5', '4', '2', '3', '5', '3', '4', ' ', '3', '5', '3', '4', '5', '3', '4', '5', '3', '4', ' ', '5', '3', '4', ' ', '5', '3', '4', '5', '4', '3', '5', '4', '3', '5', '\\n']\n"
     ]
    }
   ],
   "source": [
    "data=\"\"\"\n",
    "1,SAIlaxmi45@gmail.com,9676622023,sai\n",
    "vedha,2,vedhAnvesh12@yahoo.co.in,9676622024\n",
    "3,Jay,8767898767,JAYARAM12@rediff.org\n",
    "123423235423534 3534534534 534 5345435435\n",
    "\"\"\"\n",
    "print(re.findall(\".\",data,re.I|re.DOTALL))"
   ]
  },
  {
   "cell_type": "code",
   "execution_count": 32,
   "metadata": {},
   "outputs": [
    {
     "name": "stdout",
     "output_type": "stream",
     "text": [
      "['9676622023', '9676622024', '8767898767']\n"
     ]
    }
   ],
   "source": [
    "data=\"\"\"\n",
    "1,SAIlaxmi45@gmail.com,9676622023,sai\n",
    "vedha,2,vedhAnvesh12@yahoo.co.in,9676622024\n",
    "3,Jay,8767898767,JAYARAM12@rediff.org\n",
    "\"\"\"\n",
    "print(re.findall(\"[0-9]{10}\",data,re.I|re.DOTALL))"
   ]
  },
  {
   "cell_type": "code",
   "execution_count": 35,
   "metadata": {},
   "outputs": [
    {
     "name": "stdout",
     "output_type": "stream",
     "text": [
      "[]\n"
     ]
    }
   ],
   "source": [
    "data=\"\"\"1,SAIlaxmi45@gmail.com,9676622023,sai\n",
    "vedha,2,vedhAnvesh12@yahoo.co.in,9676622024\n",
    "3,Jay,8767898767,JAYARAM12@rediff.org\"\"\"\n",
    "print(re.findall(\"^[0-9]{10}\",data,re.I|re.DOTALL))"
   ]
  },
  {
   "cell_type": "code",
   "execution_count": 36,
   "metadata": {},
   "outputs": [
    {
     "name": "stdout",
     "output_type": "stream",
     "text": [
      "['1']\n"
     ]
    }
   ],
   "source": [
    "data=\"\"\"1,SAIlaxmi45@gmail.com,9676622023,sai\n",
    "vedha,2,vedhAnvesh12@yahoo.co.in,9676622024\n",
    "3,Jay,8767898767,JAYARAM12@rediff.org\"\"\"\n",
    "print(re.findall(\"^[0-9]{1}\",data,re.I|re.DOTALL))"
   ]
  },
  {
   "cell_type": "code",
   "execution_count": 37,
   "metadata": {},
   "outputs": [
    {
     "name": "stdout",
     "output_type": "stream",
     "text": [
      "['1', '3']\n"
     ]
    }
   ],
   "source": [
    "data=\"\"\"1,SAIlaxmi45@gmail.com,9676622023,sai\n",
    "vedha,2,vedhAnvesh12@yahoo.co.in,9676622024\n",
    "3,Jay,8767898767,JAYARAM12@rediff.org\"\"\"\n",
    "print(re.findall(\"^[0-9]{1}\",data,re.I|re.DOTALL|re.M))"
   ]
  },
  {
   "cell_type": "code",
   "execution_count": 38,
   "metadata": {},
   "outputs": [
    {
     "name": "stdout",
     "output_type": "stream",
     "text": [
      "['4']\n"
     ]
    }
   ],
   "source": [
    "data=\"\"\"1,SAIlaxmi45@gmail.com,9676622023,sai\n",
    "vedha,2,vedhAnvesh12@yahoo.co.in,9676622024\n",
    "3,Jay,8767898767,JAYARAM12@rediff.org\"\"\"\n",
    "print(re.findall(\"[0-9]{1}$\",data,re.I|re.DOTALL|re.M))"
   ]
  },
  {
   "cell_type": "code",
   "execution_count": 39,
   "metadata": {},
   "outputs": [
    {
     "name": "stdout",
     "output_type": "stream",
     "text": [
      "['1', '4', '5', '9', '6', '7', '6', '6', '2', '2', '0', '2', '3', '2', '1', '2', '9', '6', '7', '6', '6', '2', '2', '0', '2', '4', '3', '8', '7', '6', '7', '8', '9', '8', '7', '6', '7', '1', '2']\n"
     ]
    }
   ],
   "source": [
    "data=\"\"\"1,SAIlaxmi45@gmail.com,9676622023,sai\n",
    "vedha,2,vedhAnvesh12@yahoo.co.in,9676622024\n",
    "3,Jay,8767898767,JAYARAM12@rediff.org\"\"\"\n",
    "print(re.findall(\"[0-9]\",data))"
   ]
  },
  {
   "cell_type": "code",
   "execution_count": 40,
   "metadata": {},
   "outputs": [
    {
     "name": "stdout",
     "output_type": "stream",
     "text": [
      "['1']\n"
     ]
    }
   ],
   "source": [
    "data=\"\"\"1,SAIlaxmi45@gmail.com,9676622023,sai\n",
    "vedha,2,vedhAnvesh12@yahoo.co.in,9676622024\n",
    "3,Jay,8767898767,JAYARAM12@rediff.org\"\"\"\n",
    "print(re.findall(\"^[0-9]\",data))"
   ]
  },
  {
   "cell_type": "code",
   "execution_count": 41,
   "metadata": {},
   "outputs": [
    {
     "name": "stdout",
     "output_type": "stream",
     "text": [
      "[',', 'S', 'A', 'I', 'l', 'a', 'x', 'm', 'i', '@', 'g', 'm', 'a', 'i', 'l', '.', 'c', 'o', 'm', ',', ',', 's', 'a', 'i', '\\n', 'v', 'e', 'd', 'h', 'a', ',', ',', 'v', 'e', 'd', 'h', 'A', 'n', 'v', 'e', 's', 'h', '@', 'y', 'a', 'h', 'o', 'o', '.', 'c', 'o', '.', 'i', 'n', ',', '\\n', ',', 'J', 'a', 'y', ',', ',', 'J', 'A', 'Y', 'A', 'R', 'A', 'M', '@', 'r', 'e', 'd', 'i', 'f', 'f', '.', 'o', 'r', 'g']\n"
     ]
    }
   ],
   "source": [
    "data=\"\"\"1,SAIlaxmi45@gmail.com,9676622023,sai\n",
    "vedha,2,vedhAnvesh12@yahoo.co.in,9676622024\n",
    "3,Jay,8767898767,JAYARAM12@rediff.org\"\"\"\n",
    "print(re.findall(\"[^0-9]\",data))"
   ]
  },
  {
   "cell_type": "code",
   "execution_count": 46,
   "metadata": {},
   "outputs": [
    {
     "name": "stdout",
     "output_type": "stream",
     "text": [
      "['laxmi45@', 'nvesh12@', '12@']\n"
     ]
    }
   ],
   "source": [
    "data=\"\"\"1,SAIlaxmi45@gmail.com,9676622023,sai\n",
    "vedha,2,vedhAnvesh12@yahoo.co.in,9676622024\n",
    "3,Jay,8767898767,JAYARAM12@rediff.org\"\"\"\n",
    "#sambapython@gmail.com\n",
    "#username: [a-z][0-9_-]+\n",
    "#domain symbol:@\n",
    "#domainname:gmail, [a-z]\n",
    "#., \\.\n",
    "#extension [.a-z]*\n",
    "print(re.findall(\"[a-z0-9_-]+@\",data))"
   ]
  },
  {
   "cell_type": "code",
   "execution_count": 47,
   "metadata": {},
   "outputs": [
    {
     "name": "stdout",
     "output_type": "stream",
     "text": [
      "['SAIlaxmi45@', 'vedhAnvesh12@', 'JAYARAM12@']\n"
     ]
    }
   ],
   "source": [
    "data=\"\"\"1,SAIlaxmi45@gmail.com,9676622023,sai\n",
    "vedha,2,vedhAnvesh12@yahoo.co.in,9676622024\n",
    "3,Jay,8767898767,JAYARAM12@rediff.org\"\"\"\n",
    "#sambapython@gmail.com\n",
    "#username: [a-z][0-9_-]+\n",
    "#domain symbol:@\n",
    "#domainname:gmail, [a-z]+\n",
    "#., \\.\n",
    "#extension [.a-z]*\n",
    "print(re.findall(\"[a-z0-9_-]+@\",data,re.I))"
   ]
  },
  {
   "cell_type": "code",
   "execution_count": 48,
   "metadata": {},
   "outputs": [
    {
     "name": "stdout",
     "output_type": "stream",
     "text": [
      "['SAIlaxmi45@gmail', 'vedhAnvesh12@yahoo', 'JAYARAM12@rediff']\n"
     ]
    }
   ],
   "source": [
    "data=\"\"\"1,SAIlaxmi45@gmail.com,9676622023,sai\n",
    "vedha,2,vedhAnvesh12@yahoo.co.in,9676622024\n",
    "3,Jay,8767898767,JAYARAM12@rediff.org\"\"\"\n",
    "#sambapython@gmail.com\n",
    "#username: [a-z][0-9_-]+\n",
    "#domain symbol:@\n",
    "#domainname:gmail, [a-z]\n",
    "#., \\.\n",
    "#extension [.a-z]*\n",
    "print(re.findall(\"[a-z0-9_-]+@[a-z]+\",data,re.I))"
   ]
  },
  {
   "cell_type": "code",
   "execution_count": 49,
   "metadata": {},
   "outputs": [
    {
     "name": "stdout",
     "output_type": "stream",
     "text": [
      "['SAIlaxmi45@gmail.', 'vedhAnvesh12@yahoo.', 'JAYARAM12@rediff.']\n"
     ]
    }
   ],
   "source": [
    "data=\"\"\"1,SAIlaxmi45@gmail.com,9676622023,sai\n",
    "vedha,2,vedhAnvesh12@yahoo.co.in,9676622024\n",
    "3,Jay,8767898767,JAYARAM12@rediff.org\"\"\"\n",
    "#sambapython@gmail.com\n",
    "#username: [a-z][0-9_-]+\n",
    "#domain symbol:@\n",
    "#domainname:gmail, [a-z]\n",
    "#., \\.\n",
    "#extension [.a-z]*\n",
    "print(re.findall(\"[a-z0-9_-]+@[a-z]+\\.\",data,re.I))"
   ]
  },
  {
   "cell_type": "code",
   "execution_count": 50,
   "metadata": {},
   "outputs": [
    {
     "name": "stdout",
     "output_type": "stream",
     "text": [
      "['SAIlaxmi45@gmail.com', 'vedhAnvesh12@yahoo.co.in', 'JAYARAM12@rediff.org']\n"
     ]
    }
   ],
   "source": [
    "data=\"\"\"1,SAIlaxmi45@gmail.com,9676622023,sai\n",
    "vedha,2,vedhAnvesh12@yahoo.co.in,9676622024\n",
    "3,Jay,8767898767,JAYARAM12@rediff.org\"\"\"\n",
    "#sambapython@gmail.com\n",
    "#username: [a-z][0-9_-]+\n",
    "#domain symbol:@\n",
    "#domainname:gmail, [a-z]\n",
    "#., \\.\n",
    "#extension [.a-z]*\n",
    "print(re.findall(\"[a-z0-9_-]+@[a-z]+\\.[.a-z]*\",data,re.I))"
   ]
  },
  {
   "cell_type": "code",
   "execution_count": 51,
   "metadata": {},
   "outputs": [
    {
     "name": "stdout",
     "output_type": "stream",
     "text": [
      "['SAIlaxmi45@gmail.com', 'vedhAnvesh12@yahoo.co.in', 'JAYARAM12@rediff.org']\n"
     ]
    }
   ],
   "source": [
    "data=\"\"\"1,SAIlaxmi45@gmail.com,9676622023,sai\n",
    "vedha,2,vedhAnvesh12@yahoo.co.in,9676622024\n",
    "3,Jay,8767898767,JAYARAM12@rediff.org\"\"\"\n",
    "#sambapython@gmail.com\n",
    "#username: [a-z][0-9_-]+\n",
    "#domain symbol:@\n",
    "#domainname:gmail, [a-z]\n",
    "#., \\.\n",
    "#extension [.a-z]*\n",
    "print(re.findall(\"\\w+@[a-z]+\\.[.a-z]*\",data,re.I))"
   ]
  },
  {
   "cell_type": "code",
   "execution_count": 52,
   "metadata": {},
   "outputs": [
    {
     "name": "stdout",
     "output_type": "stream",
     "text": [
      "['1', '4', '5', '9', '6', '7', '6', '6', '2', '2', '0', '2', '3', '2', '1', '2', '9', '6', '7', '6', '6', '2', '2', '0', '2', '4', '3', '8', '7', '6', '7', '8', '9', '8', '7', '6', '7', '1', '2']\n"
     ]
    }
   ],
   "source": [
    "data=\"\"\"1,SAIlaxmi45@gmail.com,9676622023,sai\n",
    "vedha,2,vedhAnvesh12@yahoo.co.in,9676622024\n",
    "3,Jay,8767898767,JAYARAM12@rediff.org\"\"\"\n",
    "#sambapython@gmail.com\n",
    "#username: [a-z][0-9_-]+\n",
    "#domain symbol:@\n",
    "#domainname:gmail, [a-z]\n",
    "#., \\.\n",
    "#extension [.a-z]*\n",
    "print(re.findall(\"\\d\",data,re.I))"
   ]
  },
  {
   "cell_type": "code",
   "execution_count": 53,
   "metadata": {},
   "outputs": [
    {
     "name": "stdout",
     "output_type": "stream",
     "text": [
      "['1', '45', '9676622023', '2', '12', '9676622024', '3', '8767898767', '12']\n"
     ]
    }
   ],
   "source": [
    "data=\"\"\"1,SAIlaxmi45@gmail.com,9676622023,sai\n",
    "vedha,2,vedhAnvesh12@yahoo.co.in,9676622024\n",
    "3,Jay,8767898767,JAYARAM12@rediff.org\"\"\"\n",
    "#sambapython@gmail.com\n",
    "#username: [a-z][0-9_-]+\n",
    "#domain symbol:@\n",
    "#domainname:gmail, [a-z]\n",
    "#., \\.\n",
    "#extension [.a-z]*\n",
    "print(re.findall(\"\\d+\",data,re.I))"
   ]
  },
  {
   "cell_type": "code",
   "execution_count": 54,
   "metadata": {},
   "outputs": [
    {
     "name": "stdout",
     "output_type": "stream",
     "text": [
      "[',', 'S', 'A', 'I', 'l', 'a', 'x', 'm', 'i', '@', 'g', 'm', 'a', 'i', 'l', '.', 'c', 'o', 'm', ',', ',', 's', 'a', 'i', '\\n', 'v', 'e', 'd', 'h', 'a', ',', ',', 'v', 'e', 'd', 'h', 'A', 'n', 'v', 'e', 's', 'h', '@', 'y', 'a', 'h', 'o', 'o', '.', 'c', 'o', '.', 'i', 'n', ',', '\\n', ',', 'J', 'a', 'y', ',', ',', 'J', 'A', 'Y', 'A', 'R', 'A', 'M', '@', 'r', 'e', 'd', 'i', 'f', 'f', '.', 'o', 'r', 'g']\n"
     ]
    }
   ],
   "source": [
    "data=\"\"\"1,SAIlaxmi45@gmail.com,9676622023,sai\n",
    "vedha,2,vedhAnvesh12@yahoo.co.in,9676622024\n",
    "3,Jay,8767898767,JAYARAM12@rediff.org\"\"\"\n",
    "#sambapython@gmail.com\n",
    "#username: [a-z][0-9_-]+\n",
    "#domain symbol:@\n",
    "#domainname:gmail, [a-z]\n",
    "#., \\.\n",
    "#extension [.a-z]*\n",
    "print(re.findall(\"\\D\",data,re.I))"
   ]
  },
  {
   "cell_type": "code",
   "execution_count": 55,
   "metadata": {},
   "outputs": [
    {
     "name": "stdout",
     "output_type": "stream",
     "text": [
      "['1', 'S', 'A', 'I', 'l', 'a', 'x', 'm', 'i', '4', '5', 'g', 'm', 'a', 'i', 'l', 'c', 'o', 'm', '9', '6', '7', '6', '6', '2', '2', '0', '2', '3', 's', 'a', 'i', 'v', 'e', 'd', 'h', 'a', '2', 'v', 'e', 'd', 'h', 'A', 'n', 'v', 'e', 's', 'h', '1', '2', 'y', 'a', 'h', 'o', 'o', 'c', 'o', 'i', 'n', '9', '6', '7', '6', '6', '2', '2', '0', '2', '4', '3', 'J', 'a', 'y', '8', '7', '6', '7', '8', '9', '8', '7', '6', '7', 'J', 'A', 'Y', 'A', 'R', 'A', 'M', '1', '2', 'r', 'e', 'd', 'i', 'f', 'f', 'o', 'r', 'g']\n"
     ]
    }
   ],
   "source": [
    "data=\"\"\"1,SAIlaxmi45@gmail.com,9676622023,sai\n",
    "vedha,2,vedhAnvesh12@yahoo.co.in,9676622024\n",
    "3,Jay,8767898767,JAYARAM12@rediff.org\"\"\"\n",
    "#sambapython@gmail.com\n",
    "#username: [a-z][0-9_-]+\n",
    "#domain symbol:@\n",
    "#domainname:gmail, [a-z]\n",
    "#., \\.a\n",
    "#extension [.a-z]*\n",
    "print(re.findall(\"\\w\",data,re.I))"
   ]
  },
  {
   "cell_type": "code",
   "execution_count": 56,
   "metadata": {},
   "outputs": [
    {
     "name": "stdout",
     "output_type": "stream",
     "text": [
      "[',', '@', '.', ',', ',', '\\n', ',', ',', '@', '.', '.', ',', '\\n', ',', ',', ',', '@', '.']\n"
     ]
    }
   ],
   "source": [
    "data=\"\"\"1,SAIlaxmi45@gmail.com,9676622023,sai\n",
    "vedha,2,vedhAnvesh12@yahoo.co.in,9676622024\n",
    "3,Jay,8767898767,JAYARAM12@rediff.org\"\"\"\n",
    "#sambapython@gmail.com\n",
    "#username: [a-z][0-9_-]+\n",
    "#domain symbol:@\n",
    "#domainname:gmail, [a-z]\n",
    "#., \\.a\n",
    "#extension [.a-z]*\n",
    "print(re.findall(\"\\W\",data,re.I))"
   ]
  },
  {
   "cell_type": "code",
   "execution_count": 57,
   "metadata": {},
   "outputs": [
    {
     "name": "stdout",
     "output_type": "stream",
     "text": [
      "['SAIlaxmi45@gmail.com', 'vedhAnvesh12@yahoo.co.in', 'JAYARAM12@rediff.org']\n"
     ]
    }
   ],
   "source": [
    "data=\"\"\"1,SAIlaxmi45@gmail.com,9676622023,sai\n",
    "vedha,2,vedhAnvesh12@yahoo.co.in,9676622024\n",
    "3,Jay,8767898767,JAYARAM12@rediff.org\"\"\"\n",
    "#sambapython@gmail.com\n",
    "#username: [a-z][0-9_-]+\n",
    "#domain symbol:@\n",
    "#domainname:gmail, [a-z]\n",
    "#., \\.\n",
    "#extension [.a-z]*\n",
    "print(re.findall(\"\\w+@[a-z]+\\.[.a-z]*\",data,re.I))"
   ]
  },
  {
   "cell_type": "code",
   "execution_count": 58,
   "metadata": {},
   "outputs": [
    {
     "name": "stdout",
     "output_type": "stream",
     "text": [
      "<callable_iterator object at 0x7f59b0183518>\n"
     ]
    }
   ],
   "source": [
    "#20, 18, 2:\n",
    "data=\"\"\"1,SAIlaxmi45@gmail.com,9676622023,sai\n",
    "vedha,2,vedhAnvesh12@yahoo.co.in,9676622024\n",
    "3,Jay,8767898767,JAYARAM12@rediff.org\"\"\"\n",
    "#sambapython@gmail.com\n",
    "#username: [a-z][0-9_-]+\n",
    "#domain symbol:@\n",
    "#domainname:gmail, [a-z]\n",
    "#., \\.\n",
    "#extension [.a-z]*\n",
    "print(re.finditer(\"\\w+@[a-z]+\\.[.a-z]*\",data,re.I))"
   ]
  },
  {
   "cell_type": "code",
   "execution_count": 59,
   "metadata": {},
   "outputs": [
    {
     "name": "stdout",
     "output_type": "stream",
     "text": [
      "<re.Match object; span=(2, 22), match='SAIlaxmi45@gmail.com'>\n",
      "<re.Match object; span=(46, 70), match='vedhAnvesh12@yahoo.co.in'>\n",
      "<re.Match object; span=(99, 119), match='JAYARAM12@rediff.org'>\n"
     ]
    }
   ],
   "source": [
    "#20, 18, 2:\n",
    "data=\"\"\"1,SAIlaxmi45@gmail.com,9676622023,sai\n",
    "vedha,2,vedhAnvesh12@yahoo.co.in,9676622024\n",
    "3,Jay,8767898767,JAYARAM12@rediff.org\"\"\"\n",
    "#sambapython@gmail.com\n",
    "#username: [a-z][0-9_-]+\n",
    "#domain symbol:@\n",
    "#domainname:gmail, [a-z]\n",
    "#., \\.\n",
    "#extension [.a-z]*\n",
    "emails = re.finditer(\"\\w+@[a-z]+\\.[.a-z]*\",data,re.I)\n",
    "for email in emails:\n",
    "    print(email)"
   ]
  },
  {
   "cell_type": "code",
   "execution_count": 61,
   "metadata": {},
   "outputs": [
    {
     "name": "stdout",
     "output_type": "stream",
     "text": [
      "SAIlaxmi45@gmail.com\n",
      "vedhAnvesh12@yahoo.co.in\n",
      "JAYARAM12@rediff.org\n"
     ]
    }
   ],
   "source": [
    "#20, 18, 2:\n",
    "data=\"\"\"1,SAIlaxmi45@gmail.com,9676622023,sai\n",
    "vedha,2,vedhAnvesh12@yahoo.co.in,9676622024\n",
    "3,Jay,8767898767,JAYARAM12@rediff.org\"\"\"\n",
    "#sambapython@gmail.com\n",
    "#username: [a-z][0-9_-]+\n",
    "#domain symbol:@\n",
    "#domainname:gmail, [a-z]\n",
    "#., \\.\n",
    "#extension [.a-z]*\n",
    "emails = re.finditer(\"\\w+@[a-z]+\\.[.a-z]*\",data,re.I)\n",
    "for email in emails:\n",
    "    print(email.group(0))"
   ]
  },
  {
   "cell_type": "code",
   "execution_count": 62,
   "metadata": {},
   "outputs": [
    {
     "name": "stdout",
     "output_type": "stream",
     "text": [
      "<re.Match object; span=(2, 22), match='SAIlaxmi45@gmail.com'>\n"
     ]
    }
   ],
   "source": [
    "#20, 18, 2:\n",
    "data=\"\"\"1,SAIlaxmi45@gmail.com,9676622023,sai\n",
    "vedha,2,vedhAnvesh12@yahoo.co.in,9676622024\n",
    "3,Jay,8767898767,JAYARAM12@rediff.org\"\"\"\n",
    "#sambapython@gmail.com\n",
    "#username: [a-z][0-9_-]+\n",
    "#domain symbol:@\n",
    "#domainname:gmail, [a-z]\n",
    "#., \\.\n",
    "#extension [.a-z]*\n",
    "print(re.search(\"\\w+@[a-z]+\\.[.a-z]*\",data,re.I))\n"
   ]
  },
  {
   "cell_type": "code",
   "execution_count": 63,
   "metadata": {},
   "outputs": [
    {
     "name": "stdout",
     "output_type": "stream",
     "text": [
      "None\n"
     ]
    }
   ],
   "source": [
    "#20, 18, 2:\n",
    "data=\"\"\"1,SAIlaxmi45@gmail.com,9676622023,sai\n",
    "vedha,2,vedhAnvesh12@yahoo.co.in,9676622024\n",
    "3,Jay,8767898767,JAYARAM12@rediff.org\"\"\"\n",
    "#sambapython@gmail.com\n",
    "#username: [a-z][0-9_-]+\n",
    "#domain symbol:@\n",
    "#domainname:gmail, [a-z]\n",
    "#., \\.\n",
    "#extension [.a-z]*\n",
    "print(re.match(\"\\w+@[a-z]+\\.[.a-z]*\",data,re.I))\n"
   ]
  },
  {
   "cell_type": "code",
   "execution_count": 64,
   "metadata": {},
   "outputs": [
    {
     "name": "stdout",
     "output_type": "stream",
     "text": [
      "None\n"
     ]
    }
   ],
   "source": [
    "#20, 18, 2:\n",
    "data=\"\"\"1,SAIlaxmi45@gmail.com,9676622023,sai\n",
    "vedha,2,vedhAnvesh12@yahoo.co.in,9676622024\n",
    "3,Jay,8767898767,JAYARAM12@rediff.org\"\"\"\n",
    "#sambapython@gmail.com\n",
    "#username: [a-z][0-9_-]+\n",
    "#domain symbol:@\n",
    "#domainname:gmail, [a-z]\n",
    "#., \\.\n",
    "#extension [.a-z]*\n",
    "print(re.search(\"\\w1343+@[a-z]+\\.[.a-z]*\",data,re.I))\n"
   ]
  },
  {
   "cell_type": "code",
   "execution_count": null,
   "metadata": {},
   "outputs": [],
   "source": []
  }
 ],
 "metadata": {
  "kernelspec": {
   "display_name": "Python 3",
   "language": "python",
   "name": "python3"
  },
  "language_info": {
   "codemirror_mode": {
    "name": "ipython",
    "version": 3
   },
   "file_extension": ".py",
   "mimetype": "text/x-python",
   "name": "python",
   "nbconvert_exporter": "python",
   "pygments_lexer": "ipython3",
   "version": "3.7.0"
  }
 },
 "nbformat": 4,
 "nbformat_minor": 2
}
