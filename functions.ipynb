{
 "cells": [
  {
   "cell_type": "code",
   "execution_count": 1,
   "metadata": {},
   "outputs": [
    {
     "name": "stdout",
     "output_type": "stream",
     "text": [
      "Welcome\n",
      "Thank you..\n"
     ]
    }
   ],
   "source": [
    "print(\"Welcome\")\n",
    "def fun():\n",
    "    print(\"this is function\")\n",
    "print(\"Thank you..\")"
   ]
  },
  {
   "cell_type": "code",
   "execution_count": 2,
   "metadata": {},
   "outputs": [
    {
     "name": "stdout",
     "output_type": "stream",
     "text": [
      "Welcome\n",
      "Thank you..\n",
      "this is function\n"
     ]
    }
   ],
   "source": [
    "print(\"Welcome\")\n",
    "def fun():\n",
    "    print(\"this is function\")\n",
    "print(\"Thank you..\")\n",
    "fun()"
   ]
  },
  {
   "cell_type": "code",
   "execution_count": 3,
   "metadata": {},
   "outputs": [
    {
     "name": "stdout",
     "output_type": "stream",
     "text": [
      "Welcome\n",
      "function started\n",
      "this is function\n",
      "function ended.\n",
      "Thank you..\n",
      "function started\n",
      "this is function\n",
      "function ended.\n"
     ]
    }
   ],
   "source": [
    "print(\"Welcome\")\n",
    "def fun():\n",
    "    print(\"function started\")\n",
    "    print(\"this is function\")\n",
    "    print(\"function ended.\")\n",
    "fun()\n",
    "print(\"Thank you..\")\n",
    "fun()"
   ]
  },
  {
   "cell_type": "code",
   "execution_count": 4,
   "metadata": {},
   "outputs": [
    {
     "name": "stdout",
     "output_type": "stream",
     "text": [
      "Welcome\n",
      "('a=', 10, 'b=', 20)\n",
      "('result=', 30)\n",
      "('a=', 100, 'b=', 200)\n",
      "('result=', 300)\n",
      "('a=', 1000, 'b=', 2000)\n",
      "('result=', 3000)\n",
      "Thank you..\n"
     ]
    }
   ],
   "source": [
    "print(\"Welcome\")\n",
    "def fun(a,b):\n",
    "    # a,b are parameters\n",
    "    print(\"a=\",a,\"b=\",b)\n",
    "    print(\"result=\",a+b)\n",
    "\n",
    "# 10,20 are arguments\n",
    "fun(10,20)\n",
    "fun(100,200)\n",
    "fun(1000,2000)\n",
    "print(\"Thank you..\")"
   ]
  },
  {
   "cell_type": "code",
   "execution_count": 5,
   "metadata": {},
   "outputs": [
    {
     "name": "stdout",
     "output_type": "stream",
     "text": [
      "Welcome\n",
      "('a=', 10, 'b=', 20)\n",
      "('result=', 30)\n",
      "('a=', 100, 'b=', 200)\n",
      "('result=', 300)\n",
      "('a=', 1000, 'b=', 2000)\n",
      "('result=', 3000)\n",
      "Thank you..\n"
     ]
    }
   ],
   "source": [
    "print(\"Welcome\")\n",
    "a=10\n",
    "b=20\n",
    "print(\"a=\",a,\"b=\",b)\n",
    "print(\"result=\",a+b)\n",
    "a=100\n",
    "b=200\n",
    "print(\"a=\",a,\"b=\",b)\n",
    "print(\"result=\",a+b)\n",
    "a=1000\n",
    "b=2000\n",
    "print(\"a=\",a,\"b=\",b)\n",
    "print(\"result=\",a+b)\n",
    "print(\"Thank you..\")"
   ]
  },
  {
   "cell_type": "code",
   "execution_count": 6,
   "metadata": {},
   "outputs": [
    {
     "name": "stdout",
     "output_type": "stream",
     "text": [
      "Welcome\n",
      "('a=', 10, 'b=', 20)\n",
      "('summation=', 30)\n",
      "('a=', 100, 'b=', 200)\n",
      "('sujmmation=', 300)\n",
      "('a=', 1000, 'b=', 2000)\n",
      "('summation=', 3000)\n",
      "Thank you..\n"
     ]
    }
   ],
   "source": [
    "print(\"Welcome\")\n",
    "a=10\n",
    "b=20\n",
    "print(\"a=\",a,\"b=\",b)\n",
    "print(\"summation=\",a+b)\n",
    "a=100\n",
    "b=200\n",
    "print(\"a=\",a,\"b=\",b)\n",
    "print(\"sujmmation=\",a+b)\n",
    "a=1000\n",
    "b=2000\n",
    "print(\"a=\",a,\"b=\",b)\n",
    "print(\"summation=\",a+b)\n",
    "print(\"Thank you..\")"
   ]
  },
  {
   "cell_type": "code",
   "execution_count": 7,
   "metadata": {},
   "outputs": [
    {
     "name": "stdout",
     "output_type": "stream",
     "text": [
      "Welcome\n",
      "('a=', 10, 'b=', 20)\n",
      "('summation=', 30)\n",
      "('a=', 100, 'b=', 200)\n",
      "('summation=', 300)\n",
      "('a=', 1000, 'b=', 2000)\n",
      "('summation=', 3000)\n",
      "Thank you..\n"
     ]
    }
   ],
   "source": [
    "print(\"Welcome\")\n",
    "def fun(a,b):\n",
    "    # a,b are parameters\n",
    "    print(\"a=\",a,\"b=\",b)\n",
    "    print(\"summation=\",a+b)\n",
    "\n",
    "# 10,20 are arguments\n",
    "fun(10,20)\n",
    "fun(100,200)\n",
    "fun(1000,2000)\n",
    "print(\"Thank you..\")"
   ]
  },
  {
   "cell_type": "code",
   "execution_count": 8,
   "metadata": {},
   "outputs": [
    {
     "name": "stdout",
     "output_type": "stream",
     "text": [
      "('a=', 10, 'b=', 20)\n",
      "('summation=', 30)\n"
     ]
    },
    {
     "ename": "TypeError",
     "evalue": "fun() takes exactly 2 arguments (3 given)",
     "output_type": "error",
     "traceback": [
      "\u001b[0;31m---------------------------------------------------------------------------\u001b[0m",
      "\u001b[0;31mTypeError\u001b[0m                                 Traceback (most recent call last)",
      "\u001b[0;32m<ipython-input-8-62b4e680dd08>\u001b[0m in \u001b[0;36m<module>\u001b[0;34m()\u001b[0m\n\u001b[1;32m      4\u001b[0m     \u001b[0;32mprint\u001b[0m\u001b[0;34m(\u001b[0m\u001b[0;34m\"summation=\"\u001b[0m\u001b[0;34m,\u001b[0m\u001b[0ma\u001b[0m\u001b[0;34m+\u001b[0m\u001b[0mb\u001b[0m\u001b[0;34m)\u001b[0m\u001b[0;34m\u001b[0m\u001b[0m\n\u001b[1;32m      5\u001b[0m \u001b[0mfun\u001b[0m\u001b[0;34m(\u001b[0m\u001b[0;36m10\u001b[0m\u001b[0;34m,\u001b[0m\u001b[0;36m20\u001b[0m\u001b[0;34m)\u001b[0m\u001b[0;34m\u001b[0m\u001b[0m\n\u001b[0;32m----> 6\u001b[0;31m \u001b[0mfun\u001b[0m\u001b[0;34m(\u001b[0m\u001b[0;36m10\u001b[0m\u001b[0;34m,\u001b[0m\u001b[0;36m20\u001b[0m\u001b[0;34m,\u001b[0m\u001b[0;36m30\u001b[0m\u001b[0;34m)\u001b[0m\u001b[0;34m\u001b[0m\u001b[0m\n\u001b[0m",
      "\u001b[0;31mTypeError\u001b[0m: fun() takes exactly 2 arguments (3 given)"
     ]
    }
   ],
   "source": [
    "def fun(a,b):\n",
    "    # a,b are parameters\n",
    "    print(\"a=\",a,\"b=\",b)\n",
    "    print(\"summation=\",a+b)\n",
    "fun(10,20)\n",
    "fun(10,20,30)"
   ]
  },
  {
   "cell_type": "code",
   "execution_count": 9,
   "metadata": {},
   "outputs": [
    {
     "ename": "TypeError",
     "evalue": "fun() takes exactly 3 arguments (2 given)",
     "output_type": "error",
     "traceback": [
      "\u001b[0;31m---------------------------------------------------------------------------\u001b[0m",
      "\u001b[0;31mTypeError\u001b[0m                                 Traceback (most recent call last)",
      "\u001b[0;32m<ipython-input-9-22a0ae244e99>\u001b[0m in \u001b[0;36m<module>\u001b[0;34m()\u001b[0m\n\u001b[1;32m      3\u001b[0m     \u001b[0;32mprint\u001b[0m\u001b[0;34m(\u001b[0m\u001b[0;34m\"a=\"\u001b[0m\u001b[0;34m,\u001b[0m\u001b[0ma\u001b[0m\u001b[0;34m,\u001b[0m\u001b[0;34m\"b=\"\u001b[0m\u001b[0;34m,\u001b[0m\u001b[0mb\u001b[0m\u001b[0;34m,\u001b[0m\u001b[0;34m\"c=\"\u001b[0m\u001b[0;34m,\u001b[0m\u001b[0mc\u001b[0m\u001b[0;34m)\u001b[0m\u001b[0;34m\u001b[0m\u001b[0m\n\u001b[1;32m      4\u001b[0m     \u001b[0;32mprint\u001b[0m\u001b[0;34m(\u001b[0m\u001b[0;34m\"summation=\"\u001b[0m\u001b[0;34m,\u001b[0m\u001b[0ma\u001b[0m\u001b[0;34m+\u001b[0m\u001b[0mb\u001b[0m\u001b[0;34m)\u001b[0m\u001b[0;34m\u001b[0m\u001b[0m\n\u001b[0;32m----> 5\u001b[0;31m \u001b[0mfun\u001b[0m\u001b[0;34m(\u001b[0m\u001b[0;36m10\u001b[0m\u001b[0;34m,\u001b[0m\u001b[0;36m20\u001b[0m\u001b[0;34m)\u001b[0m\u001b[0;34m\u001b[0m\u001b[0m\n\u001b[0m\u001b[1;32m      6\u001b[0m \u001b[0mfun\u001b[0m\u001b[0;34m(\u001b[0m\u001b[0;36m10\u001b[0m\u001b[0;34m,\u001b[0m\u001b[0;36m20\u001b[0m\u001b[0;34m,\u001b[0m\u001b[0;36m30\u001b[0m\u001b[0;34m)\u001b[0m\u001b[0;34m\u001b[0m\u001b[0m\n",
      "\u001b[0;31mTypeError\u001b[0m: fun() takes exactly 3 arguments (2 given)"
     ]
    }
   ],
   "source": [
    "def fun(a,b,c):\n",
    "    # a,b are parameters\n",
    "    print(\"a=\",a,\"b=\",b,\"c=\",c)\n",
    "    print(\"summation=\",a+b)\n",
    "fun(10,20)\n",
    "fun(10,20,30)"
   ]
  },
  {
   "cell_type": "code",
   "execution_count": 11,
   "metadata": {},
   "outputs": [
    {
     "name": "stdout",
     "output_type": "stream",
     "text": [
      "('a=', 10, 'b=', 20, 'c=', 0, 'd=', 0, 'e=', 0)\n",
      "('summation=', 30)\n",
      "('a=', 10, 'b=', 20, 'c=', 30, 'd=', 0, 'e=', 0)\n",
      "('summation=', 60)\n",
      "('a=', 10, 'b=', 20, 'c=', 30, 'd=', 40, 'e=', 0)\n",
      "('summation=', 100)\n",
      "('a=', 10, 'b=', 20, 'c=', 30, 'd=', 40, 'e=', 50)\n",
      "('summation=', 150)\n"
     ]
    }
   ],
   "source": [
    "#default arg/params\n",
    "def fun(a,b,c=0,d=0,e=0):\n",
    "    # a,b are parameters\n",
    "    print(\"a=\",a,\"b=\",b,\"c=\",c,\"d=\",d,\"e=\",e)\n",
    "    print(\"summation=\",a+b+c+d+e)\n",
    "fun(10,20)\n",
    "fun(10,20,30)\n",
    "fun(10,20,30,40)\n",
    "fun(10,20,30,40,50)"
   ]
  },
  {
   "cell_type": "code",
   "execution_count": 12,
   "metadata": {},
   "outputs": [
    {
     "name": "stdout",
     "output_type": "stream",
     "text": [
      "('a=', 10, 'b=', 20, 'c=', 0, 'd=', 0, 'e=', 0)\n",
      "('summation=', 30)\n",
      "('a=', 10, 'b=', 20, 'c=', 30.5, 'd=', 0, 'e=', 0)\n",
      "('summation=', 60.5)\n",
      "('a=', 10, 'b=', 20, 'c=', 30, 'd=', 40.6, 'e=', 0)\n",
      "('summation=', 100.6)\n",
      "('a=', 10, 'b=', 20, 'c=', 30, 'd=', 40, 'e=', (50+2j))\n",
      "('summation=', (150+2j))\n"
     ]
    }
   ],
   "source": [
    "#default arg/params\n",
    "def fun(a,b,c=0,d=0,e=0):\n",
    "    # a,b are parameters\n",
    "    print(\"a=\",a,\"b=\",b,\"c=\",c,\"d=\",d,\"e=\",e)\n",
    "    print(\"summation=\",a+b+c+d+e)\n",
    "fun(10,20)\n",
    "fun(10,20,30.5)\n",
    "fun(10,20,30,40.6)\n",
    "fun(10,20,30,40,50+2j)"
   ]
  },
  {
   "cell_type": "code",
   "execution_count": 13,
   "metadata": {},
   "outputs": [
    {
     "name": "stdout",
     "output_type": "stream",
     "text": [
      "('a=', 10, 'b=', 20, 'c=', 0, 'd=', 0, 'e=', 0)\n",
      "('summation=', 30)\n",
      "('a=', 10, 'b=', 20, 'c=', 30.5, 'd=', 0, 'e=', 0)\n",
      "('summation=', 60.5)\n",
      "('a=', 10, 'b=', 20, 'c=', 30, 'd=', 40.6, 'e=', 0)\n",
      "('summation=', 100.6)\n",
      "('a=', 10, 'b=', 20, 'c=', 30, 'd=', 40, 'e=', (50+2j))\n",
      "('summation=', (150+2j))\n"
     ]
    }
   ],
   "source": [
    "#default arg/params\n",
    "def fun(a,b,c=0,d=0,e=0):\n",
    "    '''\n",
    "    a,b,c,d,e type: int\n",
    "    a,b mandatory\n",
    "    b,c,d: optional, default value=0\n",
    "    '''\n",
    "    print(\"a=\",a,\"b=\",b,\"c=\",c,\"d=\",d,\"e=\",e)\n",
    "    print(\"summation=\",a+b+c+d+e)\n",
    "fun(10,20)\n",
    "fun(10,20,30.5)\n",
    "fun(10,20,30,40.6)\n",
    "fun(10,20,30,40,50+2j)"
   ]
  },
  {
   "cell_type": "code",
   "execution_count": 14,
   "metadata": {
    "collapsed": true
   },
   "outputs": [],
   "source": [
    "fun?"
   ]
  },
  {
   "cell_type": "code",
   "execution_count": 15,
   "metadata": {},
   "outputs": [
    {
     "name": "stdout",
     "output_type": "stream",
     "text": [
      "('a=', 10, 'b=', 20, 'c=', 0, 'd=', 0, 'e=', 0)\n",
      "('summation=', 30)\n",
      "('a=', 10, 'b=', 20, 'c=', 30.5, 'd=', 0, 'e=', 0)\n",
      "('summation=', 60.5)\n",
      "('a=', 10, 'b=', 20, 'c=', 30, 'd=', 40.6, 'e=', 0)\n",
      "('summation=', 100.6)\n",
      "('a=', 10, 'b=', 20, 'c=', 30, 'd=', 40, 'e=', (50+2j))\n",
      "('summation=', (150+2j))\n",
      "('a=', 's1', 'b=', 's2', 'c=', 's3', 'd=', 's4', 'e=', 's5')\n",
      "('summation=', 's1s2s3s4s5')\n"
     ]
    }
   ],
   "source": [
    "#default arg/params\n",
    "def fun(a,b,c=0,d=0,e=0):\n",
    "    '''\n",
    "    a,b,c,d,e type: int\n",
    "    a,b mandatory\n",
    "    b,c,d: optional, default value=0\n",
    "    '''\n",
    "    print(\"a=\",a,\"b=\",b,\"c=\",c,\"d=\",d,\"e=\",e)\n",
    "    print(\"summation=\",a+b+c+d+e)\n",
    "fun(10,20)\n",
    "fun(10,20,30.5)\n",
    "fun(10,20,30,40.6)\n",
    "fun(10,20,30,40,50+2j)\n",
    "fun(\"s1\",\"s2\",\"s3\",\"s4\",\"s5\")"
   ]
  },
  {
   "cell_type": "code",
   "execution_count": 16,
   "metadata": {},
   "outputs": [
    {
     "name": "stdout",
     "output_type": "stream",
     "text": [
      "('a=', 10, 'b=', 20, 'c=', 30, 'd=', 0, 'e=', 0)\n",
      "('summation=', 60)\n"
     ]
    }
   ],
   "source": [
    "def fun(a,b,c=0,d=0,e=0):\n",
    "    print(\"a=\",a,\"b=\",b,\"c=\",c,\"d=\",d,\"e=\",e)\n",
    "    print(\"summation=\",a+b+c+d+e)\n",
    "fun(10,20,30)"
   ]
  },
  {
   "cell_type": "code",
   "execution_count": 17,
   "metadata": {},
   "outputs": [
    {
     "ename": "SyntaxError",
     "evalue": "invalid syntax (<ipython-input-17-96cae9f11dc3>, line 4)",
     "output_type": "error",
     "traceback": [
      "\u001b[0;36m  File \u001b[0;32m\"<ipython-input-17-96cae9f11dc3>\"\u001b[0;36m, line \u001b[0;32m4\u001b[0m\n\u001b[0;31m    fun(10,20,,30)\u001b[0m\n\u001b[0m              ^\u001b[0m\n\u001b[0;31mSyntaxError\u001b[0m\u001b[0;31m:\u001b[0m invalid syntax\n"
     ]
    }
   ],
   "source": [
    "def fun(a,b,c=0,d=0,e=0):\n",
    "    print(\"a=\",a,\"b=\",b,\"c=\",c,\"d=\",d,\"e=\",e)\n",
    "    print(\"summation=\",a+b+c+d+e)\n",
    "fun(10,20,,30)"
   ]
  },
  {
   "cell_type": "code",
   "execution_count": 18,
   "metadata": {},
   "outputs": [
    {
     "name": "stdout",
     "output_type": "stream",
     "text": [
      "('a=', 10, 'b=', 20, 'c=', 0, 'd=', 30, 'e=', 0)\n",
      "('summation=', 60)\n"
     ]
    }
   ],
   "source": [
    "def fun(a,b,c=0,d=0,e=0):\n",
    "    print(\"a=\",a,\"b=\",b,\"c=\",c,\"d=\",d,\"e=\",e)\n",
    "    print(\"summation=\",a+b+c+d+e)\n",
    "fun(10,20,0,30)"
   ]
  },
  {
   "cell_type": "code",
   "execution_count": 19,
   "metadata": {
    "collapsed": true
   },
   "outputs": [],
   "source": [
    "import pandas\n",
    "pandas.read_csv?"
   ]
  },
  {
   "cell_type": "code",
   "execution_count": 20,
   "metadata": {},
   "outputs": [
    {
     "name": "stdout",
     "output_type": "stream",
     "text": [
      "('a=', 10, 'b=', 20, 'c=', 0, 'd=', 30, 'e=', 0)\n",
      "('summation=', 60)\n"
     ]
    }
   ],
   "source": [
    "def fun(a,b,c=0,d=0,e=0):\n",
    "    print(\"a=\",a,\"b=\",b,\"c=\",c,\"d=\",d,\"e=\",e)\n",
    "    print(\"summation=\",a+b+c+d+e)\n",
    "fun(10,20,d=30)\n",
    "# keyword arguments"
   ]
  },
  {
   "cell_type": "code",
   "execution_count": 21,
   "metadata": {},
   "outputs": [
    {
     "ename": "TypeError",
     "evalue": "fun() got an unexpected keyword argument 'f'",
     "output_type": "error",
     "traceback": [
      "\u001b[0;31m---------------------------------------------------------------------------\u001b[0m",
      "\u001b[0;31mTypeError\u001b[0m                                 Traceback (most recent call last)",
      "\u001b[0;32m<ipython-input-21-bf693d51be46>\u001b[0m in \u001b[0;36m<module>\u001b[0;34m()\u001b[0m\n\u001b[1;32m      2\u001b[0m     \u001b[0;32mprint\u001b[0m\u001b[0;34m(\u001b[0m\u001b[0;34m\"a=\"\u001b[0m\u001b[0;34m,\u001b[0m\u001b[0ma\u001b[0m\u001b[0;34m,\u001b[0m\u001b[0;34m\"b=\"\u001b[0m\u001b[0;34m,\u001b[0m\u001b[0mb\u001b[0m\u001b[0;34m,\u001b[0m\u001b[0;34m\"c=\"\u001b[0m\u001b[0;34m,\u001b[0m\u001b[0mc\u001b[0m\u001b[0;34m,\u001b[0m\u001b[0;34m\"d=\"\u001b[0m\u001b[0;34m,\u001b[0m\u001b[0md\u001b[0m\u001b[0;34m,\u001b[0m\u001b[0;34m\"e=\"\u001b[0m\u001b[0;34m,\u001b[0m\u001b[0me\u001b[0m\u001b[0;34m)\u001b[0m\u001b[0;34m\u001b[0m\u001b[0m\n\u001b[1;32m      3\u001b[0m     \u001b[0;32mprint\u001b[0m\u001b[0;34m(\u001b[0m\u001b[0;34m\"summation=\"\u001b[0m\u001b[0;34m,\u001b[0m\u001b[0ma\u001b[0m\u001b[0;34m+\u001b[0m\u001b[0mb\u001b[0m\u001b[0;34m+\u001b[0m\u001b[0mc\u001b[0m\u001b[0;34m+\u001b[0m\u001b[0md\u001b[0m\u001b[0;34m+\u001b[0m\u001b[0me\u001b[0m\u001b[0;34m)\u001b[0m\u001b[0;34m\u001b[0m\u001b[0m\n\u001b[0;32m----> 4\u001b[0;31m \u001b[0mfun\u001b[0m\u001b[0;34m(\u001b[0m\u001b[0;36m10\u001b[0m\u001b[0;34m,\u001b[0m\u001b[0;36m20\u001b[0m\u001b[0;34m,\u001b[0m\u001b[0mf\u001b[0m\u001b[0;34m=\u001b[0m\u001b[0;36m30\u001b[0m\u001b[0;34m)\u001b[0m\u001b[0;34m\u001b[0m\u001b[0m\n\u001b[0m\u001b[1;32m      5\u001b[0m \u001b[0;31m# keyword arguments\u001b[0m\u001b[0;34m\u001b[0m\u001b[0;34m\u001b[0m\u001b[0m\n",
      "\u001b[0;31mTypeError\u001b[0m: fun() got an unexpected keyword argument 'f'"
     ]
    }
   ],
   "source": [
    "def fun(a,b,c=0,d=0,e=0):\n",
    "    print(\"a=\",a,\"b=\",b,\"c=\",c,\"d=\",d,\"e=\",e)\n",
    "    print(\"summation=\",a+b+c+d+e)\n",
    "fun(10,20,f=30)\n",
    "# keyword arguments"
   ]
  },
  {
   "cell_type": "code",
   "execution_count": 22,
   "metadata": {},
   "outputs": [
    {
     "name": "stdout",
     "output_type": "stream",
     "text": [
      "('a=', 10, 'b=', 20, 'c=', 0, 'd=', 30, 'e=', 0)\n",
      "('summation=', 60)\n"
     ]
    }
   ],
   "source": [
    "def fun(a,b,c=0,d=0,e=0):\n",
    "    print(\"a=\",a,\"b=\",b,\"c=\",c,\"d=\",d,\"e=\",e)\n",
    "    print(\"summation=\",a+b+c+d+e)\n",
    "fun(d=30,a=10,b=20)\n",
    "# keyword arguments"
   ]
  },
  {
   "cell_type": "code",
   "execution_count": 23,
   "metadata": {},
   "outputs": [
    {
     "ename": "TypeError",
     "evalue": "fun() takes at least 2 arguments (1 given)",
     "output_type": "error",
     "traceback": [
      "\u001b[0;31m---------------------------------------------------------------------------\u001b[0m",
      "\u001b[0;31mTypeError\u001b[0m                                 Traceback (most recent call last)",
      "\u001b[0;32m<ipython-input-23-c180b28913c6>\u001b[0m in \u001b[0;36m<module>\u001b[0;34m()\u001b[0m\n\u001b[1;32m      2\u001b[0m     \u001b[0;32mprint\u001b[0m\u001b[0;34m(\u001b[0m\u001b[0;34m\"a=\"\u001b[0m\u001b[0;34m,\u001b[0m\u001b[0ma\u001b[0m\u001b[0;34m,\u001b[0m\u001b[0;34m\"b=\"\u001b[0m\u001b[0;34m,\u001b[0m\u001b[0mb\u001b[0m\u001b[0;34m,\u001b[0m\u001b[0;34m\"c=\"\u001b[0m\u001b[0;34m,\u001b[0m\u001b[0mc\u001b[0m\u001b[0;34m,\u001b[0m\u001b[0;34m\"d=\"\u001b[0m\u001b[0;34m,\u001b[0m\u001b[0md\u001b[0m\u001b[0;34m,\u001b[0m\u001b[0;34m\"e=\"\u001b[0m\u001b[0;34m,\u001b[0m\u001b[0me\u001b[0m\u001b[0;34m)\u001b[0m\u001b[0;34m\u001b[0m\u001b[0m\n\u001b[1;32m      3\u001b[0m     \u001b[0;32mprint\u001b[0m\u001b[0;34m(\u001b[0m\u001b[0;34m\"summation=\"\u001b[0m\u001b[0;34m,\u001b[0m\u001b[0ma\u001b[0m\u001b[0;34m+\u001b[0m\u001b[0mb\u001b[0m\u001b[0;34m+\u001b[0m\u001b[0mc\u001b[0m\u001b[0;34m+\u001b[0m\u001b[0md\u001b[0m\u001b[0;34m+\u001b[0m\u001b[0me\u001b[0m\u001b[0;34m)\u001b[0m\u001b[0;34m\u001b[0m\u001b[0m\n\u001b[0;32m----> 4\u001b[0;31m \u001b[0mfun\u001b[0m\u001b[0;34m(\u001b[0m\u001b[0md\u001b[0m\u001b[0;34m=\u001b[0m\u001b[0;36m30\u001b[0m\u001b[0;34m)\u001b[0m\u001b[0;34m\u001b[0m\u001b[0m\n\u001b[0m\u001b[1;32m      5\u001b[0m \u001b[0;31m# keyword arguments\u001b[0m\u001b[0;34m\u001b[0m\u001b[0;34m\u001b[0m\u001b[0m\n",
      "\u001b[0;31mTypeError\u001b[0m: fun() takes at least 2 arguments (1 given)"
     ]
    }
   ],
   "source": [
    "def fun(a,b,c=0,d=0,e=0):\n",
    "    print(\"a=\",a,\"b=\",b,\"c=\",c,\"d=\",d,\"e=\",e)\n",
    "    print(\"summation=\",a+b+c+d+e)\n",
    "fun(d=30)\n",
    "# keyword arguments"
   ]
  },
  {
   "cell_type": "code",
   "execution_count": 24,
   "metadata": {},
   "outputs": [
    {
     "ename": "TypeError",
     "evalue": "fun() takes at least 2 arguments (3 given)",
     "output_type": "error",
     "traceback": [
      "\u001b[0;31m---------------------------------------------------------------------------\u001b[0m",
      "\u001b[0;31mTypeError\u001b[0m                                 Traceback (most recent call last)",
      "\u001b[0;32m<ipython-input-24-bffaed0da682>\u001b[0m in \u001b[0;36m<module>\u001b[0;34m()\u001b[0m\n\u001b[1;32m      2\u001b[0m     \u001b[0;32mprint\u001b[0m\u001b[0;34m(\u001b[0m\u001b[0;34m\"a=\"\u001b[0m\u001b[0;34m,\u001b[0m\u001b[0ma\u001b[0m\u001b[0;34m,\u001b[0m\u001b[0;34m\"b=\"\u001b[0m\u001b[0;34m,\u001b[0m\u001b[0mb\u001b[0m\u001b[0;34m,\u001b[0m\u001b[0;34m\"c=\"\u001b[0m\u001b[0;34m,\u001b[0m\u001b[0mc\u001b[0m\u001b[0;34m,\u001b[0m\u001b[0;34m\"d=\"\u001b[0m\u001b[0;34m,\u001b[0m\u001b[0md\u001b[0m\u001b[0;34m,\u001b[0m\u001b[0;34m\"e=\"\u001b[0m\u001b[0;34m,\u001b[0m\u001b[0me\u001b[0m\u001b[0;34m)\u001b[0m\u001b[0;34m\u001b[0m\u001b[0m\n\u001b[1;32m      3\u001b[0m     \u001b[0;32mprint\u001b[0m\u001b[0;34m(\u001b[0m\u001b[0;34m\"summation=\"\u001b[0m\u001b[0;34m,\u001b[0m\u001b[0ma\u001b[0m\u001b[0;34m+\u001b[0m\u001b[0mb\u001b[0m\u001b[0;34m+\u001b[0m\u001b[0mc\u001b[0m\u001b[0;34m+\u001b[0m\u001b[0md\u001b[0m\u001b[0;34m+\u001b[0m\u001b[0me\u001b[0m\u001b[0;34m)\u001b[0m\u001b[0;34m\u001b[0m\u001b[0m\n\u001b[0;32m----> 4\u001b[0;31m \u001b[0mfun\u001b[0m\u001b[0;34m(\u001b[0m\u001b[0md\u001b[0m\u001b[0;34m=\u001b[0m\u001b[0;36m30\u001b[0m\u001b[0;34m,\u001b[0m\u001b[0mc\u001b[0m\u001b[0;34m=\u001b[0m\u001b[0;36m20\u001b[0m\u001b[0;34m,\u001b[0m\u001b[0me\u001b[0m\u001b[0;34m=\u001b[0m\u001b[0;36m40\u001b[0m\u001b[0;34m)\u001b[0m\u001b[0;34m\u001b[0m\u001b[0m\n\u001b[0m\u001b[1;32m      5\u001b[0m \u001b[0;31m# keyword arguments\u001b[0m\u001b[0;34m\u001b[0m\u001b[0;34m\u001b[0m\u001b[0m\n",
      "\u001b[0;31mTypeError\u001b[0m: fun() takes at least 2 arguments (3 given)"
     ]
    }
   ],
   "source": [
    "def fun(a,b,c=0,d=0,e=0):\n",
    "    print(\"a=\",a,\"b=\",b,\"c=\",c,\"d=\",d,\"e=\",e)\n",
    "    print(\"summation=\",a+b+c+d+e)\n",
    "fun(d=30,c=20,e=40)\n",
    "# keyword arguments"
   ]
  },
  {
   "cell_type": "code",
   "execution_count": 25,
   "metadata": {},
   "outputs": [
    {
     "name": "stdout",
     "output_type": "stream",
     "text": [
      "('a=', 100, 'b=', 3000, 'c=', 20, 'd=', 30, 'e=', 40)\n",
      "('summation=', 3190)\n"
     ]
    }
   ],
   "source": [
    "def fun(a,b,c=0,d=0,e=0):\n",
    "    print(\"a=\",a,\"b=\",b,\"c=\",c,\"d=\",d,\"e=\",e)\n",
    "    print(\"summation=\",a+b+c+d+e)\n",
    "fun(d=30,c=20,e=40,a=100,b=3000)\n",
    "# keyword arguments"
   ]
  },
  {
   "cell_type": "code",
   "execution_count": 26,
   "metadata": {},
   "outputs": [
    {
     "ename": "SyntaxError",
     "evalue": "non-default argument follows default argument (<ipython-input-26-fa8b538fcba0>, line 1)",
     "output_type": "error",
     "traceback": [
      "\u001b[0;36m  File \u001b[0;32m\"<ipython-input-26-fa8b538fcba0>\"\u001b[0;36m, line \u001b[0;32m1\u001b[0m\n\u001b[0;31m    def fun(a,b,c=0,d=0,e):\u001b[0m\n\u001b[0;31mSyntaxError\u001b[0m\u001b[0;31m:\u001b[0m non-default argument follows default argument\n"
     ]
    }
   ],
   "source": [
    "def fun(a,b,c=0,d=0,e):\n",
    "    print(\"a=\",a,\"b=\",b,\"c=\",c,\"d=\",d,\"e=\",e)\n",
    "    print(\"summation=\",a+b+c+d+e)\n",
    "fun(10,20,30)"
   ]
  },
  {
   "cell_type": "code",
   "execution_count": 27,
   "metadata": {},
   "outputs": [
    {
     "name": "stdout",
     "output_type": "stream",
     "text": [
      "('a=', (), <type 'tuple'>)\n",
      "('a=', (10,), <type 'tuple'>)\n",
      "('a=', (10, 20), <type 'tuple'>)\n",
      "('a=', (10, 20, 30), <type 'tuple'>)\n",
      "('a=', (10, 20, 30, 40, 50, 60, 670, 70, 70, 4050, 60, 7040, 60, 40, 604), <type 'tuple'>)\n"
     ]
    }
   ],
   "source": [
    "#*args\n",
    "def fun(*a):\n",
    "    print(\"a=\",a,type(a))\n",
    "fun()\n",
    "fun(10)\n",
    "fun(10,20)\n",
    "fun(10,20,30)\n",
    "fun(10,20,30,40,50,60,670,70,70,4050,60,7040,60,40,604)"
   ]
  },
  {
   "cell_type": "code",
   "execution_count": 28,
   "metadata": {},
   "outputs": [
    {
     "name": "stdout",
     "output_type": "stream",
     "text": [
      "('a=', (), <type 'tuple'>)\n",
      "0\n",
      "('a=', (10,), <type 'tuple'>)\n",
      "10\n",
      "('a=', (10, 20), <type 'tuple'>)\n",
      "30\n",
      "('a=', (10, 20, 30), <type 'tuple'>)\n",
      "60\n",
      "('a=', (10, 20, 30, 40, 50, 60, 670, 70, 70, 4050, 60, 7040, 60, 40, 604), <type 'tuple'>)\n",
      "12874\n"
     ]
    }
   ],
   "source": [
    "#*args\n",
    "def fun(*a):\n",
    "    print(\"a=\",a,type(a))\n",
    "    print(sum(a))\n",
    "fun()\n",
    "fun(10)\n",
    "fun(10,20)\n",
    "fun(10,20,30)\n",
    "fun(10,20,30,40,50,60,670,70,70,4050,60,7040,60,40,604)"
   ]
  },
  {
   "cell_type": "code",
   "execution_count": 29,
   "metadata": {},
   "outputs": [
    {
     "name": "stdout",
     "output_type": "stream",
     "text": [
      "<type 'int'>\n"
     ]
    }
   ],
   "source": [
    "a=(10)\n",
    "print(type(a))\n"
   ]
  },
  {
   "cell_type": "code",
   "execution_count": 30,
   "metadata": {},
   "outputs": [
    {
     "name": "stdout",
     "output_type": "stream",
     "text": [
      "<type 'tuple'>\n"
     ]
    }
   ],
   "source": [
    "a=(10,)\n",
    "print(type(a))\n"
   ]
  },
  {
   "cell_type": "code",
   "execution_count": 1,
   "metadata": {},
   "outputs": [
    {
     "name": "stdout",
     "output_type": "stream",
     "text": [
      "(10, 20, 30, 40)\n"
     ]
    },
    {
     "ename": "TypeError",
     "evalue": "fun() got an unexpected keyword argument 'c'",
     "output_type": "error",
     "traceback": [
      "\u001b[0;31m---------------------------------------------------------------------------\u001b[0m",
      "\u001b[0;31mTypeError\u001b[0m                                 Traceback (most recent call last)",
      "\u001b[0;32m<ipython-input-1-b09c3165cb35>\u001b[0m in \u001b[0;36m<module>\u001b[0;34m()\u001b[0m\n\u001b[1;32m      2\u001b[0m     \u001b[0;32mprint\u001b[0m\u001b[0;34m(\u001b[0m\u001b[0ma\u001b[0m\u001b[0;34m)\u001b[0m\u001b[0;34m\u001b[0m\u001b[0m\n\u001b[1;32m      3\u001b[0m \u001b[0mfun\u001b[0m\u001b[0;34m(\u001b[0m\u001b[0;36m10\u001b[0m\u001b[0;34m,\u001b[0m\u001b[0;36m20\u001b[0m\u001b[0;34m,\u001b[0m\u001b[0;36m30\u001b[0m\u001b[0;34m,\u001b[0m\u001b[0;36m40\u001b[0m\u001b[0;34m)\u001b[0m\u001b[0;34m\u001b[0m\u001b[0m\n\u001b[0;32m----> 4\u001b[0;31m \u001b[0mfun\u001b[0m\u001b[0;34m(\u001b[0m\u001b[0mc\u001b[0m\u001b[0;34m=\u001b[0m\u001b[0;36m10\u001b[0m\u001b[0;34m,\u001b[0m\u001b[0md\u001b[0m\u001b[0;34m=\u001b[0m\u001b[0;36m30\u001b[0m\u001b[0;34m,\u001b[0m\u001b[0me\u001b[0m\u001b[0;34m=\u001b[0m\u001b[0;36m40\u001b[0m\u001b[0;34m)\u001b[0m\u001b[0;34m\u001b[0m\u001b[0m\n\u001b[0m",
      "\u001b[0;31mTypeError\u001b[0m: fun() got an unexpected keyword argument 'c'"
     ]
    }
   ],
   "source": [
    "#*args will help us to access the unlimited number off positional arguments but not \n",
    "#keywor arguments\n",
    "def fun(*a):\n",
    "    print(a)\n",
    "fun(10,20,30,40)\n",
    "fun(c=10,d=30,e=40)"
   ]
  },
  {
   "cell_type": "code",
   "execution_count": 2,
   "metadata": {},
   "outputs": [
    {
     "name": "stdout",
     "output_type": "stream",
     "text": [
      "{'a': 10, 'c': 30, 'b': 20}\n"
     ]
    }
   ],
   "source": [
    "# to access unlimited number off keword arguments go with **kwargs\n",
    "def fun(**kwargs):\n",
    "    print(kwargs)\n",
    "fun(a=10,b=20,c=30)"
   ]
  },
  {
   "cell_type": "code",
   "execution_count": 3,
   "metadata": {},
   "outputs": [
    {
     "ename": "TypeError",
     "evalue": "fun() takes exactly 0 arguments (4 given)",
     "output_type": "error",
     "traceback": [
      "\u001b[0;31m---------------------------------------------------------------------------\u001b[0m",
      "\u001b[0;31mTypeError\u001b[0m                                 Traceback (most recent call last)",
      "\u001b[0;32m<ipython-input-3-56d673dcc652>\u001b[0m in \u001b[0;36m<module>\u001b[0;34m()\u001b[0m\n\u001b[1;32m      2\u001b[0m \u001b[0;32mdef\u001b[0m \u001b[0mfun\u001b[0m\u001b[0;34m(\u001b[0m\u001b[0;34m**\u001b[0m\u001b[0mkwargs\u001b[0m\u001b[0;34m)\u001b[0m\u001b[0;34m:\u001b[0m\u001b[0;34m\u001b[0m\u001b[0m\n\u001b[1;32m      3\u001b[0m     \u001b[0;32mprint\u001b[0m\u001b[0;34m(\u001b[0m\u001b[0mkwargs\u001b[0m\u001b[0;34m)\u001b[0m\u001b[0;34m\u001b[0m\u001b[0m\n\u001b[0;32m----> 4\u001b[0;31m \u001b[0mfun\u001b[0m\u001b[0;34m(\u001b[0m\u001b[0;36m10\u001b[0m\u001b[0;34m,\u001b[0m\u001b[0;36m20\u001b[0m\u001b[0;34m,\u001b[0m\u001b[0;36m30\u001b[0m\u001b[0;34m,\u001b[0m\u001b[0;36m40\u001b[0m\u001b[0;34m)\u001b[0m\u001b[0;34m\u001b[0m\u001b[0m\n\u001b[0m",
      "\u001b[0;31mTypeError\u001b[0m: fun() takes exactly 0 arguments (4 given)"
     ]
    }
   ],
   "source": [
    "# to access unlimited number off keword arguments go with **kwargs\n",
    "def fun(**kwargs):\n",
    "    print(kwargs)\n",
    "fun(10,20,30,40)"
   ]
  },
  {
   "cell_type": "code",
   "execution_count": 4,
   "metadata": {},
   "outputs": [
    {
     "name": "stdout",
     "output_type": "stream",
     "text": [
      "(10, 20, 30)\n",
      "{'c': 10, 'e': 30, 'd': 20}\n"
     ]
    }
   ],
   "source": [
    "def fun(*args,**kwargs):\n",
    "    print (args)\n",
    "    print(kwargs)\n",
    "fun(10,20,30,c=10,d=20,e=30)\n",
    "    "
   ]
  },
  {
   "cell_type": "code",
   "execution_count": 6,
   "metadata": {},
   "outputs": [
    {
     "name": "stdout",
     "output_type": "stream",
     "text": [
      "(10, 20, 10)\n",
      "()\n",
      "{'e': 30, 'd': 20}\n"
     ]
    }
   ],
   "source": [
    "def fun(a,b,c,*args,**kwargs):\n",
    "    print(a,b,c)\n",
    "    print (args)\n",
    "    print(kwargs)\n",
    "fun(10,20,c=10,d=20,e=30)\n",
    "    "
   ]
  },
  {
   "cell_type": "code",
   "execution_count": 7,
   "metadata": {},
   "outputs": [
    {
     "name": "stdout",
     "output_type": "stream",
     "text": [
      "(10, 20, 30)\n",
      "(40, 50, 60)\n",
      "{'e': 30, 'd': 20}\n"
     ]
    }
   ],
   "source": [
    "def fun(a,b,c=0,*args,**kwargs):\n",
    "    print(a,b,c)\n",
    "    print (args)\n",
    "    print(kwargs)\n",
    "fun(10,20,30,40,50,60,d=20,e=30)\n",
    "    "
   ]
  },
  {
   "cell_type": "code",
   "execution_count": 8,
   "metadata": {},
   "outputs": [
    {
     "name": "stdout",
     "output_type": "stream",
     "text": [
      "(10, 20, 30)\n",
      "(40, 50, 60)\n",
      "{'e': 30, 'd': 20}\n",
      "(100, 200, 0)\n",
      "()\n",
      "{}\n"
     ]
    }
   ],
   "source": [
    "def fun(a,b,c=0,*args,**kwargs):\n",
    "    print(a,b,c)\n",
    "    print (args)\n",
    "    print(kwargs)\n",
    "fun(10,20,30,40,50,60,d=20,e=30)\n",
    "fun(100,200)    "
   ]
  },
  {
   "cell_type": "code",
   "execution_count": 9,
   "metadata": {},
   "outputs": [
    {
     "ename": "SyntaxError",
     "evalue": "non-keyword arg after keyword arg (<ipython-input-9-da5940ef94ae>, line 5)",
     "output_type": "error",
     "traceback": [
      "\u001b[0;36m  File \u001b[0;32m\"<ipython-input-9-da5940ef94ae>\"\u001b[0;36m, line \u001b[0;32m5\u001b[0m\n\u001b[0;31m    fun(10,20,30,40,50,60,d=20,e=30,20)\u001b[0m\n\u001b[0;31mSyntaxError\u001b[0m\u001b[0;31m:\u001b[0m non-keyword arg after keyword arg\n"
     ]
    }
   ],
   "source": [
    "def fun(a,b,c=0,*args,**kwargs):\n",
    "    print(a,b,c)\n",
    "    print (args)\n",
    "    print(kwargs)\n",
    "fun(10,20,30,40,50,60,d=20,e=30,20)\n",
    "fun(100,200)    "
   ]
  },
  {
   "cell_type": "code",
   "execution_count": 10,
   "metadata": {},
   "outputs": [
    {
     "name": "stdout",
     "output_type": "stream",
     "text": [
      "(10, 20, 30)\n",
      "(40, 50, 60)\n",
      "{'e': 30, 'd': 20}\n",
      "(100, 200, 10)\n",
      "()\n",
      "{}\n"
     ]
    }
   ],
   "source": [
    "def fun(a,b,c=10,*args,**kwargs):\n",
    "    print(a,b,c)\n",
    "    print (args)\n",
    "    print(kwargs)\n",
    "fun(10,20,30,40,50,60,d=20,e=30)\n",
    "fun(100,200)    "
   ]
  },
  {
   "cell_type": "code",
   "execution_count": 11,
   "metadata": {},
   "outputs": [
    {
     "name": "stdout",
     "output_type": "stream",
     "text": [
      "(20, 30, 300)\n",
      "()\n",
      "{}\n"
     ]
    }
   ],
   "source": [
    "def fun(a,b,c=0,*args,**kwargs):\n",
    "    print(a,b,c)\n",
    "    print (args)\n",
    "    print(kwargs)\n",
    "fun(c=300,a=20,b=30)"
   ]
  },
  {
   "cell_type": "code",
   "execution_count": 12,
   "metadata": {},
   "outputs": [
    {
     "ename": "SyntaxError",
     "evalue": "non-keyword arg after keyword arg (<ipython-input-12-4b1b19a69a55>, line 5)",
     "output_type": "error",
     "traceback": [
      "\u001b[0;36m  File \u001b[0;32m\"<ipython-input-12-4b1b19a69a55>\"\u001b[0;36m, line \u001b[0;32m5\u001b[0m\n\u001b[0;31m    fun(c=300,a=20,b=30,100,200)\u001b[0m\n\u001b[0;31mSyntaxError\u001b[0m\u001b[0;31m:\u001b[0m non-keyword arg after keyword arg\n"
     ]
    }
   ],
   "source": [
    "def fun(a,b,c=0,*args,**kwargs):\n",
    "    print(a,b,c)\n",
    "    print (args)\n",
    "    print(kwargs)\n",
    "fun(c=300,a=20,b=30,100,200)"
   ]
  },
  {
   "cell_type": "code",
   "execution_count": 13,
   "metadata": {},
   "outputs": [
    {
     "name": "stdout",
     "output_type": "stream",
     "text": [
      "(20, 30, 300)\n",
      "()\n",
      "{'e': 200, 'd': 100}\n"
     ]
    }
   ],
   "source": [
    "def fun(a,b,c=0,*args,**kwargs):\n",
    "    print(a,b,c)\n",
    "    print (args)\n",
    "    print(kwargs)\n",
    "fun(c=300,a=20,b=30,d=100,e=200)"
   ]
  },
  {
   "cell_type": "code",
   "execution_count": 14,
   "metadata": {},
   "outputs": [
    {
     "ename": "TypeError",
     "evalue": "fun() takes at least 2 arguments (2 given)",
     "output_type": "error",
     "traceback": [
      "\u001b[0;31m---------------------------------------------------------------------------\u001b[0m",
      "\u001b[0;31mTypeError\u001b[0m                                 Traceback (most recent call last)",
      "\u001b[0;32m<ipython-input-14-097915af54d1>\u001b[0m in \u001b[0;36m<module>\u001b[0;34m()\u001b[0m\n\u001b[1;32m      3\u001b[0m     \u001b[0;32mprint\u001b[0m \u001b[0;34m(\u001b[0m\u001b[0margs\u001b[0m\u001b[0;34m)\u001b[0m\u001b[0;34m\u001b[0m\u001b[0m\n\u001b[1;32m      4\u001b[0m     \u001b[0;32mprint\u001b[0m\u001b[0;34m(\u001b[0m\u001b[0mkwargs\u001b[0m\u001b[0;34m)\u001b[0m\u001b[0;34m\u001b[0m\u001b[0m\n\u001b[0;32m----> 5\u001b[0;31m \u001b[0mfun\u001b[0m\u001b[0;34m(\u001b[0m\u001b[0mc\u001b[0m\u001b[0;34m=\u001b[0m\u001b[0;36m300\u001b[0m\u001b[0;34m,\u001b[0m\u001b[0ma\u001b[0m\u001b[0;34m=\u001b[0m\u001b[0;36m20\u001b[0m\u001b[0;34m,\u001b[0m\u001b[0md\u001b[0m\u001b[0;34m=\u001b[0m\u001b[0;36m100\u001b[0m\u001b[0;34m,\u001b[0m\u001b[0me\u001b[0m\u001b[0;34m=\u001b[0m\u001b[0;36m200\u001b[0m\u001b[0;34m)\u001b[0m\u001b[0;34m\u001b[0m\u001b[0m\n\u001b[0m",
      "\u001b[0;31mTypeError\u001b[0m: fun() takes at least 2 arguments (2 given)"
     ]
    }
   ],
   "source": [
    "def fun(a,b,c=0,*args,**kwargs):\n",
    "    print(a,b,c)\n",
    "    print (args)\n",
    "    print(kwargs)\n",
    "fun(c=300,a=20,d=100,e=200)"
   ]
  },
  {
   "cell_type": "code",
   "execution_count": 15,
   "metadata": {},
   "outputs": [
    {
     "name": "stdout",
     "output_type": "stream",
     "text": [
      "(20, 300, 0)\n",
      "()\n",
      "{'e': 200, 'd': 100}\n"
     ]
    }
   ],
   "source": [
    "def fun(a,b,c=0,*args,**kwargs):\n",
    "    print(a,b,c)\n",
    "    print (args)\n",
    "    print(kwargs)\n",
    "fun(b=300, a=20,d=100,e=200)"
   ]
  },
  {
   "cell_type": "code",
   "execution_count": 16,
   "metadata": {},
   "outputs": [
    {
     "name": "stdout",
     "output_type": "stream",
     "text": [
      "30\n",
      "res= None\n"
     ]
    }
   ],
   "source": [
    "def fun(a,b):\n",
    "    print(a+b)\n",
    "res=fun(10,20)\n",
    "print \"res=\",res"
   ]
  },
  {
   "cell_type": "code",
   "execution_count": 17,
   "metadata": {},
   "outputs": [
    {
     "name": "stdout",
     "output_type": "stream",
     "text": [
      "30\n",
      "res= 10\n"
     ]
    }
   ],
   "source": [
    "def fun(a,b):\n",
    "    print(a+b)\n",
    "    return 10\n",
    "res=fun(10,20)\n",
    "print \"res=\",res"
   ]
  },
  {
   "cell_type": "code",
   "execution_count": 18,
   "metadata": {},
   "outputs": [
    {
     "name": "stdout",
     "output_type": "stream",
     "text": [
      "res= 10\n"
     ]
    }
   ],
   "source": [
    "def fun(a,b):\n",
    "    c=a+b\n",
    "    d=a-b\n",
    "    e=a*b\n",
    "    f=a/b\n",
    "    return 10\n",
    "res=fun(10,20)\n",
    "print \"res=\",res"
   ]
  },
  {
   "cell_type": "code",
   "execution_count": 19,
   "metadata": {},
   "outputs": [
    {
     "name": "stdout",
     "output_type": "stream",
     "text": [
      "res= 200\n"
     ]
    }
   ],
   "source": [
    "def fun(a,b):\n",
    "    c=a+b\n",
    "    d=a-b\n",
    "    e=a*b\n",
    "    f=a/b\n",
    "    return e\n",
    "res=fun(10,20)\n",
    "print \"res=\",res"
   ]
  },
  {
   "cell_type": "code",
   "execution_count": 20,
   "metadata": {},
   "outputs": [
    {
     "name": "stdout",
     "output_type": "stream",
     "text": [
      "res= (30, -10, 200, 0)\n"
     ]
    }
   ],
   "source": [
    "def fun(a,b):\n",
    "    c=a+b\n",
    "    d=a-b\n",
    "    e=a*b\n",
    "    f=a/b\n",
    "    return c,d,e,f\n",
    "res=fun(10,20)\n",
    "print \"res=\",res"
   ]
  },
  {
   "cell_type": "code",
   "execution_count": 21,
   "metadata": {},
   "outputs": [
    {
     "name": "stdout",
     "output_type": "stream",
     "text": [
      "res= None\n"
     ]
    }
   ],
   "source": [
    "def fun(a,b):\n",
    "    c=a+b\n",
    "    d=a-b\n",
    "    e=a*b\n",
    "    f=a/b\n",
    "    #return c,d,e,f\n",
    "res=fun(10,20)\n",
    "print \"res=\",res"
   ]
  },
  {
   "cell_type": "code",
   "execution_count": 22,
   "metadata": {},
   "outputs": [
    {
     "name": "stdout",
     "output_type": "stream",
     "text": [
      "100\n"
     ]
    }
   ],
   "source": [
    "a=100\n",
    "def fun():\n",
    "    print(a)\n",
    "fun()"
   ]
  },
  {
   "cell_type": "code",
   "execution_count": 23,
   "metadata": {},
   "outputs": [
    {
     "name": "stdout",
     "output_type": "stream",
     "text": [
      "200\n"
     ]
    }
   ],
   "source": [
    "a=100\n",
    "def fun(a):\n",
    "    print(a)\n",
    "fun(200)"
   ]
  },
  {
   "cell_type": "code",
   "execution_count": 24,
   "metadata": {},
   "outputs": [
    {
     "name": "stdout",
     "output_type": "stream",
     "text": [
      "a outside fun before calling: 100\n",
      "200\n",
      "a outside fun after calling: 100\n"
     ]
    }
   ],
   "source": [
    "a=100\n",
    "print \"a outside fun before calling:\",a\n",
    "def fun(a):\n",
    "    print(a)\n",
    "fun(200)\n",
    "print \"a outside fun after calling:\",a"
   ]
  },
  {
   "cell_type": "code",
   "execution_count": 25,
   "metadata": {},
   "outputs": [
    {
     "name": "stdout",
     "output_type": "stream",
     "text": [
      "400\n"
     ]
    },
    {
     "ename": "NameError",
     "evalue": "name 'a123' is not defined",
     "output_type": "error",
     "traceback": [
      "\u001b[0;31m---------------------------------------------------------------------------\u001b[0m",
      "\u001b[0;31mNameError\u001b[0m                                 Traceback (most recent call last)",
      "\u001b[0;32m<ipython-input-25-82d5051a6906>\u001b[0m in \u001b[0;36m<module>\u001b[0;34m()\u001b[0m\n\u001b[1;32m      4\u001b[0m     \u001b[0;32mprint\u001b[0m \u001b[0;34m(\u001b[0m\u001b[0ma123\u001b[0m\u001b[0;34m)\u001b[0m\u001b[0;34m\u001b[0m\u001b[0m\n\u001b[1;32m      5\u001b[0m \u001b[0mfun\u001b[0m\u001b[0;34m(\u001b[0m\u001b[0;36m200\u001b[0m\u001b[0;34m)\u001b[0m\u001b[0;34m\u001b[0m\u001b[0m\n\u001b[0;32m----> 6\u001b[0;31m \u001b[0;32mprint\u001b[0m \u001b[0;34m(\u001b[0m\u001b[0ma123\u001b[0m\u001b[0;34m)\u001b[0m\u001b[0;34m\u001b[0m\u001b[0m\n\u001b[0m",
      "\u001b[0;31mNameError\u001b[0m: name 'a123' is not defined"
     ]
    }
   ],
   "source": [
    "a=100\n",
    "def fun(a):\n",
    "    a123=a+200\n",
    "    print (a123)\n",
    "fun(200)\n",
    "print (a123)"
   ]
  },
  {
   "cell_type": "code",
   "execution_count": 26,
   "metadata": {},
   "outputs": [
    {
     "name": "stdout",
     "output_type": "stream",
     "text": [
      "(100, 200)\n"
     ]
    }
   ],
   "source": [
    "def fun(a1,b1):\n",
    "    print (a1,b1)\n",
    "    c=a1+b1\n",
    "fun(100,200)\n"
   ]
  },
  {
   "cell_type": "code",
   "execution_count": 27,
   "metadata": {},
   "outputs": [
    {
     "name": "stdout",
     "output_type": "stream",
     "text": [
      "(100, 200)\n"
     ]
    },
    {
     "ename": "NameError",
     "evalue": "name 'a1' is not defined",
     "output_type": "error",
     "traceback": [
      "\u001b[0;31m---------------------------------------------------------------------------\u001b[0m",
      "\u001b[0;31mNameError\u001b[0m                                 Traceback (most recent call last)",
      "\u001b[0;32m<ipython-input-27-a140dc6e8685>\u001b[0m in \u001b[0;36m<module>\u001b[0;34m()\u001b[0m\n\u001b[1;32m      3\u001b[0m     \u001b[0mc\u001b[0m\u001b[0;34m=\u001b[0m\u001b[0ma1\u001b[0m\u001b[0;34m+\u001b[0m\u001b[0mb1\u001b[0m\u001b[0;34m\u001b[0m\u001b[0m\n\u001b[1;32m      4\u001b[0m \u001b[0mfun\u001b[0m\u001b[0;34m(\u001b[0m\u001b[0;36m100\u001b[0m\u001b[0;34m,\u001b[0m\u001b[0;36m200\u001b[0m\u001b[0;34m)\u001b[0m\u001b[0;34m\u001b[0m\u001b[0m\n\u001b[0;32m----> 5\u001b[0;31m \u001b[0;32mprint\u001b[0m \u001b[0ma1\u001b[0m\u001b[0;34m,\u001b[0m\u001b[0mb1\u001b[0m\u001b[0;34m\u001b[0m\u001b[0m\n\u001b[0m",
      "\u001b[0;31mNameError\u001b[0m: name 'a1' is not defined"
     ]
    }
   ],
   "source": [
    "a=100\n",
    "a1=200\n",
    "def fun(a1,b1):\n",
    "    print (a1,b1)\n",
    "    c=a1+b1\n",
    "fun(100,200)\n",
    "print a1,b1"
   ]
  },
  {
   "cell_type": "code",
   "execution_count": 28,
   "metadata": {},
   "outputs": [
    {
     "name": "stdout",
     "output_type": "stream",
     "text": [
      "outside fun before call : a1=200, b1=400\n",
      "('a inside fun:', 100)\n",
      "inside fun: a1=1000, b1=2000\n",
      "outside fun after call : a1=200, b1=400\n",
      "('a inside fun:', 100)\n",
      "inside fun: a1=3000, b1=4000\n"
     ]
    }
   ],
   "source": [
    "a=100\n",
    "a1=200\n",
    "b1=400\n",
    "print (\"outside fun before call : a1=%s, b1=%s\"%(a1,b1))\n",
    "def fun(a1,b1):\n",
    "    print (\"a inside fun:\",a)\n",
    "    print (\"inside fun: a1=%s, b1=%s\"%(a1,b1))\n",
    "    c=a1+b1\n",
    "fun(1000,2000)\n",
    "print (\"outside fun after call : a1=%s, b1=%s\"%(a1,b1))\n",
    "fun(3000,4000)"
   ]
  },
  {
   "cell_type": "code",
   "execution_count": null,
   "metadata": {
    "collapsed": true
   },
   "outputs": [],
   "source": [
    "a=100\n",
    "a1=200\n",
    "b1=400\n",
    "print (\"outside fun before call : a1=%s, b1=%s\"%(a1,b1))\n",
    "print (\"a outside fun before call:\",a)\n",
    "def fun(a1,b1):\n",
    "    global a\n",
    "    a=123\n",
    "    print (\"a inside fun:\",a)\n",
    "    print (\"inside fun: a1=%s, b1=%s\"%(a1,b1))\n",
    "    c=a1+b1\n",
    "fun(1000,2000)\n",
    "print (\"outside fun after call : a1=%s, b1=%s\"%(a1,b1))\n",
    "fun(3000,4000)\n",
    "print (\"a outside fun after call:\",a)"
   ]
  }
 ],
 "metadata": {
  "kernelspec": {
   "display_name": "Python 2",
   "language": "python",
   "name": "python2"
  },
  "language_info": {
   "codemirror_mode": {
    "name": "ipython",
    "version": 2
   },
   "file_extension": ".py",
   "mimetype": "text/x-python",
   "name": "python",
   "nbconvert_exporter": "python",
   "pygments_lexer": "ipython2",
   "version": "2.7.14"
  }
 },
 "nbformat": 4,
 "nbformat_minor": 2
}
