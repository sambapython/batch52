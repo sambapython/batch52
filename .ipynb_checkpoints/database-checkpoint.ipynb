{
 "cells": [
  {
   "cell_type": "code",
   "execution_count": 1,
   "metadata": {},
   "outputs": [],
   "source": [
    "import sqlite3"
   ]
  },
  {
   "cell_type": "code",
   "execution_count": 2,
   "metadata": {},
   "outputs": [],
   "source": [
    "con = sqlite3.connect(\"batch52.sqlite3\")"
   ]
  },
  {
   "cell_type": "code",
   "execution_count": 3,
   "metadata": {},
   "outputs": [],
   "source": [
    "cur=con.cursor()"
   ]
  },
  {
   "cell_type": "code",
   "execution_count": 5,
   "metadata": {},
   "outputs": [
    {
     "data": {
      "text/plain": [
       "<sqlite3.Cursor at 0x7fad4cf939d0>"
      ]
     },
     "execution_count": 5,
     "metadata": {},
     "output_type": "execute_result"
    }
   ],
   "source": [
    "cur.execute(\"create table customer(id int, name varchar(250))\")"
   ]
  },
  {
   "cell_type": "code",
   "execution_count": 6,
   "metadata": {},
   "outputs": [
    {
     "data": {
      "text/plain": [
       "<sqlite3.Cursor at 0x7fad4cf939d0>"
      ]
     },
     "execution_count": 6,
     "metadata": {},
     "output_type": "execute_result"
    }
   ],
   "source": [
    "cur.execute(\"insert into customer(id, name) values(1,'JAYARAM')\")"
   ]
  },
  {
   "cell_type": "code",
   "execution_count": 7,
   "metadata": {},
   "outputs": [],
   "source": [
    "con.commit()"
   ]
  },
  {
   "cell_type": "code",
   "execution_count": 8,
   "metadata": {},
   "outputs": [],
   "source": [
    "names=[\"kaushik\",\"sanjay\",\"sravani\",\"madhuri\",\"samba\"]\n",
    "import random\n",
    "for i in range(2,102):\n",
    "    q=\"insert into customer(id,name) values(%s, '%s')\"%(i, random.choice(names))\n",
    "    cur.execute(q)\n",
    "con.commit()"
   ]
  },
  {
   "cell_type": "code",
   "execution_count": 9,
   "metadata": {},
   "outputs": [
    {
     "data": {
      "text/plain": [
       "<sqlite3.Cursor at 0x7fad4cf939d0>"
      ]
     },
     "execution_count": 9,
     "metadata": {},
     "output_type": "execute_result"
    }
   ],
   "source": [
    "q=\"select * from customer\"\n",
    "cur.execute(q)"
   ]
  },
  {
   "cell_type": "code",
   "execution_count": 10,
   "metadata": {},
   "outputs": [],
   "source": [
    "data=cur.fetchall()"
   ]
  },
  {
   "cell_type": "code",
   "execution_count": 11,
   "metadata": {},
   "outputs": [
    {
     "name": "stdout",
     "output_type": "stream",
     "text": [
      "[(1, 'JAYARAM'), (2, 'samba'), (3, 'sanjay'), (4, 'madhuri'), (5, 'sanjay'), (6, 'madhuri'), (7, 'kaushik'), (8, 'sravani'), (9, 'samba'), (10, 'sanjay'), (11, 'madhuri'), (12, 'samba'), (13, 'madhuri'), (14, 'samba'), (15, 'samba'), (16, 'sravani'), (17, 'madhuri'), (18, 'kaushik'), (19, 'kaushik'), (20, 'madhuri'), (21, 'sravani'), (22, 'samba'), (23, 'sanjay'), (24, 'madhuri'), (25, 'samba'), (26, 'kaushik'), (27, 'sanjay'), (28, 'sanjay'), (29, 'sanjay'), (30, 'sravani'), (31, 'kaushik'), (32, 'madhuri'), (33, 'madhuri'), (34, 'sravani'), (35, 'samba'), (36, 'sravani'), (37, 'samba'), (38, 'samba'), (39, 'sanjay'), (40, 'kaushik'), (41, 'kaushik'), (42, 'samba'), (43, 'sanjay'), (44, 'samba'), (45, 'kaushik'), (46, 'madhuri'), (47, 'kaushik'), (48, 'kaushik'), (49, 'kaushik'), (50, 'sanjay'), (51, 'kaushik'), (52, 'kaushik'), (53, 'sravani'), (54, 'sravani'), (55, 'sravani'), (56, 'samba'), (57, 'sravani'), (58, 'sanjay'), (59, 'sanjay'), (60, 'madhuri'), (61, 'samba'), (62, 'sravani'), (63, 'kaushik'), (64, 'madhuri'), (65, 'sravani'), (66, 'madhuri'), (67, 'kaushik'), (68, 'samba'), (69, 'sravani'), (70, 'sanjay'), (71, 'madhuri'), (72, 'sanjay'), (73, 'samba'), (74, 'sanjay'), (75, 'sanjay'), (76, 'sravani'), (77, 'samba'), (78, 'sravani'), (79, 'sanjay'), (80, 'sanjay'), (81, 'kaushik'), (82, 'kaushik'), (83, 'kaushik'), (84, 'sanjay'), (85, 'sanjay'), (86, 'sanjay'), (87, 'sravani'), (88, 'sravani'), (89, 'madhuri'), (90, 'madhuri'), (91, 'madhuri'), (92, 'sravani'), (93, 'kaushik'), (94, 'madhuri'), (95, 'sravani'), (96, 'kaushik'), (97, 'sravani'), (98, 'kaushik'), (99, 'kaushik'), (100, 'sravani'), (101, 'sanjay')]\n"
     ]
    }
   ],
   "source": [
    "print (data)"
   ]
  },
  {
   "cell_type": "code",
   "execution_count": 12,
   "metadata": {},
   "outputs": [
    {
     "name": "stdout",
     "output_type": "stream",
     "text": [
      "(101,)\n"
     ]
    }
   ],
   "source": [
    "q=\"select count(*) from customer\"\n",
    "cur.execute(q)\n",
    "print(cur.fetchone())"
   ]
  },
  {
   "cell_type": "code",
   "execution_count": 13,
   "metadata": {},
   "outputs": [
    {
     "name": "stdout",
     "output_type": "stream",
     "text": [
      "(17,)\n"
     ]
    }
   ],
   "source": [
    "q=\"select count(*) from customer where name='samba'\"\n",
    "cur.execute(q)\n",
    "print(cur.fetchone())"
   ]
  },
  {
   "cell_type": "code",
   "execution_count": 14,
   "metadata": {},
   "outputs": [
    {
     "name": "stdout",
     "output_type": "stream",
     "text": [
      "enter name:kaushik\n",
      "(22,)\n"
     ]
    }
   ],
   "source": [
    "name=input(\"enter name:\")\n",
    "q=\"select count(*) from customer where name='%s'\"%name\n",
    "cur.execute(q)\n",
    "print(cur.fetchone())"
   ]
  },
  {
   "cell_type": "code",
   "execution_count": 15,
   "metadata": {},
   "outputs": [
    {
     "name": "stdout",
     "output_type": "stream",
     "text": [
      "enter name:\n",
      "None\n"
     ]
    }
   ],
   "source": [
    "name=input(\"enter name:\")\n",
    "q=\"select count(*) from customer where name='%s' group by name\"%name\n",
    "cur.execute(q)\n",
    "print(cur.fetchone())"
   ]
  },
  {
   "cell_type": "code",
   "execution_count": 19,
   "metadata": {},
   "outputs": [
    {
     "name": "stdout",
     "output_type": "stream",
     "text": [
      "[(1,), (22,), (18,), (17,), (22,), (21,)]\n"
     ]
    }
   ],
   "source": [
    "#name=input(\"enter name:\")\n",
    "q=\"select count(*) from customer group by name\"\n",
    "cur.execute(q)\n",
    "print(cur.fetchall())"
   ]
  },
  {
   "cell_type": "code",
   "execution_count": 21,
   "metadata": {},
   "outputs": [
    {
     "name": "stdout",
     "output_type": "stream",
     "text": [
      "Enter an id:12\n",
      "(12, 'samba')\n"
     ]
    }
   ],
   "source": [
    "c_id=input(\"Enter an id:\")\n",
    "q=\"select * from customer where id=%s\"%c_id\n",
    "cur.execute(q)\n",
    "print(cur.fetchone())"
   ]
  },
  {
   "cell_type": "code",
   "execution_count": 22,
   "metadata": {},
   "outputs": [],
   "source": [
    "con.close()"
   ]
  },
  {
   "cell_type": "code",
   "execution_count": null,
   "metadata": {},
   "outputs": [],
   "source": [
    "def get_connect()"
   ]
  }
 ],
 "metadata": {
  "kernelspec": {
   "display_name": "Python 3",
   "language": "python",
   "name": "python3"
  },
  "language_info": {
   "codemirror_mode": {
    "name": "ipython",
    "version": 3
   },
   "file_extension": ".py",
   "mimetype": "text/x-python",
   "name": "python",
   "nbconvert_exporter": "python",
   "pygments_lexer": "ipython3",
   "version": "3.7.0"
  }
 },
 "nbformat": 4,
 "nbformat_minor": 2
}
